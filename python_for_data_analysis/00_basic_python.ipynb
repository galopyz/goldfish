{
 "cells": [
  {
   "cell_type": "markdown",
   "id": "ed425062",
   "metadata": {},
   "source": [
    "# IPython tips"
   ]
  },
  {
   "cell_type": "markdown",
   "id": "8f0a3b8a",
   "metadata": {},
   "source": [
    "Here are some functionalities and tips I tend to forget a lot. From https://wesmckinney.com/book/python-basics"
   ]
  },
  {
   "cell_type": "markdown",
   "id": "2476cc64",
   "metadata": {},
   "source": [
    "## Introspection"
   ]
  },
  {
   "cell_type": "markdown",
   "id": "6ed91cee",
   "metadata": {},
   "source": [
    "Help with `?`"
   ]
  },
  {
   "cell_type": "code",
   "execution_count": 2,
   "id": "b385224b",
   "metadata": {},
   "outputs": [],
   "source": [
    "list?"
   ]
  },
  {
   "cell_type": "markdown",
   "id": "ee0204f9",
   "metadata": {},
   "source": [
    "Pattern match with `?` and `*`"
   ]
  },
  {
   "cell_type": "code",
   "execution_count": 3,
   "id": "71a050b0",
   "metadata": {},
   "outputs": [],
   "source": [
    "list.c*?"
   ]
  },
  {
   "cell_type": "markdown",
   "id": "499664a6",
   "metadata": {},
   "source": [
    "## Type checking"
   ]
  },
  {
   "cell_type": "markdown",
   "id": "6e3c9026",
   "metadata": {},
   "source": [
    "`isinstance` can take tuple of types!"
   ]
  },
  {
   "cell_type": "code",
   "execution_count": 4,
   "id": "d6498e8e",
   "metadata": {},
   "outputs": [
    {
     "data": {
      "text/plain": [
       "True"
      ]
     },
     "execution_count": 4,
     "metadata": {},
     "output_type": "execute_result"
    }
   ],
   "source": [
    "a = 1; b = 1.5\n",
    "isinstance(a, (int, float))"
   ]
  },
  {
   "cell_type": "markdown",
   "id": "94a69b7f",
   "metadata": {},
   "source": [
    "## Duck typing"
   ]
  },
  {
   "cell_type": "markdown",
   "id": "a0b50b37",
   "metadata": {},
   "source": [
    "Checking whther an object has certain method. \"If it walks like a duck and quaks like a duck, it is a duck.\""
   ]
  },
  {
   "cell_type": "code",
   "execution_count": 5,
   "id": "2d1f0d0b",
   "metadata": {},
   "outputs": [],
   "source": [
    "def isiterable(obj):\n",
    "    try:\n",
    "         iter(obj)\n",
    "         return True\n",
    "    except TypeError: # not iterable\n",
    "         return False"
   ]
  },
  {
   "cell_type": "code",
   "execution_count": 6,
   "id": "8847c662",
   "metadata": {},
   "outputs": [
    {
     "data": {
      "text/plain": [
       "False"
      ]
     },
     "execution_count": 6,
     "metadata": {},
     "output_type": "execute_result"
    }
   ],
   "source": [
    "isiterable(list)"
   ]
  },
  {
   "cell_type": "code",
   "execution_count": 7,
   "id": "e65d27cd",
   "metadata": {},
   "outputs": [
    {
     "data": {
      "text/plain": [
       "True"
      ]
     },
     "execution_count": 7,
     "metadata": {},
     "output_type": "execute_result"
    }
   ],
   "source": [
    "isiterable([1,2])"
   ]
  },
  {
   "cell_type": "markdown",
   "id": "2f12775d",
   "metadata": {},
   "source": [
    "## Equality check"
   ]
  },
  {
   "cell_type": "code",
   "execution_count": 8,
   "id": "b81aaae6",
   "metadata": {},
   "outputs": [
    {
     "data": {
      "text/plain": [
       "True"
      ]
     },
     "execution_count": 8,
     "metadata": {},
     "output_type": "execute_result"
    }
   ],
   "source": [
    "lst1 = [1,2]\n",
    "lst2 = lst1\n",
    "lst1 == lst2"
   ]
  },
  {
   "cell_type": "code",
   "execution_count": 9,
   "id": "df8384ad",
   "metadata": {},
   "outputs": [
    {
     "data": {
      "text/plain": [
       "True"
      ]
     },
     "execution_count": 9,
     "metadata": {},
     "output_type": "execute_result"
    }
   ],
   "source": [
    "lst1 is lst2"
   ]
  },
  {
   "cell_type": "markdown",
   "id": "8345118a",
   "metadata": {},
   "source": [
    "`lst1` and `lst2` are the same."
   ]
  },
  {
   "cell_type": "markdown",
   "id": "be5ca4be",
   "metadata": {},
   "source": [
    "A new list object makes it different."
   ]
  },
  {
   "cell_type": "code",
   "execution_count": 10,
   "id": "233a4a89",
   "metadata": {},
   "outputs": [
    {
     "data": {
      "text/plain": [
       "True"
      ]
     },
     "execution_count": 10,
     "metadata": {},
     "output_type": "execute_result"
    }
   ],
   "source": [
    "lst3 = list(lst1)\n",
    "lst1 == lst3"
   ]
  },
  {
   "cell_type": "code",
   "execution_count": 11,
   "id": "8a978a22",
   "metadata": {},
   "outputs": [
    {
     "data": {
      "text/plain": [
       "False"
      ]
     },
     "execution_count": 11,
     "metadata": {},
     "output_type": "execute_result"
    }
   ],
   "source": [
    "lst1 is lst3"
   ]
  },
  {
   "cell_type": "markdown",
   "id": "07da4c27",
   "metadata": {},
   "source": [
    "They are the same with `==` (equality operator) because they have same values, but different with `is` (identity operator) due to different memory locations."
   ]
  },
  {
   "cell_type": "markdown",
   "id": "33782373",
   "metadata": {},
   "source": [
    "`is` can be used to test whether something is `None` or not because there can only be one `None` in python."
   ]
  },
  {
   "cell_type": "code",
   "execution_count": 12,
   "id": "c119c19f",
   "metadata": {},
   "outputs": [
    {
     "data": {
      "text/plain": [
       "True"
      ]
     },
     "execution_count": 12,
     "metadata": {},
     "output_type": "execute_result"
    }
   ],
   "source": [
    "None is None"
   ]
  },
  {
   "cell_type": "markdown",
   "id": "1ea2630c",
   "metadata": {},
   "source": [
    "## String template and format"
   ]
  },
  {
   "cell_type": "code",
   "execution_count": 13,
   "id": "4d93da5f",
   "metadata": {},
   "outputs": [
    {
     "data": {
      "text/plain": [
       "'40.33 hihi are worth US$3)'"
      ]
     },
     "execution_count": 13,
     "metadata": {},
     "output_type": "execute_result"
    }
   ],
   "source": [
    "template = \"{0:.2f} {1:s} are worth US${2:d})\"\n",
    "template.format(40.333, \"hihi\", 3)"
   ]
  },
  {
   "cell_type": "markdown",
   "id": "5d853b0a",
   "metadata": {},
   "source": [
    "- `{0:.2f}`: More on https://docs.python.org/3/library/string.html"
   ]
  },
  {
   "cell_type": "markdown",
   "id": "be933542",
   "metadata": {},
   "source": [
    "## Popping dictionary"
   ]
  },
  {
   "cell_type": "code",
   "execution_count": 14,
   "id": "1b1300c5",
   "metadata": {},
   "outputs": [
    {
     "data": {
      "text/plain": [
       "'hola'"
      ]
     },
     "execution_count": 14,
     "metadata": {},
     "output_type": "execute_result"
    }
   ],
   "source": [
    "d1 = {'hi':'hola', 'bye':'adios'}\n",
    "greeting = d1.pop('hi')\n",
    "greeting"
   ]
  },
  {
   "cell_type": "markdown",
   "id": "98282c05",
   "metadata": {},
   "source": [
    "## Files and operating syste"
   ]
  },
  {
   "cell_type": "markdown",
   "id": "9f9803d1",
   "metadata": {},
   "source": [
    "From https://wesmckinney.com/book/python-builtin#files_os"
   ]
  },
  {
   "cell_type": "markdown",
   "id": "1c064419",
   "metadata": {},
   "source": [
    "## Metaclasses"
   ]
  },
  {
   "cell_type": "markdown",
   "id": "4938adc0",
   "metadata": {},
   "source": [
    "In new python, type of an object is class. Reading from [python-metaclasses](https://realpython.com/python-metaclasses/)."
   ]
  },
  {
   "cell_type": "code",
   "execution_count": 15,
   "id": "3453a5b8",
   "metadata": {},
   "outputs": [
    {
     "data": {
      "text/plain": [
       "True"
      ]
     },
     "execution_count": 15,
     "metadata": {},
     "output_type": "execute_result"
    }
   ],
   "source": [
    "class Foo: pass\n",
    "obj = Foo()\n",
    "obj.__class__ is type(obj)"
   ]
  },
  {
   "cell_type": "code",
   "execution_count": 16,
   "id": "bd880b12",
   "metadata": {},
   "outputs": [
    {
     "data": {
      "text/plain": [
       "True"
      ]
     },
     "execution_count": 16,
     "metadata": {},
     "output_type": "execute_result"
    }
   ],
   "source": [
    "[].__class__ is type([])"
   ]
  },
  {
   "cell_type": "markdown",
   "id": "331d8f3d",
   "metadata": {},
   "source": [
    "All the built-in classes are `type`."
   ]
  },
  {
   "cell_type": "code",
   "execution_count": 17,
   "id": "1e393e0c",
   "metadata": {},
   "outputs": [
    {
     "name": "stdout",
     "output_type": "stream",
     "text": [
      "<class 'type'>\n",
      "<class 'type'>\n",
      "<class 'type'>\n",
      "<class 'type'>\n",
      "<class 'type'>\n"
     ]
    }
   ],
   "source": [
    "for t in int, float, dict, list, tuple: print(type(t))"
   ]
  },
  {
   "cell_type": "code",
   "execution_count": 18,
   "id": "0828f256",
   "metadata": {},
   "outputs": [
    {
     "data": {
      "text/plain": [
       "type"
      ]
     },
     "execution_count": 18,
     "metadata": {},
     "output_type": "execute_result"
    }
   ],
   "source": [
    "type(type)"
   ]
  },
  {
   "cell_type": "markdown",
   "id": "20425b70",
   "metadata": {},
   "source": [
    "`type` is a metaclass, and classes are \"instances\"."
   ]
  },
  {
   "cell_type": "markdown",
   "id": "3de4910d",
   "metadata": {},
   "source": [
    "### Creating classes dynamically"
   ]
  },
  {
   "cell_type": "markdown",
   "id": "0f2862b3",
   "metadata": {},
   "source": [
    "`type` is used to create classes as well with arguments."
   ]
  },
  {
   "cell_type": "markdown",
   "id": "5df5f64b",
   "metadata": {},
   "source": [
    "`type(name, bases, dict, **kwds) -> a new type`"
   ]
  },
  {
   "cell_type": "markdown",
   "id": "678a666a",
   "metadata": {},
   "source": [
    "#### Example 1"
   ]
  },
  {
   "cell_type": "markdown",
   "id": "c775043f",
   "metadata": {},
   "source": [
    "The simplest class."
   ]
  },
  {
   "cell_type": "code",
   "execution_count": 19,
   "id": "95e73dcf",
   "metadata": {},
   "outputs": [
    {
     "data": {
      "text/plain": [
       "<__main__.Foo at 0x7f728e64ba90>"
      ]
     },
     "execution_count": 19,
     "metadata": {},
     "output_type": "execute_result"
    }
   ],
   "source": [
    "Foo = type('Foo', (), {})\n",
    "\n",
    "x = Foo()\n",
    "x"
   ]
  },
  {
   "cell_type": "code",
   "execution_count": 20,
   "id": "b24c8ff1",
   "metadata": {},
   "outputs": [
    {
     "data": {
      "text/plain": [
       "<__main__.Foo at 0x7f728d330550>"
      ]
     },
     "execution_count": 20,
     "metadata": {},
     "output_type": "execute_result"
    }
   ],
   "source": [
    "class Foo:\n",
    "    pass\n",
    "\n",
    "x = Foo()\n",
    "x"
   ]
  },
  {
   "cell_type": "markdown",
   "id": "1e9e52e9",
   "metadata": {},
   "source": [
    "#### Example 2"
   ]
  },
  {
   "cell_type": "markdown",
   "id": "628017d9",
   "metadata": {},
   "source": [
    "A class with a base and an attribute."
   ]
  },
  {
   "cell_type": "code",
   "execution_count": 21,
   "id": "99cc8c1c",
   "metadata": {},
   "outputs": [
    {
     "data": {
      "text/plain": [
       "100"
      ]
     },
     "execution_count": 21,
     "metadata": {},
     "output_type": "execute_result"
    }
   ],
   "source": [
    "Bar = type('Bar', (Foo,), dict(attr=100))\n",
    "\n",
    "x = Bar()\n",
    "x.attr"
   ]
  },
  {
   "cell_type": "code",
   "execution_count": 22,
   "id": "97e4b34f",
   "metadata": {},
   "outputs": [
    {
     "data": {
      "text/plain": [
       "__main__.Bar"
      ]
     },
     "execution_count": 22,
     "metadata": {},
     "output_type": "execute_result"
    }
   ],
   "source": [
    "x.__class__"
   ]
  },
  {
   "cell_type": "code",
   "execution_count": 23,
   "id": "51297955",
   "metadata": {},
   "outputs": [
    {
     "data": {
      "text/plain": [
       "(__main__.Foo,)"
      ]
     },
     "execution_count": 23,
     "metadata": {},
     "output_type": "execute_result"
    }
   ],
   "source": [
    "x.__class__.__bases__"
   ]
  },
  {
   "cell_type": "code",
   "execution_count": 24,
   "id": "e7712dd0",
   "metadata": {},
   "outputs": [
    {
     "data": {
      "text/plain": [
       "100"
      ]
     },
     "execution_count": 24,
     "metadata": {},
     "output_type": "execute_result"
    }
   ],
   "source": [
    "class Bar(Foo):\n",
    "    attr = 100\n",
    "\n",
    "\n",
    "x = Bar()\n",
    "x.attr"
   ]
  },
  {
   "cell_type": "code",
   "execution_count": 25,
   "id": "ce45683f",
   "metadata": {},
   "outputs": [
    {
     "data": {
      "text/plain": [
       "__main__.Bar"
      ]
     },
     "execution_count": 25,
     "metadata": {},
     "output_type": "execute_result"
    }
   ],
   "source": [
    "x.__class__"
   ]
  },
  {
   "cell_type": "code",
   "execution_count": 26,
   "id": "a4bd6d39",
   "metadata": {},
   "outputs": [
    {
     "data": {
      "text/plain": [
       "(__main__.Foo,)"
      ]
     },
     "execution_count": 26,
     "metadata": {},
     "output_type": "execute_result"
    }
   ],
   "source": [
    "x.__class__.__bases__"
   ]
  },
  {
   "cell_type": "markdown",
   "id": "3cab8405",
   "metadata": {},
   "source": [
    "#### Example 3"
   ]
  },
  {
   "cell_type": "markdown",
   "id": "740eaf69",
   "metadata": {},
   "source": [
    "A class with no base, but two attributes."
   ]
  },
  {
   "cell_type": "code",
   "execution_count": 27,
   "id": "c42fdea2",
   "metadata": {},
   "outputs": [
    {
     "data": {
      "text/plain": [
       "100"
      ]
     },
     "execution_count": 27,
     "metadata": {},
     "output_type": "execute_result"
    }
   ],
   "source": [
    "Foo = type(\n",
    "    'Foo',\n",
    "    (),\n",
    "    {\n",
    "        'attr': 100,\n",
    "        'attr_val': lambda x : x.attr\n",
    "    }\n",
    ")\n",
    "\n",
    "x = Foo()\n",
    "x.attr"
   ]
  },
  {
   "cell_type": "code",
   "execution_count": 28,
   "id": "7c60453d",
   "metadata": {},
   "outputs": [
    {
     "data": {
      "text/plain": [
       "100"
      ]
     },
     "execution_count": 28,
     "metadata": {},
     "output_type": "execute_result"
    }
   ],
   "source": [
    "x.attr_val()"
   ]
  },
  {
   "cell_type": "code",
   "execution_count": 29,
   "id": "30b58ecf",
   "metadata": {},
   "outputs": [
    {
     "data": {
      "text/plain": [
       "100"
      ]
     },
     "execution_count": 29,
     "metadata": {},
     "output_type": "execute_result"
    }
   ],
   "source": [
    "class Foo:\n",
    "    attr = 100\n",
    "    def attr_val(self):\n",
    "        return self.attr\n",
    "\n",
    "\n",
    "x = Foo()\n",
    "x.attr"
   ]
  },
  {
   "cell_type": "code",
   "execution_count": 30,
   "id": "ee5631a2",
   "metadata": {},
   "outputs": [
    {
     "data": {
      "text/plain": [
       "100"
      ]
     },
     "execution_count": 30,
     "metadata": {},
     "output_type": "execute_result"
    }
   ],
   "source": [
    "x.attr_val()"
   ]
  },
  {
   "cell_type": "markdown",
   "id": "331934ae",
   "metadata": {},
   "source": [
    "#### Example 4"
   ]
  },
  {
   "cell_type": "markdown",
   "id": "8d58f50a",
   "metadata": {},
   "source": [
    "Attributes can be defined externally."
   ]
  },
  {
   "cell_type": "code",
   "execution_count": 31,
   "id": "2b09ce24",
   "metadata": {},
   "outputs": [],
   "source": [
    "def f(obj):\n",
    "    print('attr =', obj.attr)"
   ]
  },
  {
   "cell_type": "code",
   "execution_count": 32,
   "id": "0aace6e6",
   "metadata": {},
   "outputs": [
    {
     "data": {
      "text/plain": [
       "100"
      ]
     },
     "execution_count": 32,
     "metadata": {},
     "output_type": "execute_result"
    }
   ],
   "source": [
    "Foo = type(\n",
    "    'Foo',\n",
    "    (),\n",
    "    {'attr': 100, 'attr_val': f}\n",
    ")\n",
    "\n",
    "x = Foo()\n",
    "x.attr"
   ]
  },
  {
   "cell_type": "code",
   "execution_count": 33,
   "id": "96fff427",
   "metadata": {},
   "outputs": [
    {
     "name": "stdout",
     "output_type": "stream",
     "text": [
      "attr = 100\n"
     ]
    }
   ],
   "source": [
    "x.attr_val()"
   ]
  },
  {
   "cell_type": "code",
   "execution_count": 34,
   "id": "7336b97a",
   "metadata": {},
   "outputs": [
    {
     "data": {
      "text/plain": [
       "100"
      ]
     },
     "execution_count": 34,
     "metadata": {},
     "output_type": "execute_result"
    }
   ],
   "source": [
    "class Foo:\n",
    "    attr = 100\n",
    "    attr_val = f\n",
    "\n",
    "\n",
    "x = Foo()\n",
    "x.attr"
   ]
  },
  {
   "cell_type": "code",
   "execution_count": 35,
   "id": "ef3d109f",
   "metadata": {},
   "outputs": [
    {
     "name": "stdout",
     "output_type": "stream",
     "text": [
      "attr = 100\n"
     ]
    }
   ],
   "source": [
    "x.attr_val()"
   ]
  },
  {
   "cell_type": "markdown",
   "id": "81566164",
   "metadata": {},
   "source": [
    "### Custom metaclasses"
   ]
  },
  {
   "cell_type": "code",
   "execution_count": 36,
   "id": "9b83396f",
   "metadata": {},
   "outputs": [],
   "source": [
    "class Foo: pass\n",
    "\n",
    "f = Foo()"
   ]
  },
  {
   "cell_type": "markdown",
   "id": "812fb981",
   "metadata": {},
   "source": [
    "When `Foo` creates an instance, it calls `__new__()` and `__init__()`."
   ]
  },
  {
   "cell_type": "code",
   "execution_count": 37,
   "id": "2aa3b8f9",
   "metadata": {},
   "outputs": [
    {
     "name": "stdout",
     "output_type": "stream",
     "text": [
      "<class '__main__.Foo'>\n"
     ]
    },
    {
     "data": {
      "text/plain": [
       "100"
      ]
     },
     "execution_count": 37,
     "metadata": {},
     "output_type": "execute_result"
    }
   ],
   "source": [
    "def new(cls):\n",
    "    print(cls)\n",
    "    x = object.__new__(cls)\n",
    "    x.attr = 100\n",
    "    return x\n",
    "\n",
    "Foo.__new__ = new\n",
    "\n",
    "f = Foo()\n",
    "f.attr"
   ]
  },
  {
   "cell_type": "code",
   "execution_count": 38,
   "id": "026911e4",
   "metadata": {},
   "outputs": [
    {
     "name": "stdout",
     "output_type": "stream",
     "text": [
      "<class '__main__.Foo'>\n"
     ]
    },
    {
     "data": {
      "text/plain": [
       "100"
      ]
     },
     "execution_count": 38,
     "metadata": {},
     "output_type": "execute_result"
    }
   ],
   "source": [
    "g = Foo()\n",
    "g.attr"
   ]
  },
  {
   "cell_type": "code",
   "execution_count": 39,
   "id": "cbf142d2",
   "metadata": {},
   "outputs": [
    {
     "data": {
      "text/plain": [
       "<function object.__new__(*args, **kwargs)>"
      ]
     },
     "execution_count": 39,
     "metadata": {},
     "output_type": "execute_result"
    }
   ],
   "source": [
    "object.__new__"
   ]
  },
  {
   "cell_type": "code",
   "execution_count": 74,
   "id": "9b850b4a",
   "metadata": {},
   "outputs": [
    {
     "name": "stdout",
     "output_type": "stream",
     "text": [
      "Creating instance...\n",
      "Initializing instance...\n"
     ]
    }
   ],
   "source": [
    "class MyClass(Bar):\n",
    "    def __new__(cls, *args, **kwargs):\n",
    "        print(\"Creating instance...\")\n",
    "        instance = super().__new__(cls)\n",
    "        return instance\n",
    "\n",
    "    def __init__(self, value):\n",
    "        print(\"Initializing instance...\")\n",
    "        self.value = value\n",
    "    \n",
    "obj = MyClass(10)"
   ]
  },
  {
   "cell_type": "markdown",
   "id": "346ea176",
   "metadata": {},
   "source": [
    "Reassigning `type.__new__` is not allowed."
   ]
  },
  {
   "cell_type": "code",
   "execution_count": 40,
   "id": "74a8b16c",
   "metadata": {},
   "outputs": [],
   "source": [
    "def new(cls):\n",
    "    x = type.__new__(cls)\n",
    "    x.attr = 100\n",
    "    return x\n",
    "\n",
    "# Error\n",
    "# type.__new__ = new"
   ]
  },
  {
   "cell_type": "markdown",
   "id": "37471052",
   "metadata": {},
   "source": [
    "To override `__new__`, we have to create a meta class. To create a metaclass, we derive from `type`. Meta class is a class factories. "
   ]
  },
  {
   "cell_type": "code",
   "execution_count": 80,
   "id": "4c87a61b",
   "metadata": {},
   "outputs": [],
   "source": [
    "class Meta(type):\n",
    "    def __new__(cls, name, bases, dct):\n",
    "        print(f'Creating {name} class with parent {cls}')\n",
    "        x = super().__new__(cls, name, bases, dct)\n",
    "        x.attr = 100\n",
    "        return x"
   ]
  },
  {
   "cell_type": "markdown",
   "id": "1a256486",
   "metadata": {},
   "source": [
    "We can specify `metaclass` keyword on function definitions to use this specific metaclass, rather than default `type`."
   ]
  },
  {
   "cell_type": "code",
   "execution_count": 86,
   "id": "e77e18e8",
   "metadata": {},
   "outputs": [
    {
     "name": "stdout",
     "output_type": "stream",
     "text": [
      "Creating Foo class with parent <class '__main__.Meta'>\n"
     ]
    },
    {
     "data": {
      "text/plain": [
       "100"
      ]
     },
     "execution_count": 86,
     "metadata": {},
     "output_type": "execute_result"
    }
   ],
   "source": [
    "class Foo(metaclass=Meta): pass\n",
    "\n",
    "Foo.attr"
   ]
  },
  {
   "cell_type": "code",
   "execution_count": 87,
   "id": "87e16a97",
   "metadata": {},
   "outputs": [],
   "source": [
    "class Foo:\n",
    "    def __init__(self):\n",
    "        self.attr = 100"
   ]
  },
  {
   "cell_type": "code",
   "execution_count": 88,
   "id": "bf5b4398",
   "metadata": {},
   "outputs": [
    {
     "data": {
      "text/plain": [
       "100"
      ]
     },
     "execution_count": 88,
     "metadata": {},
     "output_type": "execute_result"
    }
   ],
   "source": [
    "x = Foo()\n",
    "x.attr"
   ]
  },
  {
   "cell_type": "code",
   "execution_count": 89,
   "id": "11780f80",
   "metadata": {},
   "outputs": [
    {
     "data": {
      "text/plain": [
       "<__main__.Foo at 0x7f728ce6d210>"
      ]
     },
     "execution_count": 89,
     "metadata": {},
     "output_type": "execute_result"
    }
   ],
   "source": [
    "x"
   ]
  },
  {
   "cell_type": "code",
   "execution_count": 90,
   "id": "98045ece",
   "metadata": {},
   "outputs": [
    {
     "data": {
      "text/plain": [
       "100"
      ]
     },
     "execution_count": 90,
     "metadata": {},
     "output_type": "execute_result"
    }
   ],
   "source": [
    "y = Foo()\n",
    "y.attr"
   ]
  },
  {
   "cell_type": "code",
   "execution_count": 91,
   "id": "824f747f",
   "metadata": {},
   "outputs": [
    {
     "data": {
      "text/plain": [
       "100"
      ]
     },
     "execution_count": 91,
     "metadata": {},
     "output_type": "execute_result"
    }
   ],
   "source": [
    "z = Foo()\n",
    "z.attr"
   ]
  },
  {
   "cell_type": "code",
   "execution_count": 92,
   "id": "10cf9ef6",
   "metadata": {},
   "outputs": [],
   "source": [
    "class Meta(type):\n",
    "    def __init__(cls, name, bases, dct):\n",
    "        cls.attr = 100"
   ]
  },
  {
   "cell_type": "code",
   "execution_count": 93,
   "id": "c44f028a",
   "metadata": {},
   "outputs": [
    {
     "data": {
      "text/plain": [
       "100"
      ]
     },
     "execution_count": 93,
     "metadata": {},
     "output_type": "execute_result"
    }
   ],
   "source": [
    "class X(metaclass=Meta): pass\n",
    "X.attr"
   ]
  },
  {
   "cell_type": "code",
   "execution_count": 50,
   "id": "71e3f3b9",
   "metadata": {},
   "outputs": [
    {
     "data": {
      "text/plain": [
       "100"
      ]
     },
     "execution_count": 50,
     "metadata": {},
     "output_type": "execute_result"
    }
   ],
   "source": [
    "class Y(metaclass=Meta): pass\n",
    "Y.attr"
   ]
  },
  {
   "cell_type": "code",
   "execution_count": 51,
   "id": "9c685e5a",
   "metadata": {},
   "outputs": [
    {
     "data": {
      "text/plain": [
       "100"
      ]
     },
     "execution_count": 51,
     "metadata": {},
     "output_type": "execute_result"
    }
   ],
   "source": [
    "class Z(metaclass=Meta): pass\n",
    "Z.attr"
   ]
  },
  {
   "cell_type": "markdown",
   "id": "0b07a4fd",
   "metadata": {},
   "source": [
    "Simple inheritance also does the same thing:"
   ]
  },
  {
   "cell_type": "code",
   "execution_count": 94,
   "id": "337e12f6",
   "metadata": {},
   "outputs": [],
   "source": [
    "class Base: attr = 100"
   ]
  },
  {
   "cell_type": "code",
   "execution_count": 95,
   "id": "4750d4f6",
   "metadata": {},
   "outputs": [
    {
     "data": {
      "text/plain": [
       "100"
      ]
     },
     "execution_count": 95,
     "metadata": {},
     "output_type": "execute_result"
    }
   ],
   "source": [
    "class X(Base): pass\n",
    "\n",
    "X.attr"
   ]
  },
  {
   "cell_type": "markdown",
   "id": "2ec216ed",
   "metadata": {},
   "source": [
    "Or a class decorator:"
   ]
  },
  {
   "cell_type": "code",
   "execution_count": 96,
   "id": "86fd0f6e",
   "metadata": {},
   "outputs": [],
   "source": [
    "def decorator(cls):\n",
    "    class NewClass(cls):\n",
    "        attr = 100\n",
    "    return NewClass"
   ]
  },
  {
   "cell_type": "code",
   "execution_count": 98,
   "id": "11ac8c78",
   "metadata": {},
   "outputs": [
    {
     "data": {
      "text/plain": [
       "100"
      ]
     },
     "execution_count": 98,
     "metadata": {},
     "output_type": "execute_result"
    }
   ],
   "source": [
    "@decorator\n",
    "class X: pass\n",
    "\n",
    "X.attr"
   ]
  },
  {
   "cell_type": "code",
   "execution_count": null,
   "id": "3b62f601",
   "metadata": {},
   "outputs": [],
   "source": []
  }
 ],
 "metadata": {
  "kernelspec": {
   "display_name": "Python 3 (ipykernel)",
   "language": "python",
   "name": "python3"
  },
  "language_info": {
   "codemirror_mode": {
    "name": "ipython",
    "version": 3
   },
   "file_extension": ".py",
   "mimetype": "text/x-python",
   "name": "python",
   "nbconvert_exporter": "python",
   "pygments_lexer": "ipython3",
   "version": "3.10.14"
  },
  "toc": {
   "base_numbering": 1,
   "nav_menu": {},
   "number_sections": true,
   "sideBar": true,
   "skip_h1_title": false,
   "title_cell": "Table of Contents",
   "title_sidebar": "Contents",
   "toc_cell": false,
   "toc_position": {},
   "toc_section_display": true,
   "toc_window_display": false
  }
 },
 "nbformat": 4,
 "nbformat_minor": 5
}
