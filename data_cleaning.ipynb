{
 "cells": [
  {
   "cell_type": "code",
   "execution_count": 1,
   "id": "1518c178",
   "metadata": {},
   "outputs": [],
   "source": [
    "import numpy as np\n",
    "import pandas as pd"
   ]
  },
  {
   "cell_type": "markdown",
   "id": "5e7ba06f",
   "metadata": {},
   "source": [
    "# Cleaning tools"
   ]
  },
  {
   "cell_type": "markdown",
   "id": "173de4f0",
   "metadata": {},
   "source": [
    "Some data cleaning tools for analysis."
   ]
  },
  {
   "cell_type": "markdown",
   "id": "f5f6b75f",
   "metadata": {},
   "source": [
    "## Missing data"
   ]
  },
  {
   "cell_type": "markdown",
   "id": "aa08d816",
   "metadata": {},
   "source": [
    "`isna`, `dropna`, and `fillna`."
   ]
  },
  {
   "cell_type": "code",
   "execution_count": 2,
   "id": "9dde1df8",
   "metadata": {},
   "outputs": [
    {
     "data": {
      "text/plain": [
       "0    Piggy\n",
       "1       Is\n",
       "2     None\n",
       "3      NaN\n",
       "dtype: object"
      ]
     },
     "execution_count": 2,
     "metadata": {},
     "output_type": "execute_result"
    }
   ],
   "source": [
    "ser = pd.Series(['Piggy', 'Is', None, np.nan])\n",
    "ser"
   ]
  },
  {
   "cell_type": "code",
   "execution_count": 3,
   "id": "413ba1ec",
   "metadata": {},
   "outputs": [
    {
     "data": {
      "text/plain": [
       "0    False\n",
       "1    False\n",
       "2     True\n",
       "3     True\n",
       "dtype: bool"
      ]
     },
     "execution_count": 3,
     "metadata": {},
     "output_type": "execute_result"
    }
   ],
   "source": [
    "ser.isna()"
   ]
  },
  {
   "cell_type": "code",
   "execution_count": 4,
   "id": "ffde6e8e",
   "metadata": {},
   "outputs": [
    {
     "data": {
      "text/plain": [
       "0       Piggy\n",
       "1          Is\n",
       "2    Napoleon\n",
       "3    Napoleon\n",
       "dtype: object"
      ]
     },
     "execution_count": 4,
     "metadata": {},
     "output_type": "execute_result"
    }
   ],
   "source": [
    "ser.fillna('Napoleon')"
   ]
  },
  {
   "cell_type": "code",
   "execution_count": 5,
   "id": "c8c85778",
   "metadata": {},
   "outputs": [
    {
     "data": {
      "text/plain": [
       "0    Piggy\n",
       "1       Is\n",
       "dtype: object"
      ]
     },
     "execution_count": 5,
     "metadata": {},
     "output_type": "execute_result"
    }
   ],
   "source": [
    "ser.dropna()"
   ]
  },
  {
   "cell_type": "markdown",
   "id": "a6c86b5f",
   "metadata": {},
   "source": [
    "## Duplicate data"
   ]
  },
  {
   "cell_type": "code",
   "execution_count": 6,
   "id": "287f4dfc",
   "metadata": {},
   "outputs": [
    {
     "data": {
      "text/html": [
       "<div>\n",
       "<style scoped>\n",
       "    .dataframe tbody tr th:only-of-type {\n",
       "        vertical-align: middle;\n",
       "    }\n",
       "\n",
       "    .dataframe tbody tr th {\n",
       "        vertical-align: top;\n",
       "    }\n",
       "\n",
       "    .dataframe thead th {\n",
       "        text-align: right;\n",
       "    }\n",
       "</style>\n",
       "<table border=\"1\" class=\"dataframe\">\n",
       "  <thead>\n",
       "    <tr style=\"text-align: right;\">\n",
       "      <th></th>\n",
       "      <th>k1</th>\n",
       "      <th>k2</th>\n",
       "    </tr>\n",
       "  </thead>\n",
       "  <tbody>\n",
       "    <tr>\n",
       "      <th>0</th>\n",
       "      <td>one</td>\n",
       "      <td>1</td>\n",
       "    </tr>\n",
       "    <tr>\n",
       "      <th>1</th>\n",
       "      <td>two</td>\n",
       "      <td>1</td>\n",
       "    </tr>\n",
       "    <tr>\n",
       "      <th>2</th>\n",
       "      <td>one</td>\n",
       "      <td>2</td>\n",
       "    </tr>\n",
       "    <tr>\n",
       "      <th>3</th>\n",
       "      <td>two</td>\n",
       "      <td>4</td>\n",
       "    </tr>\n",
       "    <tr>\n",
       "      <th>4</th>\n",
       "      <td>one</td>\n",
       "      <td>3</td>\n",
       "    </tr>\n",
       "    <tr>\n",
       "      <th>5</th>\n",
       "      <td>two</td>\n",
       "      <td>3</td>\n",
       "    </tr>\n",
       "    <tr>\n",
       "      <th>6</th>\n",
       "      <td>two</td>\n",
       "      <td>4</td>\n",
       "    </tr>\n",
       "    <tr>\n",
       "      <th>7</th>\n",
       "      <td>one</td>\n",
       "      <td>1</td>\n",
       "    </tr>\n",
       "  </tbody>\n",
       "</table>\n",
       "</div>"
      ],
      "text/plain": [
       "    k1  k2\n",
       "0  one   1\n",
       "1  two   1\n",
       "2  one   2\n",
       "3  two   4\n",
       "4  one   3\n",
       "5  two   3\n",
       "6  two   4\n",
       "7  one   1"
      ]
     },
     "execution_count": 6,
     "metadata": {},
     "output_type": "execute_result"
    }
   ],
   "source": [
    "data = pd.DataFrame({\"k1\": [\"one\", \"two\"] * 3 + [\"two\", \"one\"],\n",
    "                     \"k2\": [1, 1, 2, 4, 3, 3, 4, 1]})\n",
    "data"
   ]
  },
  {
   "cell_type": "code",
   "execution_count": 7,
   "id": "a48d74d3",
   "metadata": {},
   "outputs": [
    {
     "data": {
      "text/plain": [
       "0    False\n",
       "1    False\n",
       "2    False\n",
       "3    False\n",
       "4    False\n",
       "5    False\n",
       "6     True\n",
       "7     True\n",
       "dtype: bool"
      ]
     },
     "execution_count": 7,
     "metadata": {},
     "output_type": "execute_result"
    }
   ],
   "source": [
    "data.duplicated()"
   ]
  },
  {
   "cell_type": "code",
   "execution_count": 8,
   "id": "d289aba9",
   "metadata": {},
   "outputs": [
    {
     "data": {
      "text/html": [
       "<div>\n",
       "<style scoped>\n",
       "    .dataframe tbody tr th:only-of-type {\n",
       "        vertical-align: middle;\n",
       "    }\n",
       "\n",
       "    .dataframe tbody tr th {\n",
       "        vertical-align: top;\n",
       "    }\n",
       "\n",
       "    .dataframe thead th {\n",
       "        text-align: right;\n",
       "    }\n",
       "</style>\n",
       "<table border=\"1\" class=\"dataframe\">\n",
       "  <thead>\n",
       "    <tr style=\"text-align: right;\">\n",
       "      <th></th>\n",
       "      <th>k1</th>\n",
       "      <th>k2</th>\n",
       "    </tr>\n",
       "  </thead>\n",
       "  <tbody>\n",
       "    <tr>\n",
       "      <th>0</th>\n",
       "      <td>one</td>\n",
       "      <td>1</td>\n",
       "    </tr>\n",
       "    <tr>\n",
       "      <th>2</th>\n",
       "      <td>one</td>\n",
       "      <td>2</td>\n",
       "    </tr>\n",
       "    <tr>\n",
       "      <th>3</th>\n",
       "      <td>two</td>\n",
       "      <td>4</td>\n",
       "    </tr>\n",
       "    <tr>\n",
       "      <th>4</th>\n",
       "      <td>one</td>\n",
       "      <td>3</td>\n",
       "    </tr>\n",
       "  </tbody>\n",
       "</table>\n",
       "</div>"
      ],
      "text/plain": [
       "    k1  k2\n",
       "0  one   1\n",
       "2  one   2\n",
       "3  two   4\n",
       "4  one   3"
      ]
     },
     "execution_count": 8,
     "metadata": {},
     "output_type": "execute_result"
    }
   ],
   "source": [
    "data.drop_duplicates(subset='k2')"
   ]
  },
  {
   "cell_type": "markdown",
   "id": "c4a6d9d5",
   "metadata": {},
   "source": [
    "## `map`"
   ]
  },
  {
   "cell_type": "markdown",
   "id": "c1e6b6dd",
   "metadata": {},
   "source": [
    "Either a dictionary or a function for element-wise transformations."
   ]
  },
  {
   "cell_type": "code",
   "execution_count": 9,
   "id": "d65072d2",
   "metadata": {},
   "outputs": [
    {
     "data": {
      "text/plain": [
       "0    uno\n",
       "1    dos\n",
       "2    uno\n",
       "3    dos\n",
       "4    uno\n",
       "5    dos\n",
       "6    dos\n",
       "7    uno\n",
       "Name: k1, dtype: object"
      ]
     },
     "execution_count": 9,
     "metadata": {},
     "output_type": "execute_result"
    }
   ],
   "source": [
    "eng_to_esp = {'one': 'uno', 'two': 'dos'}\n",
    "data['k1'].map(eng_to_esp)"
   ]
  },
  {
   "cell_type": "code",
   "execution_count": 10,
   "id": "8aa5400f",
   "metadata": {},
   "outputs": [
    {
     "data": {
      "text/plain": [
       "0    uno\n",
       "1    dos\n",
       "2    uno\n",
       "3    dos\n",
       "4    uno\n",
       "5    dos\n",
       "6    dos\n",
       "7    uno\n",
       "Name: k1, dtype: object"
      ]
     },
     "execution_count": 10,
     "metadata": {},
     "output_type": "execute_result"
    }
   ],
   "source": [
    "data['k1'].map(lambda x: eng_to_esp[x])"
   ]
  },
  {
   "cell_type": "markdown",
   "id": "3bdca80b",
   "metadata": {},
   "source": [
    "## `replace`"
   ]
  },
  {
   "cell_type": "markdown",
   "id": "3d481c38",
   "metadata": {},
   "source": [
    "Sometimes data has some other sentinel values other than NA for missing values, such as -inf. `isna` cannot detect them. `replace` for a rescue.\n",
    "\n",
    "`to_replace` argument also takes regex, list, Series, dict, etc."
   ]
  },
  {
   "cell_type": "code",
   "execution_count": 11,
   "id": "6fa03625",
   "metadata": {},
   "outputs": [
    {
     "data": {
      "text/plain": [
       "0    0.047515\n",
       "1    0.190463\n",
       "2        -inf\n",
       "3        -inf\n",
       "4        -inf\n",
       "5   -1.435184\n",
       "6    2.118561\n",
       "7   -0.773494\n",
       "8   -1.257205\n",
       "9    1.290710\n",
       "dtype: float64"
      ]
     },
     "execution_count": 11,
     "metadata": {},
     "output_type": "execute_result"
    }
   ],
   "source": [
    "ser2 = pd.Series(np.random.standard_normal(10))\n",
    "ser2[2:5] = -np.inf\n",
    "ser2"
   ]
  },
  {
   "cell_type": "code",
   "execution_count": 12,
   "id": "9f5abc6b",
   "metadata": {},
   "outputs": [
    {
     "data": {
      "text/plain": [
       "0    False\n",
       "1    False\n",
       "2    False\n",
       "3    False\n",
       "4    False\n",
       "5    False\n",
       "6    False\n",
       "7    False\n",
       "8    False\n",
       "9    False\n",
       "dtype: bool"
      ]
     },
     "execution_count": 12,
     "metadata": {},
     "output_type": "execute_result"
    }
   ],
   "source": [
    "ser2.isna()"
   ]
  },
  {
   "cell_type": "code",
   "execution_count": 13,
   "id": "a7e055d3",
   "metadata": {},
   "outputs": [
    {
     "data": {
      "text/plain": [
       "0    0.047515\n",
       "1    0.190463\n",
       "2    0.000000\n",
       "3    0.000000\n",
       "4    0.000000\n",
       "5   -1.435184\n",
       "6    2.118561\n",
       "7   -0.773494\n",
       "8   -1.257205\n",
       "9    1.290710\n",
       "dtype: float64"
      ]
     },
     "execution_count": 13,
     "metadata": {},
     "output_type": "execute_result"
    }
   ],
   "source": [
    "ser2.replace(-np.inf, 0)"
   ]
  },
  {
   "cell_type": "markdown",
   "id": "9e4d613a",
   "metadata": {},
   "source": [
    "## Rename"
   ]
  },
  {
   "cell_type": "markdown",
   "id": "a7b57036",
   "metadata": {},
   "source": [
    "Renaming index and columns are easy."
   ]
  },
  {
   "cell_type": "code",
   "execution_count": 14,
   "id": "7d1aecdb",
   "metadata": {},
   "outputs": [
    {
     "data": {
      "text/html": [
       "<div>\n",
       "<style scoped>\n",
       "    .dataframe tbody tr th:only-of-type {\n",
       "        vertical-align: middle;\n",
       "    }\n",
       "\n",
       "    .dataframe tbody tr th {\n",
       "        vertical-align: top;\n",
       "    }\n",
       "\n",
       "    .dataframe thead th {\n",
       "        text-align: right;\n",
       "    }\n",
       "</style>\n",
       "<table border=\"1\" class=\"dataframe\">\n",
       "  <thead>\n",
       "    <tr style=\"text-align: right;\">\n",
       "      <th></th>\n",
       "      <th>K1</th>\n",
       "      <th>K2</th>\n",
       "    </tr>\n",
       "  </thead>\n",
       "  <tbody>\n",
       "    <tr>\n",
       "      <th>first</th>\n",
       "      <td>one</td>\n",
       "      <td>1</td>\n",
       "    </tr>\n",
       "    <tr>\n",
       "      <th>second</th>\n",
       "      <td>two</td>\n",
       "      <td>1</td>\n",
       "    </tr>\n",
       "    <tr>\n",
       "      <th>2</th>\n",
       "      <td>one</td>\n",
       "      <td>2</td>\n",
       "    </tr>\n",
       "    <tr>\n",
       "      <th>3</th>\n",
       "      <td>two</td>\n",
       "      <td>4</td>\n",
       "    </tr>\n",
       "    <tr>\n",
       "      <th>4</th>\n",
       "      <td>one</td>\n",
       "      <td>3</td>\n",
       "    </tr>\n",
       "    <tr>\n",
       "      <th>5</th>\n",
       "      <td>two</td>\n",
       "      <td>3</td>\n",
       "    </tr>\n",
       "    <tr>\n",
       "      <th>6</th>\n",
       "      <td>two</td>\n",
       "      <td>4</td>\n",
       "    </tr>\n",
       "    <tr>\n",
       "      <th>7</th>\n",
       "      <td>one</td>\n",
       "      <td>1</td>\n",
       "    </tr>\n",
       "  </tbody>\n",
       "</table>\n",
       "</div>"
      ],
      "text/plain": [
       "         K1  K2\n",
       "first   one   1\n",
       "second  two   1\n",
       "2       one   2\n",
       "3       two   4\n",
       "4       one   3\n",
       "5       two   3\n",
       "6       two   4\n",
       "7       one   1"
      ]
     },
     "execution_count": 14,
     "metadata": {},
     "output_type": "execute_result"
    }
   ],
   "source": [
    "data.rename(index={0: 'first', 1: 'second'},\n",
    "            columns=str.capitalize)"
   ]
  },
  {
   "cell_type": "markdown",
   "id": "66ba1397",
   "metadata": {},
   "source": [
    "## Bin"
   ]
  },
  {
   "cell_type": "markdown",
   "id": "09008a1f",
   "metadata": {},
   "source": [
    "Binning into categories from continuous variables.\n",
    "\n",
    "More on https://wesmckinney.com/book/data-cleaning#prep_discretization"
   ]
  },
  {
   "cell_type": "code",
   "execution_count": 15,
   "id": "b71765f2",
   "metadata": {},
   "outputs": [
    {
     "data": {
      "text/plain": [
       "array([38, 42, 40, 35, 32])"
      ]
     },
     "execution_count": 15,
     "metadata": {},
     "output_type": "execute_result"
    }
   ],
   "source": [
    "ages = np.random.normal(40, scale=10, size=(100)).astype(int)\n",
    "ages[:5]"
   ]
  },
  {
   "cell_type": "code",
   "execution_count": 16,
   "id": "1eaf3d58",
   "metadata": {},
   "outputs": [
    {
     "data": {
      "text/plain": [
       "(39.63, 10.631702591777106)"
      ]
     },
     "execution_count": 16,
     "metadata": {},
     "output_type": "execute_result"
    }
   ],
   "source": [
    "ages.mean(), ages.std()"
   ]
  },
  {
   "cell_type": "code",
   "execution_count": 17,
   "id": "7653af3a",
   "metadata": {},
   "outputs": [
    {
     "data": {
      "text/plain": [
       "[(25, 40], (40, 60], (25, 40], (25, 40], (25, 40], ..., (10, 18], (40, 60], (40, 60], (25, 40], (25, 40]]\n",
       "Length: 100\n",
       "Categories (5, interval[int64, right]): [(10, 18] < (18, 25] < (25, 40] < (40, 60] < (60, 100]]"
      ]
     },
     "execution_count": 17,
     "metadata": {},
     "output_type": "execute_result"
    }
   ],
   "source": [
    "bins = [10, 18, 25, 40, 60, 100]\n",
    "age_cat = pd.cut(ages, bins)\n",
    "age_cat"
   ]
  },
  {
   "cell_type": "markdown",
   "id": "bd157098",
   "metadata": {},
   "source": [
    "Into 4 quarters."
   ]
  },
  {
   "cell_type": "code",
   "execution_count": 18,
   "id": "c7e49bd4",
   "metadata": {},
   "outputs": [
    {
     "data": {
      "text/plain": [
       "[(31.0, 40.0], (40.0, 46.0], (31.0, 40.0], (31.0, 40.0], (31.0, 40.0], ..., (16.999, 31.0], (40.0, 46.0], (46.0, 61.0], (16.999, 31.0], (31.0, 40.0]]\n",
       "Length: 100\n",
       "Categories (4, interval[float64, right]): [(16.999, 31.0] < (31.0, 40.0] < (40.0, 46.0] < (46.0, 61.0]]"
      ]
     },
     "execution_count": 18,
     "metadata": {},
     "output_type": "execute_result"
    }
   ],
   "source": [
    "pd.qcut(ages, 4)"
   ]
  },
  {
   "cell_type": "markdown",
   "id": "4ab34b9b",
   "metadata": {},
   "source": [
    "## Outliers"
   ]
  },
  {
   "cell_type": "markdown",
   "id": "eec3ea59",
   "metadata": {},
   "source": [
    "How to cap outliers? Numpy has `clip`, and pytorch has `clamp`."
   ]
  },
  {
   "cell_type": "code",
   "execution_count": 19,
   "id": "dd3b97c8",
   "metadata": {},
   "outputs": [
    {
     "data": {
      "text/plain": [
       "array([38, 40, 40, 35, 32, 20, 40, 40, 27, 40, 28, 21, 29, 25, 36, 40, 34,\n",
       "       39, 40, 40, 40, 34, 40, 26, 40, 38, 23, 26, 40, 40, 31, 29, 40, 40,\n",
       "       31, 38, 29, 40, 24, 40, 40, 40, 40, 23, 29, 39, 28, 40, 40, 40, 40,\n",
       "       40, 40, 40, 40, 40, 40, 40, 40, 40, 27, 40, 40, 40, 40, 39, 39, 40,\n",
       "       28, 26, 40, 40, 40, 34, 40, 40, 30, 40, 35, 35, 40, 40, 23, 36, 40,\n",
       "       40, 40, 40, 40, 29, 32, 21, 34, 40, 37, 20, 40, 40, 26, 38])"
      ]
     },
     "execution_count": 19,
     "metadata": {},
     "output_type": "execute_result"
    }
   ],
   "source": [
    "ages.clip(20, 40)"
   ]
  },
  {
   "cell_type": "markdown",
   "id": "71634136",
   "metadata": {},
   "source": [
    "## Random sampling"
   ]
  },
  {
   "cell_type": "markdown",
   "id": "cc2f3a5b",
   "metadata": {},
   "source": [
    "Maybe useful for data augmentation purposes?"
   ]
  },
  {
   "cell_type": "code",
   "execution_count": 20,
   "id": "d99c7c87",
   "metadata": {},
   "outputs": [
    {
     "data": {
      "text/html": [
       "<div>\n",
       "<style scoped>\n",
       "    .dataframe tbody tr th:only-of-type {\n",
       "        vertical-align: middle;\n",
       "    }\n",
       "\n",
       "    .dataframe tbody tr th {\n",
       "        vertical-align: top;\n",
       "    }\n",
       "\n",
       "    .dataframe thead th {\n",
       "        text-align: right;\n",
       "    }\n",
       "</style>\n",
       "<table border=\"1\" class=\"dataframe\">\n",
       "  <thead>\n",
       "    <tr style=\"text-align: right;\">\n",
       "      <th></th>\n",
       "      <th>k1</th>\n",
       "      <th>k2</th>\n",
       "    </tr>\n",
       "  </thead>\n",
       "  <tbody>\n",
       "    <tr>\n",
       "      <th>6</th>\n",
       "      <td>two</td>\n",
       "      <td>4</td>\n",
       "    </tr>\n",
       "    <tr>\n",
       "      <th>0</th>\n",
       "      <td>one</td>\n",
       "      <td>1</td>\n",
       "    </tr>\n",
       "    <tr>\n",
       "      <th>5</th>\n",
       "      <td>two</td>\n",
       "      <td>3</td>\n",
       "    </tr>\n",
       "  </tbody>\n",
       "</table>\n",
       "</div>"
      ],
      "text/plain": [
       "    k1  k2\n",
       "6  two   4\n",
       "0  one   1\n",
       "5  two   3"
      ]
     },
     "execution_count": 20,
     "metadata": {},
     "output_type": "execute_result"
    }
   ],
   "source": [
    "data.sample(3)"
   ]
  },
  {
   "cell_type": "code",
   "execution_count": 21,
   "id": "55d1ecb9",
   "metadata": {},
   "outputs": [
    {
     "data": {
      "text/html": [
       "<div>\n",
       "<style scoped>\n",
       "    .dataframe tbody tr th:only-of-type {\n",
       "        vertical-align: middle;\n",
       "    }\n",
       "\n",
       "    .dataframe tbody tr th {\n",
       "        vertical-align: top;\n",
       "    }\n",
       "\n",
       "    .dataframe thead th {\n",
       "        text-align: right;\n",
       "    }\n",
       "</style>\n",
       "<table border=\"1\" class=\"dataframe\">\n",
       "  <thead>\n",
       "    <tr style=\"text-align: right;\">\n",
       "      <th></th>\n",
       "      <th>k1</th>\n",
       "      <th>k2</th>\n",
       "    </tr>\n",
       "  </thead>\n",
       "  <tbody>\n",
       "    <tr>\n",
       "      <th>2</th>\n",
       "      <td>one</td>\n",
       "      <td>2</td>\n",
       "    </tr>\n",
       "    <tr>\n",
       "      <th>1</th>\n",
       "      <td>two</td>\n",
       "      <td>1</td>\n",
       "    </tr>\n",
       "    <tr>\n",
       "      <th>0</th>\n",
       "      <td>one</td>\n",
       "      <td>1</td>\n",
       "    </tr>\n",
       "  </tbody>\n",
       "</table>\n",
       "</div>"
      ],
      "text/plain": [
       "    k1  k2\n",
       "2  one   2\n",
       "1  two   1\n",
       "0  one   1"
      ]
     },
     "execution_count": 21,
     "metadata": {},
     "output_type": "execute_result"
    }
   ],
   "source": [
    "data.iloc[np.random.permutation(3)]"
   ]
  },
  {
   "cell_type": "markdown",
   "id": "8863c97d",
   "metadata": {},
   "source": [
    "## Dummy variables"
   ]
  },
  {
   "cell_type": "code",
   "execution_count": 22,
   "id": "cb68152a",
   "metadata": {},
   "outputs": [
    {
     "data": {
      "text/html": [
       "<div>\n",
       "<style scoped>\n",
       "    .dataframe tbody tr th:only-of-type {\n",
       "        vertical-align: middle;\n",
       "    }\n",
       "\n",
       "    .dataframe tbody tr th {\n",
       "        vertical-align: top;\n",
       "    }\n",
       "\n",
       "    .dataframe thead th {\n",
       "        text-align: right;\n",
       "    }\n",
       "</style>\n",
       "<table border=\"1\" class=\"dataframe\">\n",
       "  <thead>\n",
       "    <tr style=\"text-align: right;\">\n",
       "      <th></th>\n",
       "      <th>k1_one</th>\n",
       "      <th>k1_two</th>\n",
       "    </tr>\n",
       "  </thead>\n",
       "  <tbody>\n",
       "    <tr>\n",
       "      <th>0</th>\n",
       "      <td>1.0</td>\n",
       "      <td>0.0</td>\n",
       "    </tr>\n",
       "    <tr>\n",
       "      <th>1</th>\n",
       "      <td>0.0</td>\n",
       "      <td>1.0</td>\n",
       "    </tr>\n",
       "    <tr>\n",
       "      <th>2</th>\n",
       "      <td>1.0</td>\n",
       "      <td>0.0</td>\n",
       "    </tr>\n",
       "    <tr>\n",
       "      <th>3</th>\n",
       "      <td>0.0</td>\n",
       "      <td>1.0</td>\n",
       "    </tr>\n",
       "    <tr>\n",
       "      <th>4</th>\n",
       "      <td>1.0</td>\n",
       "      <td>0.0</td>\n",
       "    </tr>\n",
       "    <tr>\n",
       "      <th>5</th>\n",
       "      <td>0.0</td>\n",
       "      <td>1.0</td>\n",
       "    </tr>\n",
       "    <tr>\n",
       "      <th>6</th>\n",
       "      <td>0.0</td>\n",
       "      <td>1.0</td>\n",
       "    </tr>\n",
       "    <tr>\n",
       "      <th>7</th>\n",
       "      <td>1.0</td>\n",
       "      <td>0.0</td>\n",
       "    </tr>\n",
       "  </tbody>\n",
       "</table>\n",
       "</div>"
      ],
      "text/plain": [
       "   k1_one  k1_two\n",
       "0     1.0     0.0\n",
       "1     0.0     1.0\n",
       "2     1.0     0.0\n",
       "3     0.0     1.0\n",
       "4     1.0     0.0\n",
       "5     0.0     1.0\n",
       "6     0.0     1.0\n",
       "7     1.0     0.0"
      ]
     },
     "execution_count": 22,
     "metadata": {},
     "output_type": "execute_result"
    }
   ],
   "source": [
    "pd.get_dummies(data['k1'], dtype=float, prefix='k1')"
   ]
  },
  {
   "cell_type": "markdown",
   "id": "16494a2d",
   "metadata": {},
   "source": [
    "Cool trick on string manipulation: Genres coupled into one column, but it would be better to separate them into different columns. Using `str.get_dummies`."
   ]
  },
  {
   "cell_type": "code",
   "execution_count": 23,
   "id": "82848277",
   "metadata": {},
   "outputs": [
    {
     "data": {
      "text/html": [
       "<div>\n",
       "<style scoped>\n",
       "    .dataframe tbody tr th:only-of-type {\n",
       "        vertical-align: middle;\n",
       "    }\n",
       "\n",
       "    .dataframe tbody tr th {\n",
       "        vertical-align: top;\n",
       "    }\n",
       "\n",
       "    .dataframe thead th {\n",
       "        text-align: right;\n",
       "    }\n",
       "</style>\n",
       "<table border=\"1\" class=\"dataframe\">\n",
       "  <thead>\n",
       "    <tr style=\"text-align: right;\">\n",
       "      <th></th>\n",
       "      <th>movie_id</th>\n",
       "      <th>title</th>\n",
       "      <th>genres</th>\n",
       "    </tr>\n",
       "  </thead>\n",
       "  <tbody>\n",
       "    <tr>\n",
       "      <th>0</th>\n",
       "      <td>1</td>\n",
       "      <td>Toy Story (1995)</td>\n",
       "      <td>Animation|Children's|Comedy</td>\n",
       "    </tr>\n",
       "    <tr>\n",
       "      <th>1</th>\n",
       "      <td>2</td>\n",
       "      <td>Jumanji (1995)</td>\n",
       "      <td>Adventure|Children's|Fantasy</td>\n",
       "    </tr>\n",
       "    <tr>\n",
       "      <th>2</th>\n",
       "      <td>3</td>\n",
       "      <td>Grumpier Old Men (1995)</td>\n",
       "      <td>Comedy|Romance</td>\n",
       "    </tr>\n",
       "    <tr>\n",
       "      <th>3</th>\n",
       "      <td>4</td>\n",
       "      <td>Waiting to Exhale (1995)</td>\n",
       "      <td>Comedy|Drama</td>\n",
       "    </tr>\n",
       "    <tr>\n",
       "      <th>4</th>\n",
       "      <td>5</td>\n",
       "      <td>Father of the Bride Part II (1995)</td>\n",
       "      <td>Comedy</td>\n",
       "    </tr>\n",
       "    <tr>\n",
       "      <th>...</th>\n",
       "      <td>...</td>\n",
       "      <td>...</td>\n",
       "      <td>...</td>\n",
       "    </tr>\n",
       "    <tr>\n",
       "      <th>3878</th>\n",
       "      <td>3948</td>\n",
       "      <td>Meet the Parents (2000)</td>\n",
       "      <td>Comedy</td>\n",
       "    </tr>\n",
       "    <tr>\n",
       "      <th>3879</th>\n",
       "      <td>3949</td>\n",
       "      <td>Requiem for a Dream (2000)</td>\n",
       "      <td>Drama</td>\n",
       "    </tr>\n",
       "    <tr>\n",
       "      <th>3880</th>\n",
       "      <td>3950</td>\n",
       "      <td>Tigerland (2000)</td>\n",
       "      <td>Drama</td>\n",
       "    </tr>\n",
       "    <tr>\n",
       "      <th>3881</th>\n",
       "      <td>3951</td>\n",
       "      <td>Two Family House (2000)</td>\n",
       "      <td>Drama</td>\n",
       "    </tr>\n",
       "    <tr>\n",
       "      <th>3882</th>\n",
       "      <td>3952</td>\n",
       "      <td>Contender, The (2000)</td>\n",
       "      <td>Drama|Thriller</td>\n",
       "    </tr>\n",
       "  </tbody>\n",
       "</table>\n",
       "<p>3883 rows × 3 columns</p>\n",
       "</div>"
      ],
      "text/plain": [
       "      movie_id                               title  \\\n",
       "0            1                    Toy Story (1995)   \n",
       "1            2                      Jumanji (1995)   \n",
       "2            3             Grumpier Old Men (1995)   \n",
       "3            4            Waiting to Exhale (1995)   \n",
       "4            5  Father of the Bride Part II (1995)   \n",
       "...        ...                                 ...   \n",
       "3878      3948             Meet the Parents (2000)   \n",
       "3879      3949          Requiem for a Dream (2000)   \n",
       "3880      3950                    Tigerland (2000)   \n",
       "3881      3951             Two Family House (2000)   \n",
       "3882      3952               Contender, The (2000)   \n",
       "\n",
       "                            genres  \n",
       "0      Animation|Children's|Comedy  \n",
       "1     Adventure|Children's|Fantasy  \n",
       "2                   Comedy|Romance  \n",
       "3                     Comedy|Drama  \n",
       "4                           Comedy  \n",
       "...                            ...  \n",
       "3878                        Comedy  \n",
       "3879                         Drama  \n",
       "3880                         Drama  \n",
       "3881                         Drama  \n",
       "3882                Drama|Thriller  \n",
       "\n",
       "[3883 rows x 3 columns]"
      ]
     },
     "execution_count": 23,
     "metadata": {},
     "output_type": "execute_result"
    }
   ],
   "source": [
    "movies = pd.read_table('data/movies.dat', sep='::', header=None,\n",
    "                       names=['movie_id', 'title', 'genres'], engine='python')\n",
    "movies"
   ]
  },
  {
   "cell_type": "code",
   "execution_count": 24,
   "id": "2adb2b21",
   "metadata": {},
   "outputs": [
    {
     "data": {
      "text/html": [
       "<div>\n",
       "<style scoped>\n",
       "    .dataframe tbody tr th:only-of-type {\n",
       "        vertical-align: middle;\n",
       "    }\n",
       "\n",
       "    .dataframe tbody tr th {\n",
       "        vertical-align: top;\n",
       "    }\n",
       "\n",
       "    .dataframe thead th {\n",
       "        text-align: right;\n",
       "    }\n",
       "</style>\n",
       "<table border=\"1\" class=\"dataframe\">\n",
       "  <thead>\n",
       "    <tr style=\"text-align: right;\">\n",
       "      <th></th>\n",
       "      <th>Action</th>\n",
       "      <th>Adventure</th>\n",
       "      <th>Animation</th>\n",
       "      <th>Children's</th>\n",
       "      <th>Comedy</th>\n",
       "      <th>Crime</th>\n",
       "      <th>Documentary</th>\n",
       "      <th>Drama</th>\n",
       "      <th>Fantasy</th>\n",
       "      <th>Film-Noir</th>\n",
       "      <th>Horror</th>\n",
       "      <th>Musical</th>\n",
       "      <th>Mystery</th>\n",
       "      <th>Romance</th>\n",
       "      <th>Sci-Fi</th>\n",
       "      <th>Thriller</th>\n",
       "      <th>War</th>\n",
       "      <th>Western</th>\n",
       "    </tr>\n",
       "  </thead>\n",
       "  <tbody>\n",
       "    <tr>\n",
       "      <th>0</th>\n",
       "      <td>0</td>\n",
       "      <td>0</td>\n",
       "      <td>1</td>\n",
       "      <td>1</td>\n",
       "      <td>1</td>\n",
       "      <td>0</td>\n",
       "      <td>0</td>\n",
       "      <td>0</td>\n",
       "      <td>0</td>\n",
       "      <td>0</td>\n",
       "      <td>0</td>\n",
       "      <td>0</td>\n",
       "      <td>0</td>\n",
       "      <td>0</td>\n",
       "      <td>0</td>\n",
       "      <td>0</td>\n",
       "      <td>0</td>\n",
       "      <td>0</td>\n",
       "    </tr>\n",
       "    <tr>\n",
       "      <th>1</th>\n",
       "      <td>0</td>\n",
       "      <td>1</td>\n",
       "      <td>0</td>\n",
       "      <td>1</td>\n",
       "      <td>0</td>\n",
       "      <td>0</td>\n",
       "      <td>0</td>\n",
       "      <td>0</td>\n",
       "      <td>1</td>\n",
       "      <td>0</td>\n",
       "      <td>0</td>\n",
       "      <td>0</td>\n",
       "      <td>0</td>\n",
       "      <td>0</td>\n",
       "      <td>0</td>\n",
       "      <td>0</td>\n",
       "      <td>0</td>\n",
       "      <td>0</td>\n",
       "    </tr>\n",
       "    <tr>\n",
       "      <th>2</th>\n",
       "      <td>0</td>\n",
       "      <td>0</td>\n",
       "      <td>0</td>\n",
       "      <td>0</td>\n",
       "      <td>1</td>\n",
       "      <td>0</td>\n",
       "      <td>0</td>\n",
       "      <td>0</td>\n",
       "      <td>0</td>\n",
       "      <td>0</td>\n",
       "      <td>0</td>\n",
       "      <td>0</td>\n",
       "      <td>0</td>\n",
       "      <td>1</td>\n",
       "      <td>0</td>\n",
       "      <td>0</td>\n",
       "      <td>0</td>\n",
       "      <td>0</td>\n",
       "    </tr>\n",
       "    <tr>\n",
       "      <th>3</th>\n",
       "      <td>0</td>\n",
       "      <td>0</td>\n",
       "      <td>0</td>\n",
       "      <td>0</td>\n",
       "      <td>1</td>\n",
       "      <td>0</td>\n",
       "      <td>0</td>\n",
       "      <td>1</td>\n",
       "      <td>0</td>\n",
       "      <td>0</td>\n",
       "      <td>0</td>\n",
       "      <td>0</td>\n",
       "      <td>0</td>\n",
       "      <td>0</td>\n",
       "      <td>0</td>\n",
       "      <td>0</td>\n",
       "      <td>0</td>\n",
       "      <td>0</td>\n",
       "    </tr>\n",
       "    <tr>\n",
       "      <th>4</th>\n",
       "      <td>0</td>\n",
       "      <td>0</td>\n",
       "      <td>0</td>\n",
       "      <td>0</td>\n",
       "      <td>1</td>\n",
       "      <td>0</td>\n",
       "      <td>0</td>\n",
       "      <td>0</td>\n",
       "      <td>0</td>\n",
       "      <td>0</td>\n",
       "      <td>0</td>\n",
       "      <td>0</td>\n",
       "      <td>0</td>\n",
       "      <td>0</td>\n",
       "      <td>0</td>\n",
       "      <td>0</td>\n",
       "      <td>0</td>\n",
       "      <td>0</td>\n",
       "    </tr>\n",
       "    <tr>\n",
       "      <th>...</th>\n",
       "      <td>...</td>\n",
       "      <td>...</td>\n",
       "      <td>...</td>\n",
       "      <td>...</td>\n",
       "      <td>...</td>\n",
       "      <td>...</td>\n",
       "      <td>...</td>\n",
       "      <td>...</td>\n",
       "      <td>...</td>\n",
       "      <td>...</td>\n",
       "      <td>...</td>\n",
       "      <td>...</td>\n",
       "      <td>...</td>\n",
       "      <td>...</td>\n",
       "      <td>...</td>\n",
       "      <td>...</td>\n",
       "      <td>...</td>\n",
       "      <td>...</td>\n",
       "    </tr>\n",
       "    <tr>\n",
       "      <th>3878</th>\n",
       "      <td>0</td>\n",
       "      <td>0</td>\n",
       "      <td>0</td>\n",
       "      <td>0</td>\n",
       "      <td>1</td>\n",
       "      <td>0</td>\n",
       "      <td>0</td>\n",
       "      <td>0</td>\n",
       "      <td>0</td>\n",
       "      <td>0</td>\n",
       "      <td>0</td>\n",
       "      <td>0</td>\n",
       "      <td>0</td>\n",
       "      <td>0</td>\n",
       "      <td>0</td>\n",
       "      <td>0</td>\n",
       "      <td>0</td>\n",
       "      <td>0</td>\n",
       "    </tr>\n",
       "    <tr>\n",
       "      <th>3879</th>\n",
       "      <td>0</td>\n",
       "      <td>0</td>\n",
       "      <td>0</td>\n",
       "      <td>0</td>\n",
       "      <td>0</td>\n",
       "      <td>0</td>\n",
       "      <td>0</td>\n",
       "      <td>1</td>\n",
       "      <td>0</td>\n",
       "      <td>0</td>\n",
       "      <td>0</td>\n",
       "      <td>0</td>\n",
       "      <td>0</td>\n",
       "      <td>0</td>\n",
       "      <td>0</td>\n",
       "      <td>0</td>\n",
       "      <td>0</td>\n",
       "      <td>0</td>\n",
       "    </tr>\n",
       "    <tr>\n",
       "      <th>3880</th>\n",
       "      <td>0</td>\n",
       "      <td>0</td>\n",
       "      <td>0</td>\n",
       "      <td>0</td>\n",
       "      <td>0</td>\n",
       "      <td>0</td>\n",
       "      <td>0</td>\n",
       "      <td>1</td>\n",
       "      <td>0</td>\n",
       "      <td>0</td>\n",
       "      <td>0</td>\n",
       "      <td>0</td>\n",
       "      <td>0</td>\n",
       "      <td>0</td>\n",
       "      <td>0</td>\n",
       "      <td>0</td>\n",
       "      <td>0</td>\n",
       "      <td>0</td>\n",
       "    </tr>\n",
       "    <tr>\n",
       "      <th>3881</th>\n",
       "      <td>0</td>\n",
       "      <td>0</td>\n",
       "      <td>0</td>\n",
       "      <td>0</td>\n",
       "      <td>0</td>\n",
       "      <td>0</td>\n",
       "      <td>0</td>\n",
       "      <td>1</td>\n",
       "      <td>0</td>\n",
       "      <td>0</td>\n",
       "      <td>0</td>\n",
       "      <td>0</td>\n",
       "      <td>0</td>\n",
       "      <td>0</td>\n",
       "      <td>0</td>\n",
       "      <td>0</td>\n",
       "      <td>0</td>\n",
       "      <td>0</td>\n",
       "    </tr>\n",
       "    <tr>\n",
       "      <th>3882</th>\n",
       "      <td>0</td>\n",
       "      <td>0</td>\n",
       "      <td>0</td>\n",
       "      <td>0</td>\n",
       "      <td>0</td>\n",
       "      <td>0</td>\n",
       "      <td>0</td>\n",
       "      <td>1</td>\n",
       "      <td>0</td>\n",
       "      <td>0</td>\n",
       "      <td>0</td>\n",
       "      <td>0</td>\n",
       "      <td>0</td>\n",
       "      <td>0</td>\n",
       "      <td>0</td>\n",
       "      <td>1</td>\n",
       "      <td>0</td>\n",
       "      <td>0</td>\n",
       "    </tr>\n",
       "  </tbody>\n",
       "</table>\n",
       "<p>3883 rows × 18 columns</p>\n",
       "</div>"
      ],
      "text/plain": [
       "      Action  Adventure  Animation  Children's  Comedy  Crime  Documentary  \\\n",
       "0          0          0          1           1       1      0            0   \n",
       "1          0          1          0           1       0      0            0   \n",
       "2          0          0          0           0       1      0            0   \n",
       "3          0          0          0           0       1      0            0   \n",
       "4          0          0          0           0       1      0            0   \n",
       "...      ...        ...        ...         ...     ...    ...          ...   \n",
       "3878       0          0          0           0       1      0            0   \n",
       "3879       0          0          0           0       0      0            0   \n",
       "3880       0          0          0           0       0      0            0   \n",
       "3881       0          0          0           0       0      0            0   \n",
       "3882       0          0          0           0       0      0            0   \n",
       "\n",
       "      Drama  Fantasy  Film-Noir  Horror  Musical  Mystery  Romance  Sci-Fi  \\\n",
       "0         0        0          0       0        0        0        0       0   \n",
       "1         0        1          0       0        0        0        0       0   \n",
       "2         0        0          0       0        0        0        1       0   \n",
       "3         1        0          0       0        0        0        0       0   \n",
       "4         0        0          0       0        0        0        0       0   \n",
       "...     ...      ...        ...     ...      ...      ...      ...     ...   \n",
       "3878      0        0          0       0        0        0        0       0   \n",
       "3879      1        0          0       0        0        0        0       0   \n",
       "3880      1        0          0       0        0        0        0       0   \n",
       "3881      1        0          0       0        0        0        0       0   \n",
       "3882      1        0          0       0        0        0        0       0   \n",
       "\n",
       "      Thriller  War  Western  \n",
       "0            0    0        0  \n",
       "1            0    0        0  \n",
       "2            0    0        0  \n",
       "3            0    0        0  \n",
       "4            0    0        0  \n",
       "...        ...  ...      ...  \n",
       "3878         0    0        0  \n",
       "3879         0    0        0  \n",
       "3880         0    0        0  \n",
       "3881         0    0        0  \n",
       "3882         1    0        0  \n",
       "\n",
       "[3883 rows x 18 columns]"
      ]
     },
     "execution_count": 24,
     "metadata": {},
     "output_type": "execute_result"
    }
   ],
   "source": [
    "movies['genres'].str.get_dummies('|')"
   ]
  },
  {
   "cell_type": "markdown",
   "id": "92c449d0",
   "metadata": {},
   "source": [
    "### Dummies and bins"
   ]
  },
  {
   "cell_type": "markdown",
   "id": "a5bc658a",
   "metadata": {},
   "source": [
    "Using the age category we have from earlier, we can create a dummy variables."
   ]
  },
  {
   "cell_type": "code",
   "execution_count": 25,
   "id": "b306fba1",
   "metadata": {},
   "outputs": [
    {
     "data": {
      "text/plain": [
       "[(25, 40], (40, 60], (25, 40], (25, 40], (25, 40], ..., (10, 18], (40, 60], (40, 60], (25, 40], (25, 40]]\n",
       "Length: 100\n",
       "Categories (5, interval[int64, right]): [(10, 18] < (18, 25] < (25, 40] < (40, 60] < (60, 100]]"
      ]
     },
     "execution_count": 25,
     "metadata": {},
     "output_type": "execute_result"
    }
   ],
   "source": [
    "age_cat"
   ]
  },
  {
   "cell_type": "code",
   "execution_count": 26,
   "id": "53d9b9a7",
   "metadata": {},
   "outputs": [
    {
     "data": {
      "text/html": [
       "<div>\n",
       "<style scoped>\n",
       "    .dataframe tbody tr th:only-of-type {\n",
       "        vertical-align: middle;\n",
       "    }\n",
       "\n",
       "    .dataframe tbody tr th {\n",
       "        vertical-align: top;\n",
       "    }\n",
       "\n",
       "    .dataframe thead th {\n",
       "        text-align: right;\n",
       "    }\n",
       "</style>\n",
       "<table border=\"1\" class=\"dataframe\">\n",
       "  <thead>\n",
       "    <tr style=\"text-align: right;\">\n",
       "      <th></th>\n",
       "      <th>(10, 18]</th>\n",
       "      <th>(18, 25]</th>\n",
       "      <th>(25, 40]</th>\n",
       "      <th>(40, 60]</th>\n",
       "      <th>(60, 100]</th>\n",
       "    </tr>\n",
       "  </thead>\n",
       "  <tbody>\n",
       "    <tr>\n",
       "      <th>0</th>\n",
       "      <td>False</td>\n",
       "      <td>False</td>\n",
       "      <td>True</td>\n",
       "      <td>False</td>\n",
       "      <td>False</td>\n",
       "    </tr>\n",
       "    <tr>\n",
       "      <th>1</th>\n",
       "      <td>False</td>\n",
       "      <td>False</td>\n",
       "      <td>False</td>\n",
       "      <td>True</td>\n",
       "      <td>False</td>\n",
       "    </tr>\n",
       "    <tr>\n",
       "      <th>2</th>\n",
       "      <td>False</td>\n",
       "      <td>False</td>\n",
       "      <td>True</td>\n",
       "      <td>False</td>\n",
       "      <td>False</td>\n",
       "    </tr>\n",
       "    <tr>\n",
       "      <th>3</th>\n",
       "      <td>False</td>\n",
       "      <td>False</td>\n",
       "      <td>True</td>\n",
       "      <td>False</td>\n",
       "      <td>False</td>\n",
       "    </tr>\n",
       "    <tr>\n",
       "      <th>4</th>\n",
       "      <td>False</td>\n",
       "      <td>False</td>\n",
       "      <td>True</td>\n",
       "      <td>False</td>\n",
       "      <td>False</td>\n",
       "    </tr>\n",
       "    <tr>\n",
       "      <th>...</th>\n",
       "      <td>...</td>\n",
       "      <td>...</td>\n",
       "      <td>...</td>\n",
       "      <td>...</td>\n",
       "      <td>...</td>\n",
       "    </tr>\n",
       "    <tr>\n",
       "      <th>95</th>\n",
       "      <td>True</td>\n",
       "      <td>False</td>\n",
       "      <td>False</td>\n",
       "      <td>False</td>\n",
       "      <td>False</td>\n",
       "    </tr>\n",
       "    <tr>\n",
       "      <th>96</th>\n",
       "      <td>False</td>\n",
       "      <td>False</td>\n",
       "      <td>False</td>\n",
       "      <td>True</td>\n",
       "      <td>False</td>\n",
       "    </tr>\n",
       "    <tr>\n",
       "      <th>97</th>\n",
       "      <td>False</td>\n",
       "      <td>False</td>\n",
       "      <td>False</td>\n",
       "      <td>True</td>\n",
       "      <td>False</td>\n",
       "    </tr>\n",
       "    <tr>\n",
       "      <th>98</th>\n",
       "      <td>False</td>\n",
       "      <td>False</td>\n",
       "      <td>True</td>\n",
       "      <td>False</td>\n",
       "      <td>False</td>\n",
       "    </tr>\n",
       "    <tr>\n",
       "      <th>99</th>\n",
       "      <td>False</td>\n",
       "      <td>False</td>\n",
       "      <td>True</td>\n",
       "      <td>False</td>\n",
       "      <td>False</td>\n",
       "    </tr>\n",
       "  </tbody>\n",
       "</table>\n",
       "<p>100 rows × 5 columns</p>\n",
       "</div>"
      ],
      "text/plain": [
       "    (10, 18]  (18, 25]  (25, 40]  (40, 60]  (60, 100]\n",
       "0      False     False      True     False      False\n",
       "1      False     False     False      True      False\n",
       "2      False     False      True     False      False\n",
       "3      False     False      True     False      False\n",
       "4      False     False      True     False      False\n",
       "..       ...       ...       ...       ...        ...\n",
       "95      True     False     False     False      False\n",
       "96     False     False     False      True      False\n",
       "97     False     False     False      True      False\n",
       "98     False     False      True     False      False\n",
       "99     False     False      True     False      False\n",
       "\n",
       "[100 rows x 5 columns]"
      ]
     },
     "execution_count": 26,
     "metadata": {},
     "output_type": "execute_result"
    }
   ],
   "source": [
    "pd.get_dummies(age_cat)"
   ]
  },
  {
   "cell_type": "markdown",
   "id": "bc20a73f",
   "metadata": {},
   "source": [
    "### pandas extension data types"
   ]
  },
  {
   "cell_type": "markdown",
   "id": "6438eddc",
   "metadata": {},
   "source": [
    "pandas has its own data types to deal with real-world data. \n",
    "\n",
    " - `pd.NA`\n",
    " - `pd.CategoricalDtype`"
   ]
  },
  {
   "cell_type": "code",
   "execution_count": 27,
   "id": "9eeb3c28",
   "metadata": {},
   "outputs": [
    {
     "data": {
      "text/plain": [
       "<NA>"
      ]
     },
     "execution_count": 27,
     "metadata": {},
     "output_type": "execute_result"
    }
   ],
   "source": [
    "pd.NA"
   ]
  },
  {
   "cell_type": "code",
   "execution_count": 28,
   "id": "29f5b61b",
   "metadata": {},
   "outputs": [
    {
     "data": {
      "text/plain": [
       "pandas.core.dtypes.dtypes.CategoricalDtype"
      ]
     },
     "execution_count": 28,
     "metadata": {},
     "output_type": "execute_result"
    }
   ],
   "source": [
    "pd.CategoricalDtype"
   ]
  },
  {
   "cell_type": "markdown",
   "id": "6560b37d",
   "metadata": {},
   "source": []
  },
  {
   "cell_type": "code",
   "execution_count": 29,
   "id": "91d57a3a",
   "metadata": {},
   "outputs": [
    {
     "data": {
      "text/plain": [
       "2"
      ]
     },
     "execution_count": 29,
     "metadata": {},
     "output_type": "execute_result"
    }
   ],
   "source": [
    "'abcd'.find('c')"
   ]
  },
  {
   "cell_type": "markdown",
   "id": "e076e427",
   "metadata": {},
   "source": [
    "### String functions"
   ]
  },
  {
   "cell_type": "markdown",
   "id": "c43fc04a",
   "metadata": {},
   "source": [
    "pandas string functions skip NAN values. (No error)"
   ]
  },
  {
   "cell_type": "code",
   "execution_count": 33,
   "id": "2498bd80",
   "metadata": {},
   "outputs": [
    {
     "data": {
      "text/plain": [
       "Piggy     555-6465\n",
       "Kitty     555-6369\n",
       "Puppy     555-2275\n",
       "Shadow         NaN\n",
       "dtype: object"
      ]
     },
     "execution_count": 33,
     "metadata": {},
     "output_type": "execute_result"
    }
   ],
   "source": [
    "ser3 = pd.Series({'Piggy': '555-6465', 'Kitty': '555-6369', 'Puppy': '555-2275', 'Shadow': np.nan})\n",
    "ser3"
   ]
  },
  {
   "cell_type": "code",
   "execution_count": 34,
   "id": "2647d782",
   "metadata": {},
   "outputs": [
    {
     "data": {
      "text/plain": [
       "Piggy     False\n",
       "Kitty     False\n",
       "Puppy     False\n",
       "Shadow     True\n",
       "dtype: bool"
      ]
     },
     "execution_count": 34,
     "metadata": {},
     "output_type": "execute_result"
    }
   ],
   "source": [
    "ser3.isna()"
   ]
  },
  {
   "cell_type": "code",
   "execution_count": 35,
   "id": "00e8dfb6",
   "metadata": {},
   "outputs": [
    {
     "data": {
      "text/plain": [
       "Piggy     True\n",
       "Kitty     True\n",
       "Puppy     True\n",
       "Shadow     NaN\n",
       "dtype: object"
      ]
     },
     "execution_count": 35,
     "metadata": {},
     "output_type": "execute_result"
    }
   ],
   "source": [
    "ser3.str.contains('555')"
   ]
  },
  {
   "cell_type": "markdown",
   "id": "043427c5",
   "metadata": {},
   "source": [
    "Regex for the phone number matching."
   ]
  },
  {
   "cell_type": "code",
   "execution_count": 36,
   "id": "4cf4d4f4",
   "metadata": {},
   "outputs": [
    {
     "data": {
      "text/plain": [
       "Piggy     [(555, 6465)]\n",
       "Kitty     [(555, 6369)]\n",
       "Puppy     [(555, 2275)]\n",
       "Shadow              NaN\n",
       "dtype: object"
      ]
     },
     "execution_count": 36,
     "metadata": {},
     "output_type": "execute_result"
    }
   ],
   "source": [
    "pattern = r'([0-9]+)-([0-9]+)'\n",
    "ser3.str.findall(pattern)"
   ]
  },
  {
   "cell_type": "code",
   "execution_count": 41,
   "id": "9ca1b7a1",
   "metadata": {},
   "outputs": [
    {
     "data": {
      "text/plain": [
       "Piggy     (555, 6465)\n",
       "Kitty     (555, 6369)\n",
       "Puppy     (555, 2275)\n",
       "Shadow            NaN\n",
       "dtype: object"
      ]
     },
     "execution_count": 41,
     "metadata": {},
     "output_type": "execute_result"
    }
   ],
   "source": [
    "matches = ser3.str.findall(pattern).str[0]\n",
    "matches"
   ]
  },
  {
   "cell_type": "code",
   "execution_count": 42,
   "id": "1ecbffa2",
   "metadata": {},
   "outputs": [
    {
     "data": {
      "text/plain": [
       "Piggy     6465\n",
       "Kitty     6369\n",
       "Puppy     2275\n",
       "Shadow     NaN\n",
       "dtype: object"
      ]
     },
     "execution_count": 42,
     "metadata": {},
     "output_type": "execute_result"
    }
   ],
   "source": [
    "matches.str.get(1)"
   ]
  },
  {
   "cell_type": "markdown",
   "id": "9fb842cd",
   "metadata": {},
   "source": [
    "`str` basically turns it into a string, and any string operation can be performed."
   ]
  },
  {
   "cell_type": "code",
   "execution_count": 46,
   "id": "90f8f359",
   "metadata": {},
   "outputs": [
    {
     "data": {
      "text/plain": [
       "Piggy     5-6465\n",
       "Kitty     5-6369\n",
       "Puppy     5-2275\n",
       "Shadow       NaN\n",
       "dtype: object"
      ]
     },
     "execution_count": 46,
     "metadata": {},
     "output_type": "execute_result"
    }
   ],
   "source": [
    "ser3.str[2:]"
   ]
  },
  {
   "cell_type": "markdown",
   "id": "5b2b96dd",
   "metadata": {},
   "source": [
    "#### `extract`: Cool trick to turn it into a dataframe."
   ]
  },
  {
   "cell_type": "code",
   "execution_count": 47,
   "id": "51594889",
   "metadata": {},
   "outputs": [
    {
     "data": {
      "text/html": [
       "<div>\n",
       "<style scoped>\n",
       "    .dataframe tbody tr th:only-of-type {\n",
       "        vertical-align: middle;\n",
       "    }\n",
       "\n",
       "    .dataframe tbody tr th {\n",
       "        vertical-align: top;\n",
       "    }\n",
       "\n",
       "    .dataframe thead th {\n",
       "        text-align: right;\n",
       "    }\n",
       "</style>\n",
       "<table border=\"1\" class=\"dataframe\">\n",
       "  <thead>\n",
       "    <tr style=\"text-align: right;\">\n",
       "      <th></th>\n",
       "      <th>0</th>\n",
       "      <th>1</th>\n",
       "    </tr>\n",
       "  </thead>\n",
       "  <tbody>\n",
       "    <tr>\n",
       "      <th>Piggy</th>\n",
       "      <td>555</td>\n",
       "      <td>6465</td>\n",
       "    </tr>\n",
       "    <tr>\n",
       "      <th>Kitty</th>\n",
       "      <td>555</td>\n",
       "      <td>6369</td>\n",
       "    </tr>\n",
       "    <tr>\n",
       "      <th>Puppy</th>\n",
       "      <td>555</td>\n",
       "      <td>2275</td>\n",
       "    </tr>\n",
       "    <tr>\n",
       "      <th>Shadow</th>\n",
       "      <td>NaN</td>\n",
       "      <td>NaN</td>\n",
       "    </tr>\n",
       "  </tbody>\n",
       "</table>\n",
       "</div>"
      ],
      "text/plain": [
       "          0     1\n",
       "Piggy   555  6465\n",
       "Kitty   555  6369\n",
       "Puppy   555  2275\n",
       "Shadow  NaN   NaN"
      ]
     },
     "execution_count": 47,
     "metadata": {},
     "output_type": "execute_result"
    }
   ],
   "source": [
    "ser3.str.extract(pattern)"
   ]
  },
  {
   "cell_type": "code",
   "execution_count": null,
   "id": "c2b3b74f",
   "metadata": {},
   "outputs": [],
   "source": []
  }
 ],
 "metadata": {
  "kernelspec": {
   "display_name": "Python 3 (ipykernel)",
   "language": "python",
   "name": "python3"
  },
  "language_info": {
   "codemirror_mode": {
    "name": "ipython",
    "version": 3
   },
   "file_extension": ".py",
   "mimetype": "text/x-python",
   "name": "python",
   "nbconvert_exporter": "python",
   "pygments_lexer": "ipython3",
   "version": "3.10.13"
  },
  "toc": {
   "base_numbering": 1,
   "nav_menu": {
    "height": "251px",
    "width": "304px"
   },
   "number_sections": true,
   "sideBar": true,
   "skip_h1_title": false,
   "title_cell": "Table of Contents",
   "title_sidebar": "Contents",
   "toc_cell": false,
   "toc_position": {},
   "toc_section_display": true,
   "toc_window_display": false
  }
 },
 "nbformat": 4,
 "nbformat_minor": 5
}
