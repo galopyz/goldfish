{
 "cells": [
  {
   "cell_type": "markdown",
   "id": "ed425062",
   "metadata": {},
   "source": [
    "# IPython tips"
   ]
  },
  {
   "cell_type": "markdown",
   "id": "8f0a3b8a",
   "metadata": {},
   "source": [
    "Here are some functionalities and tips I tend to forget a lot. From https://wesmckinney.com/book/python-basics"
   ]
  },
  {
   "cell_type": "markdown",
   "id": "2476cc64",
   "metadata": {},
   "source": [
    "## Introspection"
   ]
  },
  {
   "cell_type": "markdown",
   "id": "6ed91cee",
   "metadata": {},
   "source": [
    "Help with `?`"
   ]
  },
  {
   "cell_type": "code",
   "execution_count": 1,
   "id": "b385224b",
   "metadata": {},
   "outputs": [],
   "source": [
    "list?"
   ]
  },
  {
   "cell_type": "markdown",
   "id": "ee0204f9",
   "metadata": {},
   "source": [
    "Pattern match with `?` and `*`"
   ]
  },
  {
   "cell_type": "code",
   "execution_count": 6,
   "id": "71a050b0",
   "metadata": {},
   "outputs": [],
   "source": [
    "list.c*?"
   ]
  },
  {
   "cell_type": "markdown",
   "id": "499664a6",
   "metadata": {},
   "source": [
    "## Type checking"
   ]
  },
  {
   "cell_type": "markdown",
   "id": "6e3c9026",
   "metadata": {},
   "source": [
    "`isinstance` can take tuple of types!"
   ]
  },
  {
   "cell_type": "code",
   "execution_count": 7,
   "id": "d6498e8e",
   "metadata": {},
   "outputs": [
    {
     "data": {
      "text/plain": [
       "True"
      ]
     },
     "execution_count": 7,
     "metadata": {},
     "output_type": "execute_result"
    }
   ],
   "source": [
    "a = 1; b = 1.5\n",
    "isinstance(a, (int, float))"
   ]
  },
  {
   "cell_type": "markdown",
   "id": "94a69b7f",
   "metadata": {},
   "source": [
    "## Duck typing"
   ]
  },
  {
   "cell_type": "markdown",
   "id": "a0b50b37",
   "metadata": {},
   "source": [
    "Checking whther an object has certain method. \"If it walks like a duck and quaks like a duck, it is a duck.\""
   ]
  },
  {
   "cell_type": "code",
   "execution_count": 10,
   "id": "2d1f0d0b",
   "metadata": {},
   "outputs": [],
   "source": [
    "def isiterable(obj):\n",
    "    try:\n",
    "         iter(obj)\n",
    "         return True\n",
    "    except TypeError: # not iterable\n",
    "         return False"
   ]
  },
  {
   "cell_type": "code",
   "execution_count": 11,
   "id": "8847c662",
   "metadata": {},
   "outputs": [
    {
     "data": {
      "text/plain": [
       "False"
      ]
     },
     "execution_count": 11,
     "metadata": {},
     "output_type": "execute_result"
    }
   ],
   "source": [
    "isiterable(list)"
   ]
  },
  {
   "cell_type": "code",
   "execution_count": 14,
   "id": "e65d27cd",
   "metadata": {},
   "outputs": [
    {
     "data": {
      "text/plain": [
       "True"
      ]
     },
     "execution_count": 14,
     "metadata": {},
     "output_type": "execute_result"
    }
   ],
   "source": [
    "isiterable([1,2])"
   ]
  },
  {
   "cell_type": "markdown",
   "id": "2f12775d",
   "metadata": {},
   "source": [
    "## Equality check"
   ]
  },
  {
   "cell_type": "code",
   "execution_count": 16,
   "id": "b81aaae6",
   "metadata": {},
   "outputs": [
    {
     "data": {
      "text/plain": [
       "True"
      ]
     },
     "execution_count": 16,
     "metadata": {},
     "output_type": "execute_result"
    }
   ],
   "source": [
    "lst1 = [1,2]\n",
    "lst2 = lst1\n",
    "lst1 == lst2"
   ]
  },
  {
   "cell_type": "code",
   "execution_count": 17,
   "id": "df8384ad",
   "metadata": {},
   "outputs": [
    {
     "data": {
      "text/plain": [
       "True"
      ]
     },
     "execution_count": 17,
     "metadata": {},
     "output_type": "execute_result"
    }
   ],
   "source": [
    "lst1 is lst2"
   ]
  },
  {
   "cell_type": "markdown",
   "id": "8345118a",
   "metadata": {},
   "source": [
    "`lst1` and `lst2` are the same."
   ]
  },
  {
   "cell_type": "markdown",
   "id": "be5ca4be",
   "metadata": {},
   "source": [
    "A new list object makes it different."
   ]
  },
  {
   "cell_type": "code",
   "execution_count": 18,
   "id": "233a4a89",
   "metadata": {},
   "outputs": [
    {
     "data": {
      "text/plain": [
       "True"
      ]
     },
     "execution_count": 18,
     "metadata": {},
     "output_type": "execute_result"
    }
   ],
   "source": [
    "lst3 = list(lst1)\n",
    "lst1 == lst3"
   ]
  },
  {
   "cell_type": "code",
   "execution_count": 19,
   "id": "8a978a22",
   "metadata": {},
   "outputs": [
    {
     "data": {
      "text/plain": [
       "False"
      ]
     },
     "execution_count": 19,
     "metadata": {},
     "output_type": "execute_result"
    }
   ],
   "source": [
    "lst1 is lst3"
   ]
  },
  {
   "cell_type": "markdown",
   "id": "07da4c27",
   "metadata": {},
   "source": [
    "They are the same with `==` (equality operator) because they have same values, but different with `is` (identity operator) due to different memory locations."
   ]
  },
  {
   "cell_type": "markdown",
   "id": "33782373",
   "metadata": {},
   "source": [
    "`is` can be used to test whether something is `None` or not because there can only be one `None` in python."
   ]
  },
  {
   "cell_type": "code",
   "execution_count": 20,
   "id": "c119c19f",
   "metadata": {},
   "outputs": [
    {
     "data": {
      "text/plain": [
       "True"
      ]
     },
     "execution_count": 20,
     "metadata": {},
     "output_type": "execute_result"
    }
   ],
   "source": [
    "None is None"
   ]
  },
  {
   "cell_type": "markdown",
   "id": "1ea2630c",
   "metadata": {},
   "source": [
    "## String template and format"
   ]
  },
  {
   "cell_type": "code",
   "execution_count": 25,
   "id": "4d93da5f",
   "metadata": {},
   "outputs": [
    {
     "data": {
      "text/plain": [
       "'40.33 hihi are worth US$3)'"
      ]
     },
     "execution_count": 25,
     "metadata": {},
     "output_type": "execute_result"
    }
   ],
   "source": [
    "template = \"{0:.2f} {1:s} are worth US${2:d})\"\n",
    "template.format(40.333, \"hihi\", 3)"
   ]
  },
  {
   "cell_type": "markdown",
   "id": "5d853b0a",
   "metadata": {},
   "source": [
    "- `{0:.2f}`: More on https://docs.python.org/3/library/string.html"
   ]
  },
  {
   "cell_type": "markdown",
   "id": "be933542",
   "metadata": {},
   "source": [
    "## Popping dictionary"
   ]
  },
  {
   "cell_type": "code",
   "execution_count": 1,
   "id": "1b1300c5",
   "metadata": {},
   "outputs": [
    {
     "data": {
      "text/plain": [
       "'hola'"
      ]
     },
     "execution_count": 1,
     "metadata": {},
     "output_type": "execute_result"
    }
   ],
   "source": [
    "d1 = {'hi':'hola', 'bye':'adios'}\n",
    "greeting = d1.pop('hi')\n",
    "greeting"
   ]
  },
  {
   "cell_type": "markdown",
   "id": "98282c05",
   "metadata": {},
   "source": [
    "## Files and operating syste"
   ]
  },
  {
   "cell_type": "markdown",
   "id": "9f9803d1",
   "metadata": {},
   "source": [
    "From https://wesmckinney.com/book/python-builtin#files_os"
   ]
  },
  {
   "cell_type": "code",
   "execution_count": null,
   "id": "3453a5b8",
   "metadata": {},
   "outputs": [],
   "source": []
  }
 ],
 "metadata": {
  "kernelspec": {
   "display_name": "Python 3 (ipykernel)",
   "language": "python",
   "name": "python3"
  },
  "language_info": {
   "codemirror_mode": {
    "name": "ipython",
    "version": 3
   },
   "file_extension": ".py",
   "mimetype": "text/x-python",
   "name": "python",
   "nbconvert_exporter": "python",
   "pygments_lexer": "ipython3",
   "version": "3.10.13"
  },
  "toc": {
   "base_numbering": 1,
   "nav_menu": {},
   "number_sections": true,
   "sideBar": true,
   "skip_h1_title": false,
   "title_cell": "Table of Contents",
   "title_sidebar": "Contents",
   "toc_cell": false,
   "toc_position": {},
   "toc_section_display": true,
   "toc_window_display": false
  }
 },
 "nbformat": 4,
 "nbformat_minor": 5
}
