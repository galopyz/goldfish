{
 "cells": [
  {
   "cell_type": "markdown",
   "id": "f3cd2a6d",
   "metadata": {},
   "source": [
    "# Bioinformatics 101"
   ]
  },
  {
   "cell_type": "markdown",
   "id": "7ebcfe01",
   "metadata": {},
   "source": [
    "In this notebook, we will manipulate gene expression data (RNA seq). The data is from https://www.ncbi.nlm.nih.gov/geo/query/acc.cgi?acc=GSE183947. This notebook is created from following [this Youtube playlist](https://www.youtube.com/playlist?list=PLJefJsd1yfhbIhblS-85alaFsPdU00DaA) by Bioinformagician."
   ]
  },
  {
   "cell_type": "markdown",
   "id": "5108fe79",
   "metadata": {},
   "source": [
    "## Importing libraries and getting data"
   ]
  },
  {
   "cell_type": "markdown",
   "id": "b679e708",
   "metadata": {},
   "source": [
    "We set print options because jupyter notebook cuts columns off short."
   ]
  },
  {
   "cell_type": "code",
   "execution_count": 1,
   "id": "1b8d3342",
   "metadata": {},
   "outputs": [],
   "source": [
    "options(repr.matrix.max.cols=50, repr.matrix.max.rows=100)"
   ]
  },
  {
   "cell_type": "code",
   "execution_count": 2,
   "id": "6ad81e6f",
   "metadata": {
    "scrolled": true
   },
   "outputs": [
    {
     "name": "stderr",
     "output_type": "stream",
     "text": [
      "\n",
      "Attaching package: ‘dplyr’\n",
      "\n",
      "\n",
      "The following objects are masked from ‘package:stats’:\n",
      "\n",
      "    filter, lag\n",
      "\n",
      "\n",
      "The following objects are masked from ‘package:base’:\n",
      "\n",
      "    intersect, setdiff, setequal, union\n",
      "\n",
      "\n",
      "── \u001b[1mAttaching core tidyverse packages\u001b[22m ───────────────────── tidyverse 2.0.0 ──\n",
      "\u001b[32m✔\u001b[39m \u001b[34mforcats  \u001b[39m 1.0.0     \u001b[32m✔\u001b[39m \u001b[34mreadr    \u001b[39m 2.1.5\n",
      "\u001b[32m✔\u001b[39m \u001b[34mggplot2  \u001b[39m 3.5.1     \u001b[32m✔\u001b[39m \u001b[34mstringr  \u001b[39m 1.5.1\n",
      "\u001b[32m✔\u001b[39m \u001b[34mlubridate\u001b[39m 1.9.3     \u001b[32m✔\u001b[39m \u001b[34mtibble   \u001b[39m 3.2.1\n",
      "\u001b[32m✔\u001b[39m \u001b[34mpurrr    \u001b[39m 1.0.2     \u001b[32m✔\u001b[39m \u001b[34mtidyr    \u001b[39m 1.3.1\n",
      "── \u001b[1mConflicts\u001b[22m ─────────────────────────────────────── tidyverse_conflicts() ──\n",
      "\u001b[31m✖\u001b[39m \u001b[34mdplyr\u001b[39m::\u001b[32mfilter()\u001b[39m masks \u001b[34mstats\u001b[39m::filter()\n",
      "\u001b[31m✖\u001b[39m \u001b[34mdplyr\u001b[39m::\u001b[32mlag()\u001b[39m    masks \u001b[34mstats\u001b[39m::lag()\n",
      "\u001b[36mℹ\u001b[39m Use the conflicted package (\u001b[3m\u001b[34m<http://conflicted.r-lib.org/>\u001b[39m\u001b[23m) to force all conflicts to become errors\n"
     ]
    },
    {
     "ename": "ERROR",
     "evalue": "Error in library(GEOquery): there is no package called ‘GEOquery’\n",
     "output_type": "error",
     "traceback": [
      "Error in library(GEOquery): there is no package called ‘GEOquery’\nTraceback:\n",
      "1. library(GEOquery)"
     ]
    }
   ],
   "source": [
    "library(dplyr)\n",
    "library(tidyverse)\n",
    "library(GEOquery)"
   ]
  },
  {
   "cell_type": "code",
   "execution_count": null,
   "id": "c28b8a98",
   "metadata": {},
   "outputs": [],
   "source": [
    "dat <- read.csv(file = '../data/GSE183947_fpkm.csv')"
   ]
  },
  {
   "cell_type": "code",
   "execution_count": null,
   "id": "5968afed",
   "metadata": {},
   "outputs": [],
   "source": [
    "dim(dat)"
   ]
  },
  {
   "cell_type": "markdown",
   "id": "26bcbcc2",
   "metadata": {},
   "source": [
    "On the website that provided the data, we can read more about it. The data consists of 30 samples with breast cancer and 30 samples without cancer. \n",
    "\n",
    "Looking at the data, it has 20246 genes and 60 cells. Each value represents an expression of genes normalized with [FPKM](https://docs.gdc.cancer.gov/Encyclopedia/pages/FPKM/#:~:text=Description,total%20number%20of%20mapped%20reads.) (Fragments Per Kilobase of transcript per Million mapped reads). "
   ]
  },
  {
   "cell_type": "code",
   "execution_count": null,
   "id": "a55ba323",
   "metadata": {},
   "outputs": [],
   "source": [
    "head(dat)"
   ]
  },
  {
   "cell_type": "markdown",
   "id": "dd15a22d",
   "metadata": {},
   "source": [
    "After looking at the data, we get metadata to find out which ones are cancer cells or not. We can easily get the data using `getGEO` to download it."
   ]
  },
  {
   "cell_type": "code",
   "execution_count": null,
   "id": "0e2e8215",
   "metadata": {},
   "outputs": [],
   "source": [
    "gse <- getGEO(GEO = 'GSE183947')"
   ]
  },
  {
   "cell_type": "code",
   "execution_count": null,
   "id": "8ab48891",
   "metadata": {
    "scrolled": true
   },
   "outputs": [],
   "source": [
    "gse"
   ]
  },
  {
   "cell_type": "markdown",
   "id": "02a52b98",
   "metadata": {},
   "source": [
    "From this, we can get the metadata."
   ]
  },
  {
   "cell_type": "code",
   "execution_count": null,
   "id": "775eb952",
   "metadata": {},
   "outputs": [],
   "source": [
    "phenoData(gse[[1]])"
   ]
  },
  {
   "cell_type": "code",
   "execution_count": null,
   "id": "8211a68f",
   "metadata": {
    "scrolled": true
   },
   "outputs": [],
   "source": [
    "metadata <- pData(phenoData(gse[[1]]))\n",
    "head(metadata, 1)"
   ]
  },
  {
   "cell_type": "markdown",
   "id": "6219518b",
   "metadata": {},
   "source": [
    "There are many columns, but we only care about 1st, 10th, 11th, and 17th columns."
   ]
  },
  {
   "cell_type": "code",
   "execution_count": null,
   "id": "71746006",
   "metadata": {},
   "outputs": [],
   "source": [
    "metadata.subset <- select(metadata, c(1,10,11,17))"
   ]
  },
  {
   "cell_type": "code",
   "execution_count": null,
   "id": "6a411dd0",
   "metadata": {},
   "outputs": [],
   "source": [
    "metadata.subset[1,]"
   ]
  },
  {
   "cell_type": "code",
   "execution_count": null,
   "id": "19ab4cab-f461-4fa4-8e61-65b437123759",
   "metadata": {},
   "outputs": [],
   "source": [
    "head(metadata.subset)"
   ]
  },
  {
   "cell_type": "markdown",
   "id": "6ee5bf16",
   "metadata": {},
   "source": [
    "## Using pipe"
   ]
  },
  {
   "cell_type": "markdown",
   "id": "b3918fdf",
   "metadata": {},
   "source": [
    "We want to change the names of columns and values because they are horrible. What do characteristics_ch1 and characteristics_ch1.1 mean? We can change them by using pipes (`%>%`). By putting `%>%` at the end each line, the result of each line is passed to the following line. \n",
    "\n",
    "Here are the functions used in the pipes:\n",
    "  - `select` selects columns from `metadata`.\n",
    "  - `rename` renames column names.\n",
    "  - `mutate` changes the data from the column.\n",
    "  - `gsub` replaces the pattern. In this case, it replaces `\"tissue: \"` into `\"\"`, which means deleting the matching string from `tissue` column.\n",
    "  - `head` returns top 6 rows."
   ]
  },
  {
   "cell_type": "code",
   "execution_count": null,
   "id": "e5d4a57d-6f14-4541-bff5-298380196da5",
   "metadata": {},
   "outputs": [],
   "source": [
    "metadata %>%\n",
    "    select(1,10,11,17) %>%\n",
    "    rename(tissue = characteristics_ch1) %>%\n",
    "    rename(metastasis = characteristics_ch1.1) %>%\n",
    "    mutate(tissue = gsub('tissue: ', '', tissue)) %>%\n",
    "    mutate(metastasis = gsub('metastasis: ', '', metastasis)) %>%\n",
    "    head()"
   ]
  },
  {
   "cell_type": "markdown",
   "id": "5d1e5688-ffa9-4e11-bbe6-19fb08638c10",
   "metadata": {},
   "source": [
    "After checking that it has the right format, we assign it to `metadata.modified`."
   ]
  },
  {
   "cell_type": "code",
   "execution_count": null,
   "id": "72a86909",
   "metadata": {},
   "outputs": [],
   "source": [
    "metadata.modified <- metadata %>%\n",
    "    select(1,10,11,17) %>%\n",
    "    rename(tissue = characteristics_ch1) %>%\n",
    "    rename(metastasis = characteristics_ch1.1) %>%\n",
    "    mutate(tissue = gsub(\"tissue: \", \"\", tissue)) %>%\n",
    "    mutate(metastasis = gsub(\"metastasis: \", \"\", metastasis))"
   ]
  },
  {
   "cell_type": "code",
   "execution_count": null,
   "id": "8aca8ff3",
   "metadata": {},
   "outputs": [],
   "source": [
    "metadata.modified[1:3,]"
   ]
  },
  {
   "cell_type": "markdown",
   "id": "7b3e996b",
   "metadata": {},
   "source": [
    "Right now, our data is in a wide format, which means samples run through columns. We will reshape data into a long format, which is easier to work with. We will use `gather` function to reshape the data by providing key and value. `-gene` leaves the gene column alone."
   ]
  },
  {
   "cell_type": "code",
   "execution_count": null,
   "id": "b3d97ce9",
   "metadata": {},
   "outputs": [],
   "source": [
    "head(dat)"
   ]
  },
  {
   "cell_type": "code",
   "execution_count": null,
   "id": "4cba694b",
   "metadata": {},
   "outputs": [],
   "source": [
    "dat.long <- dat %>%\n",
    "    rename(gene = X) %>%\n",
    "    gather(key = 'samples', value = 'FPKM', -gene)"
   ]
  },
  {
   "cell_type": "code",
   "execution_count": null,
   "id": "c18ffe5d",
   "metadata": {},
   "outputs": [],
   "source": [
    "head(dat.long)"
   ]
  },
  {
   "cell_type": "code",
   "execution_count": null,
   "id": "17dd47d7",
   "metadata": {},
   "outputs": [],
   "source": [
    "dim(dat.long)"
   ]
  },
  {
   "cell_type": "markdown",
   "id": "bdd4cff5",
   "metadata": {},
   "source": [
    "Now, we will join dat.long and metadata.modified so we have gene expression and cancer value in one dataframe. We use `left_join` which adds additional columns on the left dataframe (`dat.long` in this case). We take a look at the result of the pipeline with `head` then assigns the result into `dat.long`."
   ]
  },
  {
   "cell_type": "code",
   "execution_count": null,
   "id": "e4c558c7",
   "metadata": {},
   "outputs": [],
   "source": [
    "dat.long %>%\n",
    "    left_join(., metadata.modified, by = c('samples' = 'description')) %>%\n",
    "    head()"
   ]
  },
  {
   "cell_type": "code",
   "execution_count": null,
   "id": "ceb368f0",
   "metadata": {},
   "outputs": [],
   "source": [
    "dat.long <- dat.long %>%\n",
    "    left_join(., metadata.modified, by = c('samples' = 'description'))"
   ]
  },
  {
   "cell_type": "code",
   "execution_count": null,
   "id": "3cb450b5",
   "metadata": {},
   "outputs": [],
   "source": [
    "head(dat.long)"
   ]
  },
  {
   "cell_type": "markdown",
   "id": "90433d92",
   "metadata": {},
   "source": [
    "## Explore data"
   ]
  },
  {
   "cell_type": "markdown",
   "id": "0a18f729",
   "metadata": {},
   "source": [
    "We can explore the data. Since we are interested in breast cancer, we want to look at `BRCA1` and `BRCA2` genes, which are tumor suppressor genes. \n",
    "\n",
    "Pipe line:\n",
    "  - `filter` filters rows by values.\n",
    "  - `group_by` groups by gene and tissue columns so that we can calculate values.\n",
    "  - `summarise` makes a summary by calculating mean and median.\n",
    "  - `arrange` sorts by values. `-mean_FPKM` sorts by descending order.\n",
    "  - `head` provides us with an output."
   ]
  },
  {
   "cell_type": "code",
   "execution_count": null,
   "id": "44eb3ab0-3393-45d4-83f8-3ce9488f4b0e",
   "metadata": {},
   "outputs": [],
   "source": [
    "dat.long %>%\n",
    "    filter(gene == 'BRCA1' | gene == 'BRCA2') %>%\n",
    "    group_by(gene, tissue) %>%\n",
    "    summarise(mean_FPKM = mean(FPKM),\n",
    "              median_FPKM = median(FPKM)) %>%\n",
    "    arrange(-mean_FPKM) %>%\n",
    "    head()"
   ]
  },
  {
   "cell_type": "code",
   "execution_count": null,
   "id": "5f1c9e85-cb20-4e44-89e7-1f4222529f7d",
   "metadata": {},
   "outputs": [],
   "source": []
  }
 ],
 "metadata": {
  "kernelspec": {
   "display_name": "R",
   "language": "R",
   "name": "ir"
  },
  "language_info": {
   "codemirror_mode": "r",
   "file_extension": ".r",
   "mimetype": "text/x-r-source",
   "name": "R",
   "pygments_lexer": "r",
   "version": "4.3.3"
  },
  "toc": {
   "base_numbering": 1,
   "nav_menu": {},
   "number_sections": true,
   "sideBar": true,
   "skip_h1_title": false,
   "title_cell": "Table of Contents",
   "title_sidebar": "Contents",
   "toc_cell": false,
   "toc_position": {},
   "toc_section_display": true,
   "toc_window_display": false
  }
 },
 "nbformat": 4,
 "nbformat_minor": 5
}
