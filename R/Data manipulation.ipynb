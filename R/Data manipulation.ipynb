{
 "cells": [
  {
   "cell_type": "markdown",
   "id": "f3cd2a6d",
   "metadata": {},
   "source": [
    "# Bioinformatics 101"
   ]
  },
  {
   "cell_type": "markdown",
   "id": "7ebcfe01",
   "metadata": {},
   "source": [
    "In this notebook, we will manipulate gene expression data."
   ]
  },
  {
   "cell_type": "code",
   "execution_count": 16,
   "id": "1b8d3342",
   "metadata": {},
   "outputs": [],
   "source": [
    "options(repr.matrix.max.cols=50, repr.matrix.max.rows=100)"
   ]
  },
  {
   "cell_type": "markdown",
   "id": "2e069b4e",
   "metadata": {},
   "source": [
    "Importing libraries:"
   ]
  },
  {
   "cell_type": "code",
   "execution_count": 8,
   "id": "6ad81e6f",
   "metadata": {},
   "outputs": [],
   "source": [
    "suppressWarnings(library(dplyr))\n",
    "suppressWarnings(library(tidyverse))\n",
    "suppressWarnings(library(GEOquery))"
   ]
  },
  {
   "cell_type": "markdown",
   "id": "27914bef",
   "metadata": {},
   "source": [
    "Read in the data"
   ]
  },
  {
   "cell_type": "code",
   "execution_count": 9,
   "id": "c28b8a98",
   "metadata": {},
   "outputs": [],
   "source": [
    "dat <- read.csv(file = '../data/GSE183947_fpkm.csv')"
   ]
  },
  {
   "cell_type": "code",
   "execution_count": 10,
   "id": "5968afed",
   "metadata": {},
   "outputs": [
    {
     "data": {
      "text/html": [
       "<style>\n",
       ".list-inline {list-style: none; margin:0; padding: 0}\n",
       ".list-inline>li {display: inline-block}\n",
       ".list-inline>li:not(:last-child)::after {content: \"\\00b7\"; padding: 0 .5ex}\n",
       "</style>\n",
       "<ol class=list-inline><li>20246</li><li>61</li></ol>\n"
      ],
      "text/latex": [
       "\\begin{enumerate*}\n",
       "\\item 20246\n",
       "\\item 61\n",
       "\\end{enumerate*}\n"
      ],
      "text/markdown": [
       "1. 20246\n",
       "2. 61\n",
       "\n",
       "\n"
      ],
      "text/plain": [
       "[1] 20246    61"
      ]
     },
     "metadata": {},
     "output_type": "display_data"
    }
   ],
   "source": [
    "dim(dat)"
   ]
  },
  {
   "cell_type": "code",
   "execution_count": 11,
   "id": "a55ba323",
   "metadata": {},
   "outputs": [
    {
     "data": {
      "text/html": [
       "<table class=\"dataframe\">\n",
       "<caption>A data.frame: 6 × 61</caption>\n",
       "<thead>\n",
       "\t<tr><th></th><th scope=col>X</th><th scope=col>CA.102548</th><th scope=col>CA.104338</th><th scope=col>CA.105094</th><th scope=col>CA.109745</th><th scope=col>CA.1906415</th><th scope=col>CA.1912627</th><th scope=col>CA.1924346</th><th scope=col>CA.1926760</th><th scope=col>CA.1927842</th><th scope=col>⋯</th><th scope=col>CAP.2040686</th><th scope=col>CAP.2046297</th><th scope=col>CAP.2046641</th><th scope=col>CAP.348981</th><th scope=col>CAP.354300</th><th scope=col>CAP.359448</th><th scope=col>CAP.94377</th><th scope=col>CAP.98389</th><th scope=col>CAP.98475</th><th scope=col>CAP.99145</th></tr>\n",
       "\t<tr><th></th><th scope=col>&lt;chr&gt;</th><th scope=col>&lt;dbl&gt;</th><th scope=col>&lt;dbl&gt;</th><th scope=col>&lt;dbl&gt;</th><th scope=col>&lt;dbl&gt;</th><th scope=col>&lt;dbl&gt;</th><th scope=col>&lt;dbl&gt;</th><th scope=col>&lt;dbl&gt;</th><th scope=col>&lt;dbl&gt;</th><th scope=col>&lt;dbl&gt;</th><th scope=col>⋯</th><th scope=col>&lt;dbl&gt;</th><th scope=col>&lt;dbl&gt;</th><th scope=col>&lt;dbl&gt;</th><th scope=col>&lt;dbl&gt;</th><th scope=col>&lt;dbl&gt;</th><th scope=col>&lt;dbl&gt;</th><th scope=col>&lt;dbl&gt;</th><th scope=col>&lt;dbl&gt;</th><th scope=col>&lt;dbl&gt;</th><th scope=col>&lt;dbl&gt;</th></tr>\n",
       "</thead>\n",
       "<tbody>\n",
       "\t<tr><th scope=row>1</th><td>TSPAN6  </td><td>0.93</td><td>1.97</td><td>0.00</td><td>5.45</td><td> 4.52</td><td> 4.75</td><td> 3.96</td><td> 3.58</td><td>6.41</td><td>⋯</td><td>6.66</td><td>8.35</td><td> 8.94</td><td> 6.33</td><td>5.94</td><td> 6.35</td><td> 3.74</td><td>4.84</td><td>10.46</td><td> 4.54</td></tr>\n",
       "\t<tr><th scope=row>2</th><td>TNMD    </td><td>0.00</td><td>0.00</td><td>0.00</td><td>0.00</td><td> 0.00</td><td> 0.00</td><td> 0.00</td><td> 0.23</td><td>0.39</td><td>⋯</td><td>0.12</td><td>0.17</td><td> 1.08</td><td> 0.29</td><td>0.00</td><td> 0.07</td><td> 9.19</td><td>1.18</td><td> 0.09</td><td> 0.39</td></tr>\n",
       "\t<tr><th scope=row>3</th><td>DPM1    </td><td>0.00</td><td>0.43</td><td>0.00</td><td>3.43</td><td> 8.45</td><td> 8.53</td><td> 7.80</td><td> 7.62</td><td>6.40</td><td>⋯</td><td>4.93</td><td>7.47</td><td> 5.72</td><td> 4.96</td><td>9.28</td><td> 9.15</td><td> 4.77</td><td>3.75</td><td> 7.31</td><td> 2.77</td></tr>\n",
       "\t<tr><th scope=row>4</th><td>SCYL3   </td><td>5.78</td><td>5.17</td><td>8.76</td><td>4.58</td><td> 7.20</td><td> 6.03</td><td> 9.05</td><td> 5.37</td><td>5.92</td><td>⋯</td><td>8.02</td><td>6.00</td><td> 5.28</td><td> 4.98</td><td>4.45</td><td> 7.00</td><td> 4.14</td><td>5.51</td><td> 7.45</td><td> 2.33</td></tr>\n",
       "\t<tr><th scope=row>5</th><td>C1orf112</td><td>2.83</td><td>6.26</td><td>3.37</td><td>6.24</td><td> 5.16</td><td>13.69</td><td> 6.69</td><td> 5.28</td><td>7.65</td><td>⋯</td><td>7.91</td><td>4.61</td><td> 8.35</td><td> 9.84</td><td>7.68</td><td> 5.62</td><td> 2.81</td><td>7.08</td><td> 7.28</td><td> 5.39</td></tr>\n",
       "\t<tr><th scope=row>6</th><td>FGR     </td><td>4.80</td><td>1.83</td><td>0.00</td><td>4.23</td><td>15.87</td><td> 8.56</td><td>13.28</td><td>12.27</td><td>5.58</td><td>⋯</td><td>6.99</td><td>6.16</td><td>13.27</td><td>19.33</td><td>2.89</td><td>40.13</td><td>10.53</td><td>9.00</td><td> 4.45</td><td>11.42</td></tr>\n",
       "</tbody>\n",
       "</table>\n"
      ],
      "text/latex": [
       "A data.frame: 6 × 61\n",
       "\\begin{tabular}{r|lllllllllllllllllllll}\n",
       "  & X & CA.102548 & CA.104338 & CA.105094 & CA.109745 & CA.1906415 & CA.1912627 & CA.1924346 & CA.1926760 & CA.1927842 & ⋯ & CAP.2040686 & CAP.2046297 & CAP.2046641 & CAP.348981 & CAP.354300 & CAP.359448 & CAP.94377 & CAP.98389 & CAP.98475 & CAP.99145\\\\\n",
       "  & <chr> & <dbl> & <dbl> & <dbl> & <dbl> & <dbl> & <dbl> & <dbl> & <dbl> & <dbl> & ⋯ & <dbl> & <dbl> & <dbl> & <dbl> & <dbl> & <dbl> & <dbl> & <dbl> & <dbl> & <dbl>\\\\\n",
       "\\hline\n",
       "\t1 & TSPAN6   & 0.93 & 1.97 & 0.00 & 5.45 &  4.52 &  4.75 &  3.96 &  3.58 & 6.41 & ⋯ & 6.66 & 8.35 &  8.94 &  6.33 & 5.94 &  6.35 &  3.74 & 4.84 & 10.46 &  4.54\\\\\n",
       "\t2 & TNMD     & 0.00 & 0.00 & 0.00 & 0.00 &  0.00 &  0.00 &  0.00 &  0.23 & 0.39 & ⋯ & 0.12 & 0.17 &  1.08 &  0.29 & 0.00 &  0.07 &  9.19 & 1.18 &  0.09 &  0.39\\\\\n",
       "\t3 & DPM1     & 0.00 & 0.43 & 0.00 & 3.43 &  8.45 &  8.53 &  7.80 &  7.62 & 6.40 & ⋯ & 4.93 & 7.47 &  5.72 &  4.96 & 9.28 &  9.15 &  4.77 & 3.75 &  7.31 &  2.77\\\\\n",
       "\t4 & SCYL3    & 5.78 & 5.17 & 8.76 & 4.58 &  7.20 &  6.03 &  9.05 &  5.37 & 5.92 & ⋯ & 8.02 & 6.00 &  5.28 &  4.98 & 4.45 &  7.00 &  4.14 & 5.51 &  7.45 &  2.33\\\\\n",
       "\t5 & C1orf112 & 2.83 & 6.26 & 3.37 & 6.24 &  5.16 & 13.69 &  6.69 &  5.28 & 7.65 & ⋯ & 7.91 & 4.61 &  8.35 &  9.84 & 7.68 &  5.62 &  2.81 & 7.08 &  7.28 &  5.39\\\\\n",
       "\t6 & FGR      & 4.80 & 1.83 & 0.00 & 4.23 & 15.87 &  8.56 & 13.28 & 12.27 & 5.58 & ⋯ & 6.99 & 6.16 & 13.27 & 19.33 & 2.89 & 40.13 & 10.53 & 9.00 &  4.45 & 11.42\\\\\n",
       "\\end{tabular}\n"
      ],
      "text/markdown": [
       "\n",
       "A data.frame: 6 × 61\n",
       "\n",
       "| <!--/--> | X &lt;chr&gt; | CA.102548 &lt;dbl&gt; | CA.104338 &lt;dbl&gt; | CA.105094 &lt;dbl&gt; | CA.109745 &lt;dbl&gt; | CA.1906415 &lt;dbl&gt; | CA.1912627 &lt;dbl&gt; | CA.1924346 &lt;dbl&gt; | CA.1926760 &lt;dbl&gt; | CA.1927842 &lt;dbl&gt; | ⋯ ⋯ | CAP.2040686 &lt;dbl&gt; | CAP.2046297 &lt;dbl&gt; | CAP.2046641 &lt;dbl&gt; | CAP.348981 &lt;dbl&gt; | CAP.354300 &lt;dbl&gt; | CAP.359448 &lt;dbl&gt; | CAP.94377 &lt;dbl&gt; | CAP.98389 &lt;dbl&gt; | CAP.98475 &lt;dbl&gt; | CAP.99145 &lt;dbl&gt; |\n",
       "|---|---|---|---|---|---|---|---|---|---|---|---|---|---|---|---|---|---|---|---|---|---|\n",
       "| 1 | TSPAN6   | 0.93 | 1.97 | 0.00 | 5.45 |  4.52 |  4.75 |  3.96 |  3.58 | 6.41 | ⋯ | 6.66 | 8.35 |  8.94 |  6.33 | 5.94 |  6.35 |  3.74 | 4.84 | 10.46 |  4.54 |\n",
       "| 2 | TNMD     | 0.00 | 0.00 | 0.00 | 0.00 |  0.00 |  0.00 |  0.00 |  0.23 | 0.39 | ⋯ | 0.12 | 0.17 |  1.08 |  0.29 | 0.00 |  0.07 |  9.19 | 1.18 |  0.09 |  0.39 |\n",
       "| 3 | DPM1     | 0.00 | 0.43 | 0.00 | 3.43 |  8.45 |  8.53 |  7.80 |  7.62 | 6.40 | ⋯ | 4.93 | 7.47 |  5.72 |  4.96 | 9.28 |  9.15 |  4.77 | 3.75 |  7.31 |  2.77 |\n",
       "| 4 | SCYL3    | 5.78 | 5.17 | 8.76 | 4.58 |  7.20 |  6.03 |  9.05 |  5.37 | 5.92 | ⋯ | 8.02 | 6.00 |  5.28 |  4.98 | 4.45 |  7.00 |  4.14 | 5.51 |  7.45 |  2.33 |\n",
       "| 5 | C1orf112 | 2.83 | 6.26 | 3.37 | 6.24 |  5.16 | 13.69 |  6.69 |  5.28 | 7.65 | ⋯ | 7.91 | 4.61 |  8.35 |  9.84 | 7.68 |  5.62 |  2.81 | 7.08 |  7.28 |  5.39 |\n",
       "| 6 | FGR      | 4.80 | 1.83 | 0.00 | 4.23 | 15.87 |  8.56 | 13.28 | 12.27 | 5.58 | ⋯ | 6.99 | 6.16 | 13.27 | 19.33 | 2.89 | 40.13 | 10.53 | 9.00 |  4.45 | 11.42 |\n",
       "\n"
      ],
      "text/plain": [
       "  X        CA.102548 CA.104338 CA.105094 CA.109745 CA.1906415 CA.1912627\n",
       "1 TSPAN6   0.93      1.97      0.00      5.45       4.52       4.75     \n",
       "2 TNMD     0.00      0.00      0.00      0.00       0.00       0.00     \n",
       "3 DPM1     0.00      0.43      0.00      3.43       8.45       8.53     \n",
       "4 SCYL3    5.78      5.17      8.76      4.58       7.20       6.03     \n",
       "5 C1orf112 2.83      6.26      3.37      6.24       5.16      13.69     \n",
       "6 FGR      4.80      1.83      0.00      4.23      15.87       8.56     \n",
       "  CA.1924346 CA.1926760 CA.1927842 ⋯ CAP.2040686 CAP.2046297 CAP.2046641\n",
       "1  3.96       3.58      6.41       ⋯ 6.66        8.35         8.94      \n",
       "2  0.00       0.23      0.39       ⋯ 0.12        0.17         1.08      \n",
       "3  7.80       7.62      6.40       ⋯ 4.93        7.47         5.72      \n",
       "4  9.05       5.37      5.92       ⋯ 8.02        6.00         5.28      \n",
       "5  6.69       5.28      7.65       ⋯ 7.91        4.61         8.35      \n",
       "6 13.28      12.27      5.58       ⋯ 6.99        6.16        13.27      \n",
       "  CAP.348981 CAP.354300 CAP.359448 CAP.94377 CAP.98389 CAP.98475 CAP.99145\n",
       "1  6.33      5.94        6.35       3.74     4.84      10.46      4.54    \n",
       "2  0.29      0.00        0.07       9.19     1.18       0.09      0.39    \n",
       "3  4.96      9.28        9.15       4.77     3.75       7.31      2.77    \n",
       "4  4.98      4.45        7.00       4.14     5.51       7.45      2.33    \n",
       "5  9.84      7.68        5.62       2.81     7.08       7.28      5.39    \n",
       "6 19.33      2.89       40.13      10.53     9.00       4.45     11.42    "
      ]
     },
     "metadata": {},
     "output_type": "display_data"
    }
   ],
   "source": [
    "head(dat)"
   ]
  },
  {
   "cell_type": "markdown",
   "id": "dd15a22d",
   "metadata": {},
   "source": [
    "get metadata: to find out which ones are cancer cells or not."
   ]
  },
  {
   "cell_type": "code",
   "execution_count": 12,
   "id": "0e2e8215",
   "metadata": {},
   "outputs": [
    {
     "name": "stderr",
     "output_type": "stream",
     "text": [
      "Found 1 file(s)\n",
      "\n",
      "GSE183947_series_matrix.txt.gz\n",
      "\n",
      "Using locally cached version: /tmp/RtmpMZOTxa/GSE183947_series_matrix.txt.gz\n",
      "\n",
      "Using locally cached version of GPL11154 found here:\n",
      "/tmp/RtmpMZOTxa/GPL11154.soft.gz \n",
      "\n"
     ]
    }
   ],
   "source": [
    "gse <- getGEO(GEO = 'GSE183947', GSEMatrix = TRUE)"
   ]
  },
  {
   "cell_type": "code",
   "execution_count": 13,
   "id": "8ab48891",
   "metadata": {
    "scrolled": true
   },
   "outputs": [
    {
     "data": {
      "text/plain": [
       "$GSE183947_series_matrix.txt.gz\n",
       "ExpressionSet (storageMode: lockedEnvironment)\n",
       "assayData: 0 features, 60 samples \n",
       "  element names: exprs \n",
       "protocolData: none\n",
       "phenoData\n",
       "  sampleNames: GSM5574685 GSM5574686 ... GSM5574744 (60 total)\n",
       "  varLabels: title geo_accession ... tissue:ch1 (41 total)\n",
       "  varMetadata: labelDescription\n",
       "featureData: none\n",
       "experimentData: use 'experimentData(object)'\n",
       "  pubMedIds: 35046993 \n",
       "Annotation: GPL11154 \n"
      ]
     },
     "metadata": {},
     "output_type": "display_data"
    }
   ],
   "source": [
    "gse"
   ]
  },
  {
   "cell_type": "code",
   "execution_count": 18,
   "id": "8211a68f",
   "metadata": {
    "scrolled": true
   },
   "outputs": [
    {
     "data": {
      "text/html": [
       "<table class=\"dataframe\">\n",
       "<caption>A data.frame: 1 × 41</caption>\n",
       "<thead>\n",
       "\t<tr><th></th><th scope=col>title</th><th scope=col>geo_accession</th><th scope=col>status</th><th scope=col>submission_date</th><th scope=col>last_update_date</th><th scope=col>type</th><th scope=col>channel_count</th><th scope=col>source_name_ch1</th><th scope=col>organism_ch1</th><th scope=col>characteristics_ch1</th><th scope=col>characteristics_ch1.1</th><th scope=col>characteristics_ch1.2</th><th scope=col>molecule_ch1</th><th scope=col>extract_protocol_ch1</th><th scope=col>extract_protocol_ch1.1</th><th scope=col>taxid_ch1</th><th scope=col>description</th><th scope=col>data_processing</th><th scope=col>data_processing.1</th><th scope=col>data_processing.2</th><th scope=col>data_processing.3</th><th scope=col>data_processing.4</th><th scope=col>platform_id</th><th scope=col>contact_name</th><th scope=col>contact_institute</th><th scope=col>contact_address</th><th scope=col>contact_city</th><th scope=col>contact_state</th><th scope=col>contact_zip/postal_code</th><th scope=col>contact_country</th><th scope=col>data_row_count</th><th scope=col>instrument_model</th><th scope=col>library_selection</th><th scope=col>library_source</th><th scope=col>library_strategy</th><th scope=col>relation</th><th scope=col>relation.1</th><th scope=col>supplementary_file_1</th><th scope=col>donor:ch1</th><th scope=col>metastasis:ch1</th><th scope=col>tissue:ch1</th></tr>\n",
       "\t<tr><th></th><th scope=col>&lt;chr&gt;</th><th scope=col>&lt;chr&gt;</th><th scope=col>&lt;chr&gt;</th><th scope=col>&lt;chr&gt;</th><th scope=col>&lt;chr&gt;</th><th scope=col>&lt;chr&gt;</th><th scope=col>&lt;chr&gt;</th><th scope=col>&lt;chr&gt;</th><th scope=col>&lt;chr&gt;</th><th scope=col>&lt;chr&gt;</th><th scope=col>&lt;chr&gt;</th><th scope=col>&lt;chr&gt;</th><th scope=col>&lt;chr&gt;</th><th scope=col>&lt;chr&gt;</th><th scope=col>&lt;chr&gt;</th><th scope=col>&lt;chr&gt;</th><th scope=col>&lt;chr&gt;</th><th scope=col>&lt;chr&gt;</th><th scope=col>&lt;chr&gt;</th><th scope=col>&lt;chr&gt;</th><th scope=col>&lt;chr&gt;</th><th scope=col>&lt;chr&gt;</th><th scope=col>&lt;chr&gt;</th><th scope=col>&lt;chr&gt;</th><th scope=col>&lt;chr&gt;</th><th scope=col>&lt;chr&gt;</th><th scope=col>&lt;chr&gt;</th><th scope=col>&lt;chr&gt;</th><th scope=col>&lt;chr&gt;</th><th scope=col>&lt;chr&gt;</th><th scope=col>&lt;chr&gt;</th><th scope=col>&lt;chr&gt;</th><th scope=col>&lt;chr&gt;</th><th scope=col>&lt;chr&gt;</th><th scope=col>&lt;chr&gt;</th><th scope=col>&lt;chr&gt;</th><th scope=col>&lt;chr&gt;</th><th scope=col>&lt;chr&gt;</th><th scope=col>&lt;chr&gt;</th><th scope=col>&lt;chr&gt;</th><th scope=col>&lt;chr&gt;</th></tr>\n",
       "</thead>\n",
       "<tbody>\n",
       "\t<tr><th scope=row>GSM5574685</th><td>tumor rep1</td><td>GSM5574685</td><td>Public on Sep 15 2021</td><td>Sep 11 2021</td><td>Sep 15 2021</td><td>SRA</td><td>1</td><td>breast</td><td>Homo sapiens</td><td>tissue: breast tumor</td><td>metastasis: yes</td><td>donor: 102548</td><td>total RNA</td><td>Total RNA was isolated and purified using TRIzol (Life, cat.265709, CA, USA) following the manufacturer's procedure.</td><td>After the quality inspection of Agilent 2100 Bioanalyzer (Agilent, cat.G2939AA, CA, USA) and NanoPhotometer (Implen, cat.N60, Munich, Germany), mRNA with poly(A) is purified from 1μg total RNA using VAHTS mRNA Capture Beads with Oligo (dT) (Vazyme, cat.N401-01, Nanjing, China) through two rounds of purification. Subsequently, mRNA fragment was interrupted using VAHTS Universal V6 RNA-seq Library Prep Kit (Vazyme, cat.NR604, Nanjing, China) under 94℃ 8min and reversed transcription into cDNA which would use to synthesise U-labeled second-stranded DNAs. An A-base was added to the blunt ends of each strand to ligase the indexed adapters which contains a T-base at the tail end. After UDG enzyme treatment of the U-labeled double-strand DNA, size selection was performed with VAHTS DNA Clean Beads (Vazyme, cat.N411, Nanjing, China). Then the ligated products are amplified with PCR by the following conditions: initial denaturation at 98℃ for 5 min; 12-17 cycles of denaturation at 98℃ for 10 sec, annealing at 60℃ for 30 sec, and extension at 72℃ for 30 sec; final extension at 72℃ for 5 min. The average insert size of cDNA library was 280±80 bp. After purification by VAHTS DNA Clean Beads (Vazyme, cat.N411-02, Nanjing, China), quality control of concentration and fragment size is performed by Agilent 2100 Bioanalyzer (Agilent, cat.G2939AA, CA, USA) and Qubit assay tubes (Life, cat. 1604220, CA, USA).</td><td>9606</td><td>CA.102548</td><td>In order to remove technical sequences, including adapters, polymerase chain reaction (PCR) primers, or fragments thereof, and quality of bases lower than 20, pass filter data of fastq format were processed by Cutadapt (V1.9.1) to be high quality clean data.</td><td>Firstly, reference genome sequences and gene model annotation files of relative species were downloaded from genome ENSEMBL website, Tophat2 (v2.1.0) was used to index reference genome sequence. Finally, clean data were aligned to reference genome via software Tophat2 (v2.1.02).</td><td>In the beginning transcripts in fasta format are converted from known gff annotation file and indexed properly. Then, with the file as a reference gene file, RSEM (v1.3.1) estimated gene and isoform expression levels from the pair-end clean data.</td><td>Genome_build: Homo sapiens (GRCh37)</td><td>Supplementary_files_format_and_content: fpkm.csv: Comma-separated text file includes FPKM values for each Sample.</td><td>GPL11154</td><td>Jianhua,,Xu</td><td>Department of Laboratory Medicine Shunde Hospital of Guangzhou University of Chinese Medicine</td><td>No. 12, Jinsha Avenue, Shunde District, Foshan, Guangdong, P.R. China</td><td>Fushan</td><td>Guangdong</td><td>528300</td><td>China</td><td>0</td><td>Illumina HiSeq 2000</td><td>cDNA</td><td>transcriptomic</td><td>RNA-Seq</td><td>BioSample: https://www.ncbi.nlm.nih.gov/biosample/SAMN21395376</td><td>SRA: https://www.ncbi.nlm.nih.gov/sra?term=SRX12143676</td><td>NONE</td><td>102548</td><td>yes</td><td>breast tumor</td></tr>\n",
       "</tbody>\n",
       "</table>\n"
      ],
      "text/latex": [
       "A data.frame: 1 × 41\n",
       "\\begin{tabular}{r|lllllllllllllllllllllllllllllllllllllllll}\n",
       "  & title & geo\\_accession & status & submission\\_date & last\\_update\\_date & type & channel\\_count & source\\_name\\_ch1 & organism\\_ch1 & characteristics\\_ch1 & characteristics\\_ch1.1 & characteristics\\_ch1.2 & molecule\\_ch1 & extract\\_protocol\\_ch1 & extract\\_protocol\\_ch1.1 & taxid\\_ch1 & description & data\\_processing & data\\_processing.1 & data\\_processing.2 & data\\_processing.3 & data\\_processing.4 & platform\\_id & contact\\_name & contact\\_institute & contact\\_address & contact\\_city & contact\\_state & contact\\_zip/postal\\_code & contact\\_country & data\\_row\\_count & instrument\\_model & library\\_selection & library\\_source & library\\_strategy & relation & relation.1 & supplementary\\_file\\_1 & donor:ch1 & metastasis:ch1 & tissue:ch1\\\\\n",
       "  & <chr> & <chr> & <chr> & <chr> & <chr> & <chr> & <chr> & <chr> & <chr> & <chr> & <chr> & <chr> & <chr> & <chr> & <chr> & <chr> & <chr> & <chr> & <chr> & <chr> & <chr> & <chr> & <chr> & <chr> & <chr> & <chr> & <chr> & <chr> & <chr> & <chr> & <chr> & <chr> & <chr> & <chr> & <chr> & <chr> & <chr> & <chr> & <chr> & <chr> & <chr>\\\\\n",
       "\\hline\n",
       "\tGSM5574685 & tumor rep1 & GSM5574685 & Public on Sep 15 2021 & Sep 11 2021 & Sep 15 2021 & SRA & 1 & breast & Homo sapiens & tissue: breast tumor & metastasis: yes & donor: 102548 & total RNA & Total RNA was isolated and purified using TRIzol (Life, cat.265709, CA, USA) following the manufacturer's procedure. & After the quality inspection of Agilent 2100 Bioanalyzer (Agilent, cat.G2939AA, CA, USA) and NanoPhotometer (Implen, cat.N60, Munich, Germany), mRNA with poly(A) is purified from 1μg total RNA using VAHTS mRNA Capture Beads with Oligo (dT) (Vazyme, cat.N401-01, Nanjing, China) through two rounds of purification. Subsequently, mRNA fragment was interrupted using VAHTS Universal V6 RNA-seq Library Prep Kit (Vazyme, cat.NR604, Nanjing, China) under 94℃ 8min and reversed transcription into cDNA which would use to synthesise U-labeled second-stranded DNAs. An A-base was added to the blunt ends of each strand to ligase the indexed adapters which contains a T-base at the tail end. After UDG enzyme treatment of the U-labeled double-strand DNA, size selection was performed with VAHTS DNA Clean Beads (Vazyme, cat.N411, Nanjing, China). Then the ligated products are amplified with PCR by the following conditions: initial denaturation at 98℃ for 5 min; 12-17 cycles of denaturation at 98℃ for 10 sec, annealing at 60℃ for 30 sec, and extension at 72℃ for 30 sec; final extension at 72℃ for 5 min. The average insert size of cDNA library was 280±80 bp. After purification by VAHTS DNA Clean Beads (Vazyme, cat.N411-02, Nanjing, China), quality control of concentration and fragment size is performed by Agilent 2100 Bioanalyzer (Agilent, cat.G2939AA, CA, USA) and Qubit assay tubes (Life, cat. 1604220, CA, USA). & 9606 & CA.102548 & In order to remove technical sequences, including adapters, polymerase chain reaction (PCR) primers, or fragments thereof, and quality of bases lower than 20, pass filter data of fastq format were processed by Cutadapt (V1.9.1) to be high quality clean data. & Firstly, reference genome sequences and gene model annotation files of relative species were downloaded from genome ENSEMBL website, Tophat2 (v2.1.0) was used to index reference genome sequence. Finally, clean data were aligned to reference genome via software Tophat2 (v2.1.02). & In the beginning transcripts in fasta format are converted from known gff annotation file and indexed properly. Then, with the file as a reference gene file, RSEM (v1.3.1) estimated gene and isoform expression levels from the pair-end clean data. & Genome\\_build: Homo sapiens (GRCh37) & Supplementary\\_files\\_format\\_and\\_content: fpkm.csv: Comma-separated text file includes FPKM values for each Sample. & GPL11154 & Jianhua,,Xu & Department of Laboratory Medicine Shunde Hospital of Guangzhou University of Chinese Medicine & No. 12, Jinsha Avenue, Shunde District, Foshan, Guangdong, P.R. China & Fushan & Guangdong & 528300 & China & 0 & Illumina HiSeq 2000 & cDNA & transcriptomic & RNA-Seq & BioSample: https://www.ncbi.nlm.nih.gov/biosample/SAMN21395376 & SRA: https://www.ncbi.nlm.nih.gov/sra?term=SRX12143676 & NONE & 102548 & yes & breast tumor\\\\\n",
       "\\end{tabular}\n"
      ],
      "text/markdown": [
       "\n",
       "A data.frame: 1 × 41\n",
       "\n",
       "| <!--/--> | title &lt;chr&gt; | geo_accession &lt;chr&gt; | status &lt;chr&gt; | submission_date &lt;chr&gt; | last_update_date &lt;chr&gt; | type &lt;chr&gt; | channel_count &lt;chr&gt; | source_name_ch1 &lt;chr&gt; | organism_ch1 &lt;chr&gt; | characteristics_ch1 &lt;chr&gt; | characteristics_ch1.1 &lt;chr&gt; | characteristics_ch1.2 &lt;chr&gt; | molecule_ch1 &lt;chr&gt; | extract_protocol_ch1 &lt;chr&gt; | extract_protocol_ch1.1 &lt;chr&gt; | taxid_ch1 &lt;chr&gt; | description &lt;chr&gt; | data_processing &lt;chr&gt; | data_processing.1 &lt;chr&gt; | data_processing.2 &lt;chr&gt; | data_processing.3 &lt;chr&gt; | data_processing.4 &lt;chr&gt; | platform_id &lt;chr&gt; | contact_name &lt;chr&gt; | contact_institute &lt;chr&gt; | contact_address &lt;chr&gt; | contact_city &lt;chr&gt; | contact_state &lt;chr&gt; | contact_zip/postal_code &lt;chr&gt; | contact_country &lt;chr&gt; | data_row_count &lt;chr&gt; | instrument_model &lt;chr&gt; | library_selection &lt;chr&gt; | library_source &lt;chr&gt; | library_strategy &lt;chr&gt; | relation &lt;chr&gt; | relation.1 &lt;chr&gt; | supplementary_file_1 &lt;chr&gt; | donor:ch1 &lt;chr&gt; | metastasis:ch1 &lt;chr&gt; | tissue:ch1 &lt;chr&gt; |\n",
       "|---|---|---|---|---|---|---|---|---|---|---|---|---|---|---|---|---|---|---|---|---|---|---|---|---|---|---|---|---|---|---|---|---|---|---|---|---|---|---|---|---|---|\n",
       "| GSM5574685 | tumor rep1 | GSM5574685 | Public on Sep 15 2021 | Sep 11 2021 | Sep 15 2021 | SRA | 1 | breast | Homo sapiens | tissue: breast tumor | metastasis: yes | donor: 102548 | total RNA | Total RNA was isolated and purified using TRIzol (Life, cat.265709, CA, USA) following the manufacturer's procedure. | After the quality inspection of Agilent 2100 Bioanalyzer (Agilent, cat.G2939AA, CA, USA) and NanoPhotometer (Implen, cat.N60, Munich, Germany), mRNA with poly(A) is purified from 1μg total RNA using VAHTS mRNA Capture Beads with Oligo (dT) (Vazyme, cat.N401-01, Nanjing, China) through two rounds of purification. Subsequently, mRNA fragment was interrupted using VAHTS Universal V6 RNA-seq Library Prep Kit (Vazyme, cat.NR604, Nanjing, China) under 94℃ 8min and reversed transcription into cDNA which would use to synthesise U-labeled second-stranded DNAs. An A-base was added to the blunt ends of each strand to ligase the indexed adapters which contains a T-base at the tail end. After UDG enzyme treatment of the U-labeled double-strand DNA, size selection was performed with VAHTS DNA Clean Beads (Vazyme, cat.N411, Nanjing, China). Then the ligated products are amplified with PCR by the following conditions: initial denaturation at 98℃ for 5 min; 12-17 cycles of denaturation at 98℃ for 10 sec, annealing at 60℃ for 30 sec, and extension at 72℃ for 30 sec; final extension at 72℃ for 5 min. The average insert size of cDNA library was 280±80 bp. After purification by VAHTS DNA Clean Beads (Vazyme, cat.N411-02, Nanjing, China), quality control of concentration and fragment size is performed by Agilent 2100 Bioanalyzer (Agilent, cat.G2939AA, CA, USA) and Qubit assay tubes (Life, cat. 1604220, CA, USA). | 9606 | CA.102548 | In order to remove technical sequences, including adapters, polymerase chain reaction (PCR) primers, or fragments thereof, and quality of bases lower than 20, pass filter data of fastq format were processed by Cutadapt (V1.9.1) to be high quality clean data. | Firstly, reference genome sequences and gene model annotation files of relative species were downloaded from genome ENSEMBL website, Tophat2 (v2.1.0) was used to index reference genome sequence. Finally, clean data were aligned to reference genome via software Tophat2 (v2.1.02). | In the beginning transcripts in fasta format are converted from known gff annotation file and indexed properly. Then, with the file as a reference gene file, RSEM (v1.3.1) estimated gene and isoform expression levels from the pair-end clean data. | Genome_build: Homo sapiens (GRCh37) | Supplementary_files_format_and_content: fpkm.csv: Comma-separated text file includes FPKM values for each Sample. | GPL11154 | Jianhua,,Xu | Department of Laboratory Medicine Shunde Hospital of Guangzhou University of Chinese Medicine | No. 12, Jinsha Avenue, Shunde District, Foshan, Guangdong, P.R. China | Fushan | Guangdong | 528300 | China | 0 | Illumina HiSeq 2000 | cDNA | transcriptomic | RNA-Seq | BioSample: https://www.ncbi.nlm.nih.gov/biosample/SAMN21395376 | SRA: https://www.ncbi.nlm.nih.gov/sra?term=SRX12143676 | NONE | 102548 | yes | breast tumor |\n",
       "\n"
      ],
      "text/plain": [
       "           title      geo_accession status                submission_date\n",
       "GSM5574685 tumor rep1 GSM5574685    Public on Sep 15 2021 Sep 11 2021    \n",
       "           last_update_date type channel_count source_name_ch1 organism_ch1\n",
       "GSM5574685 Sep 15 2021      SRA  1             breast          Homo sapiens\n",
       "           characteristics_ch1  characteristics_ch1.1 characteristics_ch1.2\n",
       "GSM5574685 tissue: breast tumor metastasis: yes       donor: 102548        \n",
       "           molecule_ch1\n",
       "GSM5574685 total RNA   \n",
       "           extract_protocol_ch1                                                                                                \n",
       "GSM5574685 Total RNA was isolated and purified using TRIzol (Life, cat.265709, CA, USA) following the manufacturer's procedure.\n",
       "           extract_protocol_ch1.1                                                                                                                                                                                                                                                                                                                                                                                                                                                                                                                                                                                                                                                                                                                                                                                                                                                                                                                                                                                                                                                                                                                                                                                                                                                                                                                                                                                                                                               \n",
       "GSM5574685 After the quality inspection of Agilent 2100 Bioanalyzer (Agilent, cat.G2939AA, CA, USA) and NanoPhotometer (Implen, cat.N60, Munich, Germany), mRNA with poly(A) is purified from 1μg total RNA using VAHTS mRNA Capture Beads with Oligo (dT) (Vazyme, cat.N401-01, Nanjing, China) through two rounds of purification. Subsequently, mRNA fragment was interrupted using VAHTS Universal V6 RNA-seq Library Prep Kit (Vazyme, cat.NR604, Nanjing, China) under 94℃ 8min and reversed transcription into cDNA which would use to synthesise U-labeled second-stranded DNAs. An A-base was added to the blunt ends of each strand to ligase the indexed adapters which contains a T-base at the tail end. After UDG enzyme treatment of the U-labeled double-strand DNA, size selection was performed with VAHTS DNA Clean Beads (Vazyme, cat.N411, Nanjing, China). Then the ligated products are amplified with PCR by the following conditions: initial denaturation at 98℃ for 5 min; 12-17 cycles of denaturation at 98℃ for 10 sec, annealing at 60℃ for 30 sec, and extension at 72℃ for 30 sec; final extension at 72℃ for 5 min. The average insert size of cDNA library was 280±80 bp. After purification by VAHTS DNA Clean Beads (Vazyme, cat.N411-02, Nanjing, China), quality control of concentration and fragment size is performed by Agilent 2100 Bioanalyzer (Agilent, cat.G2939AA, CA, USA) and Qubit assay tubes (Life, cat. 1604220, CA, USA).\n",
       "           taxid_ch1 description\n",
       "GSM5574685 9606      CA.102548  \n",
       "           data_processing                                                                                                                                                                                                                                                   \n",
       "GSM5574685 In order to remove technical sequences, including adapters, polymerase chain reaction (PCR) primers, or fragments thereof, and quality of bases lower than 20, pass filter data of fastq format were processed by Cutadapt (V1.9.1) to be high quality clean data.\n",
       "           data_processing.1                                                                                                                                                                                                                                                                      \n",
       "GSM5574685 Firstly, reference genome sequences and gene model annotation files of relative species were downloaded from genome ENSEMBL website, Tophat2 (v2.1.0) was used to index reference genome sequence. Finally, clean data were aligned to reference genome via software Tophat2 (v2.1.02).\n",
       "           data_processing.2                                                                                                                                                                                                                                     \n",
       "GSM5574685 In the beginning transcripts in fasta format are converted from known gff annotation file and indexed properly. Then, with the file as a reference gene file, RSEM (v1.3.1) estimated gene and isoform expression levels from the pair-end clean data.\n",
       "           data_processing.3                  \n",
       "GSM5574685 Genome_build: Homo sapiens (GRCh37)\n",
       "           data_processing.4                                                                                                \n",
       "GSM5574685 Supplementary_files_format_and_content: fpkm.csv: Comma-separated text file includes FPKM values for each Sample.\n",
       "           platform_id contact_name\n",
       "GSM5574685 GPL11154    Jianhua,,Xu \n",
       "           contact_institute                                                                            \n",
       "GSM5574685 Department of Laboratory Medicine Shunde Hospital of Guangzhou University of Chinese Medicine\n",
       "           contact_address                                                      \n",
       "GSM5574685 No. 12, Jinsha Avenue, Shunde District, Foshan, Guangdong, P.R. China\n",
       "           contact_city contact_state contact_zip/postal_code contact_country\n",
       "GSM5574685 Fushan       Guangdong     528300                  China          \n",
       "           data_row_count instrument_model    library_selection library_source\n",
       "GSM5574685 0              Illumina HiSeq 2000 cDNA              transcriptomic\n",
       "           library_strategy\n",
       "GSM5574685 RNA-Seq         \n",
       "           relation                                                      \n",
       "GSM5574685 BioSample: https://www.ncbi.nlm.nih.gov/biosample/SAMN21395376\n",
       "           relation.1                                            \n",
       "GSM5574685 SRA: https://www.ncbi.nlm.nih.gov/sra?term=SRX12143676\n",
       "           supplementary_file_1 donor:ch1 metastasis:ch1 tissue:ch1  \n",
       "GSM5574685 NONE                 102548    yes            breast tumor"
      ]
     },
     "metadata": {},
     "output_type": "display_data"
    }
   ],
   "source": [
    "metadata <- pData(phenoData(gse[[1]]))\n",
    "head(metadata, 1)"
   ]
  },
  {
   "cell_type": "code",
   "execution_count": 19,
   "id": "71746006",
   "metadata": {},
   "outputs": [],
   "source": [
    "metadata.subset <- select(metadata, c(1,10,11,17))"
   ]
  },
  {
   "cell_type": "code",
   "execution_count": 28,
   "id": "6a411dd0",
   "metadata": {},
   "outputs": [
    {
     "data": {
      "text/html": [
       "<table class=\"dataframe\">\n",
       "<caption>A data.frame: 1 × 4</caption>\n",
       "<thead>\n",
       "\t<tr><th></th><th scope=col>title</th><th scope=col>characteristics_ch1</th><th scope=col>characteristics_ch1.1</th><th scope=col>description</th></tr>\n",
       "\t<tr><th></th><th scope=col>&lt;chr&gt;</th><th scope=col>&lt;chr&gt;</th><th scope=col>&lt;chr&gt;</th><th scope=col>&lt;chr&gt;</th></tr>\n",
       "</thead>\n",
       "<tbody>\n",
       "\t<tr><th scope=row>GSM5574685</th><td>tumor rep1</td><td>tissue: breast tumor</td><td>metastasis: yes</td><td>CA.102548</td></tr>\n",
       "</tbody>\n",
       "</table>\n"
      ],
      "text/latex": [
       "A data.frame: 1 × 4\n",
       "\\begin{tabular}{r|llll}\n",
       "  & title & characteristics\\_ch1 & characteristics\\_ch1.1 & description\\\\\n",
       "  & <chr> & <chr> & <chr> & <chr>\\\\\n",
       "\\hline\n",
       "\tGSM5574685 & tumor rep1 & tissue: breast tumor & metastasis: yes & CA.102548\\\\\n",
       "\\end{tabular}\n"
      ],
      "text/markdown": [
       "\n",
       "A data.frame: 1 × 4\n",
       "\n",
       "| <!--/--> | title &lt;chr&gt; | characteristics_ch1 &lt;chr&gt; | characteristics_ch1.1 &lt;chr&gt; | description &lt;chr&gt; |\n",
       "|---|---|---|---|---|\n",
       "| GSM5574685 | tumor rep1 | tissue: breast tumor | metastasis: yes | CA.102548 |\n",
       "\n"
      ],
      "text/plain": [
       "           title      characteristics_ch1  characteristics_ch1.1 description\n",
       "GSM5574685 tumor rep1 tissue: breast tumor metastasis: yes       CA.102548  "
      ]
     },
     "metadata": {},
     "output_type": "display_data"
    }
   ],
   "source": [
    "metadata.subset[1,]"
   ]
  },
  {
   "cell_type": "code",
   "execution_count": 39,
   "id": "72a86909",
   "metadata": {},
   "outputs": [],
   "source": [
    "metadata.modified <- metadata %>%\n",
    "    select(1,10,11,17) %>%\n",
    "    rename(tissue = characteristics_ch1) %>%\n",
    "    rename(metastatis = characteristics_ch1.1) %>%\n",
    "    mutate(tissue = gsub(\"tissue: \", \"\", tissue)) %>%\n",
    "    mutate(metastatis = gsub(\"metastasis: \", \"\", metastatis))"
   ]
  },
  {
   "cell_type": "code",
   "execution_count": 42,
   "id": "8aca8ff3",
   "metadata": {},
   "outputs": [
    {
     "data": {
      "text/html": [
       "<table class=\"dataframe\">\n",
       "<caption>A data.frame: 3 × 4</caption>\n",
       "<thead>\n",
       "\t<tr><th></th><th scope=col>title</th><th scope=col>tissue</th><th scope=col>metastatis</th><th scope=col>description</th></tr>\n",
       "\t<tr><th></th><th scope=col>&lt;chr&gt;</th><th scope=col>&lt;chr&gt;</th><th scope=col>&lt;chr&gt;</th><th scope=col>&lt;chr&gt;</th></tr>\n",
       "</thead>\n",
       "<tbody>\n",
       "\t<tr><th scope=row>GSM5574685</th><td>tumor rep1</td><td>breast tumor</td><td>yes</td><td>CA.102548</td></tr>\n",
       "\t<tr><th scope=row>GSM5574686</th><td>tumor rep2</td><td>breast tumor</td><td>yes</td><td>CA.104338</td></tr>\n",
       "\t<tr><th scope=row>GSM5574687</th><td>tumor rep3</td><td>breast tumor</td><td>yes</td><td>CA.105094</td></tr>\n",
       "</tbody>\n",
       "</table>\n"
      ],
      "text/latex": [
       "A data.frame: 3 × 4\n",
       "\\begin{tabular}{r|llll}\n",
       "  & title & tissue & metastatis & description\\\\\n",
       "  & <chr> & <chr> & <chr> & <chr>\\\\\n",
       "\\hline\n",
       "\tGSM5574685 & tumor rep1 & breast tumor & yes & CA.102548\\\\\n",
       "\tGSM5574686 & tumor rep2 & breast tumor & yes & CA.104338\\\\\n",
       "\tGSM5574687 & tumor rep3 & breast tumor & yes & CA.105094\\\\\n",
       "\\end{tabular}\n"
      ],
      "text/markdown": [
       "\n",
       "A data.frame: 3 × 4\n",
       "\n",
       "| <!--/--> | title &lt;chr&gt; | tissue &lt;chr&gt; | metastatis &lt;chr&gt; | description &lt;chr&gt; |\n",
       "|---|---|---|---|---|\n",
       "| GSM5574685 | tumor rep1 | breast tumor | yes | CA.102548 |\n",
       "| GSM5574686 | tumor rep2 | breast tumor | yes | CA.104338 |\n",
       "| GSM5574687 | tumor rep3 | breast tumor | yes | CA.105094 |\n",
       "\n"
      ],
      "text/plain": [
       "           title      tissue       metastatis description\n",
       "GSM5574685 tumor rep1 breast tumor yes        CA.102548  \n",
       "GSM5574686 tumor rep2 breast tumor yes        CA.104338  \n",
       "GSM5574687 tumor rep3 breast tumor yes        CA.105094  "
      ]
     },
     "metadata": {},
     "output_type": "display_data"
    }
   ],
   "source": [
    "metadata.modified[1:3,]"
   ]
  },
  {
   "cell_type": "code",
   "execution_count": 44,
   "id": "b3d97ce9",
   "metadata": {},
   "outputs": [
    {
     "data": {
      "text/html": [
       "<table class=\"dataframe\">\n",
       "<caption>A data.frame: 6 × 61</caption>\n",
       "<thead>\n",
       "\t<tr><th></th><th scope=col>X</th><th scope=col>CA.102548</th><th scope=col>CA.104338</th><th scope=col>CA.105094</th><th scope=col>CA.109745</th><th scope=col>CA.1906415</th><th scope=col>CA.1912627</th><th scope=col>CA.1924346</th><th scope=col>CA.1926760</th><th scope=col>CA.1927842</th><th scope=col>CA.1933414</th><th scope=col>CA.1940640</th><th scope=col>CA.2004407</th><th scope=col>CA.2005288</th><th scope=col>CA.2006047</th><th scope=col>CA.2008260</th><th scope=col>CA.2009329</th><th scope=col>CA.2009381</th><th scope=col>CA.2009850</th><th scope=col>CA.2017611</th><th scope=col>CA.2039179</th><th scope=col>CA.2040686</th><th scope=col>CA.2045012</th><th scope=col>CA.2046297</th><th scope=col>CA.348981</th><th scope=col>⋯</th><th scope=col>CAP.1912627</th><th scope=col>CAP.1924346</th><th scope=col>CAP.1926760</th><th scope=col>CAP.1927842</th><th scope=col>CAP.1933414</th><th scope=col>CAP.1940640</th><th scope=col>CAP.2004407</th><th scope=col>CAP.2005288</th><th scope=col>CAP.2006047</th><th scope=col>CAP.2008260</th><th scope=col>CAP.2009329</th><th scope=col>CAP.2009381</th><th scope=col>CAP.2009850</th><th scope=col>CAP.2017611</th><th scope=col>CAP.2039179</th><th scope=col>CAP.2040686</th><th scope=col>CAP.2046297</th><th scope=col>CAP.2046641</th><th scope=col>CAP.348981</th><th scope=col>CAP.354300</th><th scope=col>CAP.359448</th><th scope=col>CAP.94377</th><th scope=col>CAP.98389</th><th scope=col>CAP.98475</th><th scope=col>CAP.99145</th></tr>\n",
       "\t<tr><th></th><th scope=col>&lt;chr&gt;</th><th scope=col>&lt;dbl&gt;</th><th scope=col>&lt;dbl&gt;</th><th scope=col>&lt;dbl&gt;</th><th scope=col>&lt;dbl&gt;</th><th scope=col>&lt;dbl&gt;</th><th scope=col>&lt;dbl&gt;</th><th scope=col>&lt;dbl&gt;</th><th scope=col>&lt;dbl&gt;</th><th scope=col>&lt;dbl&gt;</th><th scope=col>&lt;dbl&gt;</th><th scope=col>&lt;dbl&gt;</th><th scope=col>&lt;dbl&gt;</th><th scope=col>&lt;dbl&gt;</th><th scope=col>&lt;dbl&gt;</th><th scope=col>&lt;dbl&gt;</th><th scope=col>&lt;dbl&gt;</th><th scope=col>&lt;dbl&gt;</th><th scope=col>&lt;dbl&gt;</th><th scope=col>&lt;dbl&gt;</th><th scope=col>&lt;dbl&gt;</th><th scope=col>&lt;dbl&gt;</th><th scope=col>&lt;dbl&gt;</th><th scope=col>&lt;dbl&gt;</th><th scope=col>&lt;dbl&gt;</th><th scope=col>⋯</th><th scope=col>&lt;dbl&gt;</th><th scope=col>&lt;dbl&gt;</th><th scope=col>&lt;dbl&gt;</th><th scope=col>&lt;dbl&gt;</th><th scope=col>&lt;dbl&gt;</th><th scope=col>&lt;dbl&gt;</th><th scope=col>&lt;dbl&gt;</th><th scope=col>&lt;dbl&gt;</th><th scope=col>&lt;dbl&gt;</th><th scope=col>&lt;dbl&gt;</th><th scope=col>&lt;dbl&gt;</th><th scope=col>&lt;dbl&gt;</th><th scope=col>&lt;dbl&gt;</th><th scope=col>&lt;dbl&gt;</th><th scope=col>&lt;dbl&gt;</th><th scope=col>&lt;dbl&gt;</th><th scope=col>&lt;dbl&gt;</th><th scope=col>&lt;dbl&gt;</th><th scope=col>&lt;dbl&gt;</th><th scope=col>&lt;dbl&gt;</th><th scope=col>&lt;dbl&gt;</th><th scope=col>&lt;dbl&gt;</th><th scope=col>&lt;dbl&gt;</th><th scope=col>&lt;dbl&gt;</th><th scope=col>&lt;dbl&gt;</th></tr>\n",
       "</thead>\n",
       "<tbody>\n",
       "\t<tr><th scope=row>1</th><td>TSPAN6  </td><td>0.93</td><td>1.97</td><td>0.00</td><td>5.45</td><td> 4.52</td><td> 4.75</td><td> 3.96</td><td> 3.58</td><td>6.41</td><td>11.89</td><td> 5.55</td><td> 3.82</td><td> 7.66</td><td>11.48</td><td> 4.32</td><td>14.44</td><td>10.26</td><td> 6.51</td><td> 5.86</td><td>7.13</td><td>9.19</td><td> 6.65</td><td>10.13</td><td> 7.07</td><td>⋯</td><td>0.00</td><td>10.45</td><td>7.10</td><td> 5.21</td><td>5.61</td><td> 6.20</td><td>6.79</td><td>11.24</td><td>15.73</td><td>12.05</td><td>11.64</td><td>10.16</td><td> 9.13</td><td> 6.87</td><td>8.71</td><td>6.66</td><td>8.35</td><td> 8.94</td><td> 6.33</td><td>5.94</td><td> 6.35</td><td> 3.74</td><td>4.84</td><td>10.46</td><td> 4.54</td></tr>\n",
       "\t<tr><th scope=row>2</th><td>TNMD    </td><td>0.00</td><td>0.00</td><td>0.00</td><td>0.00</td><td> 0.00</td><td> 0.00</td><td> 0.00</td><td> 0.23</td><td>0.39</td><td> 0.44</td><td> 0.36</td><td> 0.09</td><td> 0.07</td><td> 1.14</td><td> 0.00</td><td> 0.50</td><td> 0.21</td><td> 0.20</td><td> 0.10</td><td>0.18</td><td>0.20</td><td> 0.00</td><td> 0.00</td><td> 0.00</td><td>⋯</td><td>0.00</td><td> 0.00</td><td>0.20</td><td>11.43</td><td>0.26</td><td> 3.20</td><td>0.06</td><td> 0.08</td><td> 0.00</td><td> 0.00</td><td> 0.59</td><td> 0.63</td><td> 0.49</td><td> 0.00</td><td>0.23</td><td>0.12</td><td>0.17</td><td> 1.08</td><td> 0.29</td><td>0.00</td><td> 0.07</td><td> 9.19</td><td>1.18</td><td> 0.09</td><td> 0.39</td></tr>\n",
       "\t<tr><th scope=row>3</th><td>DPM1    </td><td>0.00</td><td>0.43</td><td>0.00</td><td>3.43</td><td> 8.45</td><td> 8.53</td><td> 7.80</td><td> 7.62</td><td>6.40</td><td> 6.09</td><td> 6.62</td><td> 5.51</td><td> 9.62</td><td> 6.77</td><td>13.13</td><td> 9.71</td><td> 9.01</td><td> 7.71</td><td>18.03</td><td>8.32</td><td>5.96</td><td> 9.21</td><td> 8.60</td><td> 2.89</td><td>⋯</td><td>0.00</td><td> 7.85</td><td>4.19</td><td> 0.44</td><td>9.96</td><td> 0.00</td><td>4.33</td><td> 4.13</td><td> 0.00</td><td> 0.75</td><td> 5.72</td><td> 3.64</td><td> 6.13</td><td>19.28</td><td>3.01</td><td>4.93</td><td>7.47</td><td> 5.72</td><td> 4.96</td><td>9.28</td><td> 9.15</td><td> 4.77</td><td>3.75</td><td> 7.31</td><td> 2.77</td></tr>\n",
       "\t<tr><th scope=row>4</th><td>SCYL3   </td><td>5.78</td><td>5.17</td><td>8.76</td><td>4.58</td><td> 7.20</td><td> 6.03</td><td> 9.05</td><td> 5.37</td><td>5.92</td><td>12.45</td><td>10.44</td><td> 8.81</td><td> 9.04</td><td> 9.36</td><td> 5.91</td><td> 4.58</td><td> 8.10</td><td>13.55</td><td> 3.66</td><td>4.39</td><td>7.46</td><td> 9.98</td><td>15.58</td><td> 8.54</td><td>⋯</td><td>8.71</td><td> 4.24</td><td>6.07</td><td> 5.47</td><td>4.30</td><td> 4.90</td><td>4.07</td><td> 7.45</td><td> 0.23</td><td> 5.05</td><td> 5.28</td><td> 5.90</td><td> 7.97</td><td> 2.59</td><td>6.57</td><td>8.02</td><td>6.00</td><td> 5.28</td><td> 4.98</td><td>4.45</td><td> 7.00</td><td> 4.14</td><td>5.51</td><td> 7.45</td><td> 2.33</td></tr>\n",
       "\t<tr><th scope=row>5</th><td>C1orf112</td><td>2.83</td><td>6.26</td><td>3.37</td><td>6.24</td><td> 5.16</td><td>13.69</td><td> 6.69</td><td> 5.28</td><td>7.65</td><td>13.71</td><td>13.97</td><td> 7.30</td><td>16.13</td><td>14.37</td><td>10.71</td><td> 9.87</td><td> 8.51</td><td>16.54</td><td>10.59</td><td>5.37</td><td>8.59</td><td>13.38</td><td>15.07</td><td> 8.33</td><td>⋯</td><td>5.43</td><td> 3.90</td><td>6.29</td><td>14.61</td><td>3.81</td><td>15.07</td><td>3.89</td><td> 4.58</td><td> 0.39</td><td>14.69</td><td> 6.95</td><td> 8.67</td><td>10.39</td><td>19.20</td><td>5.42</td><td>7.91</td><td>4.61</td><td> 8.35</td><td> 9.84</td><td>7.68</td><td> 5.62</td><td> 2.81</td><td>7.08</td><td> 7.28</td><td> 5.39</td></tr>\n",
       "\t<tr><th scope=row>6</th><td>FGR     </td><td>4.80</td><td>1.83</td><td>0.00</td><td>4.23</td><td>15.87</td><td> 8.56</td><td>13.28</td><td>12.27</td><td>5.58</td><td> 7.03</td><td> 5.04</td><td>12.83</td><td> 9.56</td><td> 7.57</td><td> 9.77</td><td>15.40</td><td>11.62</td><td> 8.90</td><td> 1.87</td><td>8.93</td><td>9.04</td><td> 8.44</td><td> 5.54</td><td>15.79</td><td>⋯</td><td>0.00</td><td> 6.62</td><td>5.24</td><td> 2.76</td><td>7.56</td><td> 2.19</td><td>9.92</td><td> 8.48</td><td> 0.00</td><td>11.08</td><td>14.92</td><td> 4.35</td><td> 7.21</td><td> 1.87</td><td>4.48</td><td>6.99</td><td>6.16</td><td>13.27</td><td>19.33</td><td>2.89</td><td>40.13</td><td>10.53</td><td>9.00</td><td> 4.45</td><td>11.42</td></tr>\n",
       "</tbody>\n",
       "</table>\n"
      ],
      "text/latex": [
       "A data.frame: 6 × 61\n",
       "\\begin{tabular}{r|lllllllllllllllllllllllllllllllllllllllllllllllllll}\n",
       "  & X & CA.102548 & CA.104338 & CA.105094 & CA.109745 & CA.1906415 & CA.1912627 & CA.1924346 & CA.1926760 & CA.1927842 & CA.1933414 & CA.1940640 & CA.2004407 & CA.2005288 & CA.2006047 & CA.2008260 & CA.2009329 & CA.2009381 & CA.2009850 & CA.2017611 & CA.2039179 & CA.2040686 & CA.2045012 & CA.2046297 & CA.348981 & ⋯ & CAP.1912627 & CAP.1924346 & CAP.1926760 & CAP.1927842 & CAP.1933414 & CAP.1940640 & CAP.2004407 & CAP.2005288 & CAP.2006047 & CAP.2008260 & CAP.2009329 & CAP.2009381 & CAP.2009850 & CAP.2017611 & CAP.2039179 & CAP.2040686 & CAP.2046297 & CAP.2046641 & CAP.348981 & CAP.354300 & CAP.359448 & CAP.94377 & CAP.98389 & CAP.98475 & CAP.99145\\\\\n",
       "  & <chr> & <dbl> & <dbl> & <dbl> & <dbl> & <dbl> & <dbl> & <dbl> & <dbl> & <dbl> & <dbl> & <dbl> & <dbl> & <dbl> & <dbl> & <dbl> & <dbl> & <dbl> & <dbl> & <dbl> & <dbl> & <dbl> & <dbl> & <dbl> & <dbl> & ⋯ & <dbl> & <dbl> & <dbl> & <dbl> & <dbl> & <dbl> & <dbl> & <dbl> & <dbl> & <dbl> & <dbl> & <dbl> & <dbl> & <dbl> & <dbl> & <dbl> & <dbl> & <dbl> & <dbl> & <dbl> & <dbl> & <dbl> & <dbl> & <dbl> & <dbl>\\\\\n",
       "\\hline\n",
       "\t1 & TSPAN6   & 0.93 & 1.97 & 0.00 & 5.45 &  4.52 &  4.75 &  3.96 &  3.58 & 6.41 & 11.89 &  5.55 &  3.82 &  7.66 & 11.48 &  4.32 & 14.44 & 10.26 &  6.51 &  5.86 & 7.13 & 9.19 &  6.65 & 10.13 &  7.07 & ⋯ & 0.00 & 10.45 & 7.10 &  5.21 & 5.61 &  6.20 & 6.79 & 11.24 & 15.73 & 12.05 & 11.64 & 10.16 &  9.13 &  6.87 & 8.71 & 6.66 & 8.35 &  8.94 &  6.33 & 5.94 &  6.35 &  3.74 & 4.84 & 10.46 &  4.54\\\\\n",
       "\t2 & TNMD     & 0.00 & 0.00 & 0.00 & 0.00 &  0.00 &  0.00 &  0.00 &  0.23 & 0.39 &  0.44 &  0.36 &  0.09 &  0.07 &  1.14 &  0.00 &  0.50 &  0.21 &  0.20 &  0.10 & 0.18 & 0.20 &  0.00 &  0.00 &  0.00 & ⋯ & 0.00 &  0.00 & 0.20 & 11.43 & 0.26 &  3.20 & 0.06 &  0.08 &  0.00 &  0.00 &  0.59 &  0.63 &  0.49 &  0.00 & 0.23 & 0.12 & 0.17 &  1.08 &  0.29 & 0.00 &  0.07 &  9.19 & 1.18 &  0.09 &  0.39\\\\\n",
       "\t3 & DPM1     & 0.00 & 0.43 & 0.00 & 3.43 &  8.45 &  8.53 &  7.80 &  7.62 & 6.40 &  6.09 &  6.62 &  5.51 &  9.62 &  6.77 & 13.13 &  9.71 &  9.01 &  7.71 & 18.03 & 8.32 & 5.96 &  9.21 &  8.60 &  2.89 & ⋯ & 0.00 &  7.85 & 4.19 &  0.44 & 9.96 &  0.00 & 4.33 &  4.13 &  0.00 &  0.75 &  5.72 &  3.64 &  6.13 & 19.28 & 3.01 & 4.93 & 7.47 &  5.72 &  4.96 & 9.28 &  9.15 &  4.77 & 3.75 &  7.31 &  2.77\\\\\n",
       "\t4 & SCYL3    & 5.78 & 5.17 & 8.76 & 4.58 &  7.20 &  6.03 &  9.05 &  5.37 & 5.92 & 12.45 & 10.44 &  8.81 &  9.04 &  9.36 &  5.91 &  4.58 &  8.10 & 13.55 &  3.66 & 4.39 & 7.46 &  9.98 & 15.58 &  8.54 & ⋯ & 8.71 &  4.24 & 6.07 &  5.47 & 4.30 &  4.90 & 4.07 &  7.45 &  0.23 &  5.05 &  5.28 &  5.90 &  7.97 &  2.59 & 6.57 & 8.02 & 6.00 &  5.28 &  4.98 & 4.45 &  7.00 &  4.14 & 5.51 &  7.45 &  2.33\\\\\n",
       "\t5 & C1orf112 & 2.83 & 6.26 & 3.37 & 6.24 &  5.16 & 13.69 &  6.69 &  5.28 & 7.65 & 13.71 & 13.97 &  7.30 & 16.13 & 14.37 & 10.71 &  9.87 &  8.51 & 16.54 & 10.59 & 5.37 & 8.59 & 13.38 & 15.07 &  8.33 & ⋯ & 5.43 &  3.90 & 6.29 & 14.61 & 3.81 & 15.07 & 3.89 &  4.58 &  0.39 & 14.69 &  6.95 &  8.67 & 10.39 & 19.20 & 5.42 & 7.91 & 4.61 &  8.35 &  9.84 & 7.68 &  5.62 &  2.81 & 7.08 &  7.28 &  5.39\\\\\n",
       "\t6 & FGR      & 4.80 & 1.83 & 0.00 & 4.23 & 15.87 &  8.56 & 13.28 & 12.27 & 5.58 &  7.03 &  5.04 & 12.83 &  9.56 &  7.57 &  9.77 & 15.40 & 11.62 &  8.90 &  1.87 & 8.93 & 9.04 &  8.44 &  5.54 & 15.79 & ⋯ & 0.00 &  6.62 & 5.24 &  2.76 & 7.56 &  2.19 & 9.92 &  8.48 &  0.00 & 11.08 & 14.92 &  4.35 &  7.21 &  1.87 & 4.48 & 6.99 & 6.16 & 13.27 & 19.33 & 2.89 & 40.13 & 10.53 & 9.00 &  4.45 & 11.42\\\\\n",
       "\\end{tabular}\n"
      ],
      "text/markdown": [
       "\n",
       "A data.frame: 6 × 61\n",
       "\n",
       "| <!--/--> | X &lt;chr&gt; | CA.102548 &lt;dbl&gt; | CA.104338 &lt;dbl&gt; | CA.105094 &lt;dbl&gt; | CA.109745 &lt;dbl&gt; | CA.1906415 &lt;dbl&gt; | CA.1912627 &lt;dbl&gt; | CA.1924346 &lt;dbl&gt; | CA.1926760 &lt;dbl&gt; | CA.1927842 &lt;dbl&gt; | CA.1933414 &lt;dbl&gt; | CA.1940640 &lt;dbl&gt; | CA.2004407 &lt;dbl&gt; | CA.2005288 &lt;dbl&gt; | CA.2006047 &lt;dbl&gt; | CA.2008260 &lt;dbl&gt; | CA.2009329 &lt;dbl&gt; | CA.2009381 &lt;dbl&gt; | CA.2009850 &lt;dbl&gt; | CA.2017611 &lt;dbl&gt; | CA.2039179 &lt;dbl&gt; | CA.2040686 &lt;dbl&gt; | CA.2045012 &lt;dbl&gt; | CA.2046297 &lt;dbl&gt; | CA.348981 &lt;dbl&gt; | ⋯ ⋯ | CAP.1912627 &lt;dbl&gt; | CAP.1924346 &lt;dbl&gt; | CAP.1926760 &lt;dbl&gt; | CAP.1927842 &lt;dbl&gt; | CAP.1933414 &lt;dbl&gt; | CAP.1940640 &lt;dbl&gt; | CAP.2004407 &lt;dbl&gt; | CAP.2005288 &lt;dbl&gt; | CAP.2006047 &lt;dbl&gt; | CAP.2008260 &lt;dbl&gt; | CAP.2009329 &lt;dbl&gt; | CAP.2009381 &lt;dbl&gt; | CAP.2009850 &lt;dbl&gt; | CAP.2017611 &lt;dbl&gt; | CAP.2039179 &lt;dbl&gt; | CAP.2040686 &lt;dbl&gt; | CAP.2046297 &lt;dbl&gt; | CAP.2046641 &lt;dbl&gt; | CAP.348981 &lt;dbl&gt; | CAP.354300 &lt;dbl&gt; | CAP.359448 &lt;dbl&gt; | CAP.94377 &lt;dbl&gt; | CAP.98389 &lt;dbl&gt; | CAP.98475 &lt;dbl&gt; | CAP.99145 &lt;dbl&gt; |\n",
       "|---|---|---|---|---|---|---|---|---|---|---|---|---|---|---|---|---|---|---|---|---|---|---|---|---|---|---|---|---|---|---|---|---|---|---|---|---|---|---|---|---|---|---|---|---|---|---|---|---|---|---|---|\n",
       "| 1 | TSPAN6   | 0.93 | 1.97 | 0.00 | 5.45 |  4.52 |  4.75 |  3.96 |  3.58 | 6.41 | 11.89 |  5.55 |  3.82 |  7.66 | 11.48 |  4.32 | 14.44 | 10.26 |  6.51 |  5.86 | 7.13 | 9.19 |  6.65 | 10.13 |  7.07 | ⋯ | 0.00 | 10.45 | 7.10 |  5.21 | 5.61 |  6.20 | 6.79 | 11.24 | 15.73 | 12.05 | 11.64 | 10.16 |  9.13 |  6.87 | 8.71 | 6.66 | 8.35 |  8.94 |  6.33 | 5.94 |  6.35 |  3.74 | 4.84 | 10.46 |  4.54 |\n",
       "| 2 | TNMD     | 0.00 | 0.00 | 0.00 | 0.00 |  0.00 |  0.00 |  0.00 |  0.23 | 0.39 |  0.44 |  0.36 |  0.09 |  0.07 |  1.14 |  0.00 |  0.50 |  0.21 |  0.20 |  0.10 | 0.18 | 0.20 |  0.00 |  0.00 |  0.00 | ⋯ | 0.00 |  0.00 | 0.20 | 11.43 | 0.26 |  3.20 | 0.06 |  0.08 |  0.00 |  0.00 |  0.59 |  0.63 |  0.49 |  0.00 | 0.23 | 0.12 | 0.17 |  1.08 |  0.29 | 0.00 |  0.07 |  9.19 | 1.18 |  0.09 |  0.39 |\n",
       "| 3 | DPM1     | 0.00 | 0.43 | 0.00 | 3.43 |  8.45 |  8.53 |  7.80 |  7.62 | 6.40 |  6.09 |  6.62 |  5.51 |  9.62 |  6.77 | 13.13 |  9.71 |  9.01 |  7.71 | 18.03 | 8.32 | 5.96 |  9.21 |  8.60 |  2.89 | ⋯ | 0.00 |  7.85 | 4.19 |  0.44 | 9.96 |  0.00 | 4.33 |  4.13 |  0.00 |  0.75 |  5.72 |  3.64 |  6.13 | 19.28 | 3.01 | 4.93 | 7.47 |  5.72 |  4.96 | 9.28 |  9.15 |  4.77 | 3.75 |  7.31 |  2.77 |\n",
       "| 4 | SCYL3    | 5.78 | 5.17 | 8.76 | 4.58 |  7.20 |  6.03 |  9.05 |  5.37 | 5.92 | 12.45 | 10.44 |  8.81 |  9.04 |  9.36 |  5.91 |  4.58 |  8.10 | 13.55 |  3.66 | 4.39 | 7.46 |  9.98 | 15.58 |  8.54 | ⋯ | 8.71 |  4.24 | 6.07 |  5.47 | 4.30 |  4.90 | 4.07 |  7.45 |  0.23 |  5.05 |  5.28 |  5.90 |  7.97 |  2.59 | 6.57 | 8.02 | 6.00 |  5.28 |  4.98 | 4.45 |  7.00 |  4.14 | 5.51 |  7.45 |  2.33 |\n",
       "| 5 | C1orf112 | 2.83 | 6.26 | 3.37 | 6.24 |  5.16 | 13.69 |  6.69 |  5.28 | 7.65 | 13.71 | 13.97 |  7.30 | 16.13 | 14.37 | 10.71 |  9.87 |  8.51 | 16.54 | 10.59 | 5.37 | 8.59 | 13.38 | 15.07 |  8.33 | ⋯ | 5.43 |  3.90 | 6.29 | 14.61 | 3.81 | 15.07 | 3.89 |  4.58 |  0.39 | 14.69 |  6.95 |  8.67 | 10.39 | 19.20 | 5.42 | 7.91 | 4.61 |  8.35 |  9.84 | 7.68 |  5.62 |  2.81 | 7.08 |  7.28 |  5.39 |\n",
       "| 6 | FGR      | 4.80 | 1.83 | 0.00 | 4.23 | 15.87 |  8.56 | 13.28 | 12.27 | 5.58 |  7.03 |  5.04 | 12.83 |  9.56 |  7.57 |  9.77 | 15.40 | 11.62 |  8.90 |  1.87 | 8.93 | 9.04 |  8.44 |  5.54 | 15.79 | ⋯ | 0.00 |  6.62 | 5.24 |  2.76 | 7.56 |  2.19 | 9.92 |  8.48 |  0.00 | 11.08 | 14.92 |  4.35 |  7.21 |  1.87 | 4.48 | 6.99 | 6.16 | 13.27 | 19.33 | 2.89 | 40.13 | 10.53 | 9.00 |  4.45 | 11.42 |\n",
       "\n"
      ],
      "text/plain": [
       "  X        CA.102548 CA.104338 CA.105094 CA.109745 CA.1906415 CA.1912627\n",
       "1 TSPAN6   0.93      1.97      0.00      5.45       4.52       4.75     \n",
       "2 TNMD     0.00      0.00      0.00      0.00       0.00       0.00     \n",
       "3 DPM1     0.00      0.43      0.00      3.43       8.45       8.53     \n",
       "4 SCYL3    5.78      5.17      8.76      4.58       7.20       6.03     \n",
       "5 C1orf112 2.83      6.26      3.37      6.24       5.16      13.69     \n",
       "6 FGR      4.80      1.83      0.00      4.23      15.87       8.56     \n",
       "  CA.1924346 CA.1926760 CA.1927842 CA.1933414 CA.1940640 CA.2004407 CA.2005288\n",
       "1  3.96       3.58      6.41       11.89       5.55       3.82       7.66     \n",
       "2  0.00       0.23      0.39        0.44       0.36       0.09       0.07     \n",
       "3  7.80       7.62      6.40        6.09       6.62       5.51       9.62     \n",
       "4  9.05       5.37      5.92       12.45      10.44       8.81       9.04     \n",
       "5  6.69       5.28      7.65       13.71      13.97       7.30      16.13     \n",
       "6 13.28      12.27      5.58        7.03       5.04      12.83       9.56     \n",
       "  CA.2006047 CA.2008260 CA.2009329 CA.2009381 CA.2009850 CA.2017611 CA.2039179\n",
       "1 11.48       4.32      14.44      10.26       6.51       5.86      7.13      \n",
       "2  1.14       0.00       0.50       0.21       0.20       0.10      0.18      \n",
       "3  6.77      13.13       9.71       9.01       7.71      18.03      8.32      \n",
       "4  9.36       5.91       4.58       8.10      13.55       3.66      4.39      \n",
       "5 14.37      10.71       9.87       8.51      16.54      10.59      5.37      \n",
       "6  7.57       9.77      15.40      11.62       8.90       1.87      8.93      \n",
       "  CA.2040686 CA.2045012 CA.2046297 CA.348981 ⋯ CAP.1912627 CAP.1924346\n",
       "1 9.19        6.65      10.13       7.07     ⋯ 0.00        10.45      \n",
       "2 0.20        0.00       0.00       0.00     ⋯ 0.00         0.00      \n",
       "3 5.96        9.21       8.60       2.89     ⋯ 0.00         7.85      \n",
       "4 7.46        9.98      15.58       8.54     ⋯ 8.71         4.24      \n",
       "5 8.59       13.38      15.07       8.33     ⋯ 5.43         3.90      \n",
       "6 9.04        8.44       5.54      15.79     ⋯ 0.00         6.62      \n",
       "  CAP.1926760 CAP.1927842 CAP.1933414 CAP.1940640 CAP.2004407 CAP.2005288\n",
       "1 7.10         5.21       5.61         6.20       6.79        11.24      \n",
       "2 0.20        11.43       0.26         3.20       0.06         0.08      \n",
       "3 4.19         0.44       9.96         0.00       4.33         4.13      \n",
       "4 6.07         5.47       4.30         4.90       4.07         7.45      \n",
       "5 6.29        14.61       3.81        15.07       3.89         4.58      \n",
       "6 5.24         2.76       7.56         2.19       9.92         8.48      \n",
       "  CAP.2006047 CAP.2008260 CAP.2009329 CAP.2009381 CAP.2009850 CAP.2017611\n",
       "1 15.73       12.05       11.64       10.16        9.13        6.87      \n",
       "2  0.00        0.00        0.59        0.63        0.49        0.00      \n",
       "3  0.00        0.75        5.72        3.64        6.13       19.28      \n",
       "4  0.23        5.05        5.28        5.90        7.97        2.59      \n",
       "5  0.39       14.69        6.95        8.67       10.39       19.20      \n",
       "6  0.00       11.08       14.92        4.35        7.21        1.87      \n",
       "  CAP.2039179 CAP.2040686 CAP.2046297 CAP.2046641 CAP.348981 CAP.354300\n",
       "1 8.71        6.66        8.35         8.94        6.33      5.94      \n",
       "2 0.23        0.12        0.17         1.08        0.29      0.00      \n",
       "3 3.01        4.93        7.47         5.72        4.96      9.28      \n",
       "4 6.57        8.02        6.00         5.28        4.98      4.45      \n",
       "5 5.42        7.91        4.61         8.35        9.84      7.68      \n",
       "6 4.48        6.99        6.16        13.27       19.33      2.89      \n",
       "  CAP.359448 CAP.94377 CAP.98389 CAP.98475 CAP.99145\n",
       "1  6.35       3.74     4.84      10.46      4.54    \n",
       "2  0.07       9.19     1.18       0.09      0.39    \n",
       "3  9.15       4.77     3.75       7.31      2.77    \n",
       "4  7.00       4.14     5.51       7.45      2.33    \n",
       "5  5.62       2.81     7.08       7.28      5.39    \n",
       "6 40.13      10.53     9.00       4.45     11.42    "
      ]
     },
     "metadata": {},
     "output_type": "display_data"
    }
   ],
   "source": [
    "head(dat)"
   ]
  },
  {
   "cell_type": "markdown",
   "id": "7b3e996b",
   "metadata": {},
   "source": [
    "Reshaping data into a long format from the wide format."
   ]
  },
  {
   "cell_type": "code",
   "execution_count": 46,
   "id": "4cba694b",
   "metadata": {},
   "outputs": [],
   "source": [
    "dat.long <- dat %>%\n",
    "    rename(gene = X) %>%\n",
    "    gather(key = 'samples', value = 'FPKM', -gene)"
   ]
  },
  {
   "cell_type": "code",
   "execution_count": 48,
   "id": "c18ffe5d",
   "metadata": {},
   "outputs": [
    {
     "data": {
      "text/html": [
       "<table class=\"dataframe\">\n",
       "<caption>A data.frame: 6 × 3</caption>\n",
       "<thead>\n",
       "\t<tr><th></th><th scope=col>gene</th><th scope=col>samples</th><th scope=col>FPKM</th></tr>\n",
       "\t<tr><th></th><th scope=col>&lt;chr&gt;</th><th scope=col>&lt;chr&gt;</th><th scope=col>&lt;dbl&gt;</th></tr>\n",
       "</thead>\n",
       "<tbody>\n",
       "\t<tr><th scope=row>1</th><td>TSPAN6  </td><td>CA.102548</td><td>0.93</td></tr>\n",
       "\t<tr><th scope=row>2</th><td>TNMD    </td><td>CA.102548</td><td>0.00</td></tr>\n",
       "\t<tr><th scope=row>3</th><td>DPM1    </td><td>CA.102548</td><td>0.00</td></tr>\n",
       "\t<tr><th scope=row>4</th><td>SCYL3   </td><td>CA.102548</td><td>5.78</td></tr>\n",
       "\t<tr><th scope=row>5</th><td>C1orf112</td><td>CA.102548</td><td>2.83</td></tr>\n",
       "\t<tr><th scope=row>6</th><td>FGR     </td><td>CA.102548</td><td>4.80</td></tr>\n",
       "</tbody>\n",
       "</table>\n"
      ],
      "text/latex": [
       "A data.frame: 6 × 3\n",
       "\\begin{tabular}{r|lll}\n",
       "  & gene & samples & FPKM\\\\\n",
       "  & <chr> & <chr> & <dbl>\\\\\n",
       "\\hline\n",
       "\t1 & TSPAN6   & CA.102548 & 0.93\\\\\n",
       "\t2 & TNMD     & CA.102548 & 0.00\\\\\n",
       "\t3 & DPM1     & CA.102548 & 0.00\\\\\n",
       "\t4 & SCYL3    & CA.102548 & 5.78\\\\\n",
       "\t5 & C1orf112 & CA.102548 & 2.83\\\\\n",
       "\t6 & FGR      & CA.102548 & 4.80\\\\\n",
       "\\end{tabular}\n"
      ],
      "text/markdown": [
       "\n",
       "A data.frame: 6 × 3\n",
       "\n",
       "| <!--/--> | gene &lt;chr&gt; | samples &lt;chr&gt; | FPKM &lt;dbl&gt; |\n",
       "|---|---|---|---|\n",
       "| 1 | TSPAN6   | CA.102548 | 0.93 |\n",
       "| 2 | TNMD     | CA.102548 | 0.00 |\n",
       "| 3 | DPM1     | CA.102548 | 0.00 |\n",
       "| 4 | SCYL3    | CA.102548 | 5.78 |\n",
       "| 5 | C1orf112 | CA.102548 | 2.83 |\n",
       "| 6 | FGR      | CA.102548 | 4.80 |\n",
       "\n"
      ],
      "text/plain": [
       "  gene     samples   FPKM\n",
       "1 TSPAN6   CA.102548 0.93\n",
       "2 TNMD     CA.102548 0.00\n",
       "3 DPM1     CA.102548 0.00\n",
       "4 SCYL3    CA.102548 5.78\n",
       "5 C1orf112 CA.102548 2.83\n",
       "6 FGR      CA.102548 4.80"
      ]
     },
     "metadata": {},
     "output_type": "display_data"
    }
   ],
   "source": [
    "head(dat.long)"
   ]
  },
  {
   "cell_type": "code",
   "execution_count": 49,
   "id": "17dd47d7",
   "metadata": {},
   "outputs": [
    {
     "data": {
      "text/html": [
       "<style>\n",
       ".list-inline {list-style: none; margin:0; padding: 0}\n",
       ".list-inline>li {display: inline-block}\n",
       ".list-inline>li:not(:last-child)::after {content: \"\\00b7\"; padding: 0 .5ex}\n",
       "</style>\n",
       "<ol class=list-inline><li>1214760</li><li>3</li></ol>\n"
      ],
      "text/latex": [
       "\\begin{enumerate*}\n",
       "\\item 1214760\n",
       "\\item 3\n",
       "\\end{enumerate*}\n"
      ],
      "text/markdown": [
       "1. 1214760\n",
       "2. 3\n",
       "\n",
       "\n"
      ],
      "text/plain": [
       "[1] 1214760       3"
      ]
     },
     "metadata": {},
     "output_type": "display_data"
    }
   ],
   "source": [
    "dim(dat.long)"
   ]
  },
  {
   "cell_type": "markdown",
   "id": "bdd4cff5",
   "metadata": {},
   "source": [
    "join dataframes = dat.long + metadata.modified"
   ]
  },
  {
   "cell_type": "code",
   "execution_count": 50,
   "id": "e4c558c7",
   "metadata": {},
   "outputs": [
    {
     "data": {
      "text/html": [
       "<table class=\"dataframe\">\n",
       "<caption>A data.frame: 6 × 6</caption>\n",
       "<thead>\n",
       "\t<tr><th></th><th scope=col>gene</th><th scope=col>samples</th><th scope=col>FPKM</th><th scope=col>title</th><th scope=col>tissue</th><th scope=col>metastatis</th></tr>\n",
       "\t<tr><th></th><th scope=col>&lt;chr&gt;</th><th scope=col>&lt;chr&gt;</th><th scope=col>&lt;dbl&gt;</th><th scope=col>&lt;chr&gt;</th><th scope=col>&lt;chr&gt;</th><th scope=col>&lt;chr&gt;</th></tr>\n",
       "</thead>\n",
       "<tbody>\n",
       "\t<tr><th scope=row>1</th><td>TSPAN6  </td><td>CA.102548</td><td>0.93</td><td>tumor rep1</td><td>breast tumor</td><td>yes</td></tr>\n",
       "\t<tr><th scope=row>2</th><td>TNMD    </td><td>CA.102548</td><td>0.00</td><td>tumor rep1</td><td>breast tumor</td><td>yes</td></tr>\n",
       "\t<tr><th scope=row>3</th><td>DPM1    </td><td>CA.102548</td><td>0.00</td><td>tumor rep1</td><td>breast tumor</td><td>yes</td></tr>\n",
       "\t<tr><th scope=row>4</th><td>SCYL3   </td><td>CA.102548</td><td>5.78</td><td>tumor rep1</td><td>breast tumor</td><td>yes</td></tr>\n",
       "\t<tr><th scope=row>5</th><td>C1orf112</td><td>CA.102548</td><td>2.83</td><td>tumor rep1</td><td>breast tumor</td><td>yes</td></tr>\n",
       "\t<tr><th scope=row>6</th><td>FGR     </td><td>CA.102548</td><td>4.80</td><td>tumor rep1</td><td>breast tumor</td><td>yes</td></tr>\n",
       "</tbody>\n",
       "</table>\n"
      ],
      "text/latex": [
       "A data.frame: 6 × 6\n",
       "\\begin{tabular}{r|llllll}\n",
       "  & gene & samples & FPKM & title & tissue & metastatis\\\\\n",
       "  & <chr> & <chr> & <dbl> & <chr> & <chr> & <chr>\\\\\n",
       "\\hline\n",
       "\t1 & TSPAN6   & CA.102548 & 0.93 & tumor rep1 & breast tumor & yes\\\\\n",
       "\t2 & TNMD     & CA.102548 & 0.00 & tumor rep1 & breast tumor & yes\\\\\n",
       "\t3 & DPM1     & CA.102548 & 0.00 & tumor rep1 & breast tumor & yes\\\\\n",
       "\t4 & SCYL3    & CA.102548 & 5.78 & tumor rep1 & breast tumor & yes\\\\\n",
       "\t5 & C1orf112 & CA.102548 & 2.83 & tumor rep1 & breast tumor & yes\\\\\n",
       "\t6 & FGR      & CA.102548 & 4.80 & tumor rep1 & breast tumor & yes\\\\\n",
       "\\end{tabular}\n"
      ],
      "text/markdown": [
       "\n",
       "A data.frame: 6 × 6\n",
       "\n",
       "| <!--/--> | gene &lt;chr&gt; | samples &lt;chr&gt; | FPKM &lt;dbl&gt; | title &lt;chr&gt; | tissue &lt;chr&gt; | metastatis &lt;chr&gt; |\n",
       "|---|---|---|---|---|---|---|\n",
       "| 1 | TSPAN6   | CA.102548 | 0.93 | tumor rep1 | breast tumor | yes |\n",
       "| 2 | TNMD     | CA.102548 | 0.00 | tumor rep1 | breast tumor | yes |\n",
       "| 3 | DPM1     | CA.102548 | 0.00 | tumor rep1 | breast tumor | yes |\n",
       "| 4 | SCYL3    | CA.102548 | 5.78 | tumor rep1 | breast tumor | yes |\n",
       "| 5 | C1orf112 | CA.102548 | 2.83 | tumor rep1 | breast tumor | yes |\n",
       "| 6 | FGR      | CA.102548 | 4.80 | tumor rep1 | breast tumor | yes |\n",
       "\n"
      ],
      "text/plain": [
       "  gene     samples   FPKM title      tissue       metastatis\n",
       "1 TSPAN6   CA.102548 0.93 tumor rep1 breast tumor yes       \n",
       "2 TNMD     CA.102548 0.00 tumor rep1 breast tumor yes       \n",
       "3 DPM1     CA.102548 0.00 tumor rep1 breast tumor yes       \n",
       "4 SCYL3    CA.102548 5.78 tumor rep1 breast tumor yes       \n",
       "5 C1orf112 CA.102548 2.83 tumor rep1 breast tumor yes       \n",
       "6 FGR      CA.102548 4.80 tumor rep1 breast tumor yes       "
      ]
     },
     "metadata": {},
     "output_type": "display_data"
    }
   ],
   "source": [
    "dat.long %>%\n",
    "    left_join(., metadata.modified, by = c('samples' = 'description')) %>%\n",
    "    head()"
   ]
  },
  {
   "cell_type": "code",
   "execution_count": 51,
   "id": "ceb368f0",
   "metadata": {},
   "outputs": [],
   "source": [
    "dat.long <- dat.long %>%\n",
    "    left_join(., metadata.modified, by = c('samples' = 'description'))"
   ]
  },
  {
   "cell_type": "code",
   "execution_count": 54,
   "id": "3cb450b5",
   "metadata": {},
   "outputs": [
    {
     "data": {
      "text/html": [
       "<table class=\"dataframe\">\n",
       "<caption>A data.frame: 6 × 6</caption>\n",
       "<thead>\n",
       "\t<tr><th></th><th scope=col>gene</th><th scope=col>samples</th><th scope=col>FPKM</th><th scope=col>title</th><th scope=col>tissue</th><th scope=col>metastatis</th></tr>\n",
       "\t<tr><th></th><th scope=col>&lt;chr&gt;</th><th scope=col>&lt;chr&gt;</th><th scope=col>&lt;dbl&gt;</th><th scope=col>&lt;chr&gt;</th><th scope=col>&lt;chr&gt;</th><th scope=col>&lt;chr&gt;</th></tr>\n",
       "</thead>\n",
       "<tbody>\n",
       "\t<tr><th scope=row>1</th><td>TSPAN6  </td><td>CA.102548</td><td>0.93</td><td>tumor rep1</td><td>breast tumor</td><td>yes</td></tr>\n",
       "\t<tr><th scope=row>2</th><td>TNMD    </td><td>CA.102548</td><td>0.00</td><td>tumor rep1</td><td>breast tumor</td><td>yes</td></tr>\n",
       "\t<tr><th scope=row>3</th><td>DPM1    </td><td>CA.102548</td><td>0.00</td><td>tumor rep1</td><td>breast tumor</td><td>yes</td></tr>\n",
       "\t<tr><th scope=row>4</th><td>SCYL3   </td><td>CA.102548</td><td>5.78</td><td>tumor rep1</td><td>breast tumor</td><td>yes</td></tr>\n",
       "\t<tr><th scope=row>5</th><td>C1orf112</td><td>CA.102548</td><td>2.83</td><td>tumor rep1</td><td>breast tumor</td><td>yes</td></tr>\n",
       "\t<tr><th scope=row>6</th><td>FGR     </td><td>CA.102548</td><td>4.80</td><td>tumor rep1</td><td>breast tumor</td><td>yes</td></tr>\n",
       "</tbody>\n",
       "</table>\n"
      ],
      "text/latex": [
       "A data.frame: 6 × 6\n",
       "\\begin{tabular}{r|llllll}\n",
       "  & gene & samples & FPKM & title & tissue & metastatis\\\\\n",
       "  & <chr> & <chr> & <dbl> & <chr> & <chr> & <chr>\\\\\n",
       "\\hline\n",
       "\t1 & TSPAN6   & CA.102548 & 0.93 & tumor rep1 & breast tumor & yes\\\\\n",
       "\t2 & TNMD     & CA.102548 & 0.00 & tumor rep1 & breast tumor & yes\\\\\n",
       "\t3 & DPM1     & CA.102548 & 0.00 & tumor rep1 & breast tumor & yes\\\\\n",
       "\t4 & SCYL3    & CA.102548 & 5.78 & tumor rep1 & breast tumor & yes\\\\\n",
       "\t5 & C1orf112 & CA.102548 & 2.83 & tumor rep1 & breast tumor & yes\\\\\n",
       "\t6 & FGR      & CA.102548 & 4.80 & tumor rep1 & breast tumor & yes\\\\\n",
       "\\end{tabular}\n"
      ],
      "text/markdown": [
       "\n",
       "A data.frame: 6 × 6\n",
       "\n",
       "| <!--/--> | gene &lt;chr&gt; | samples &lt;chr&gt; | FPKM &lt;dbl&gt; | title &lt;chr&gt; | tissue &lt;chr&gt; | metastatis &lt;chr&gt; |\n",
       "|---|---|---|---|---|---|---|\n",
       "| 1 | TSPAN6   | CA.102548 | 0.93 | tumor rep1 | breast tumor | yes |\n",
       "| 2 | TNMD     | CA.102548 | 0.00 | tumor rep1 | breast tumor | yes |\n",
       "| 3 | DPM1     | CA.102548 | 0.00 | tumor rep1 | breast tumor | yes |\n",
       "| 4 | SCYL3    | CA.102548 | 5.78 | tumor rep1 | breast tumor | yes |\n",
       "| 5 | C1orf112 | CA.102548 | 2.83 | tumor rep1 | breast tumor | yes |\n",
       "| 6 | FGR      | CA.102548 | 4.80 | tumor rep1 | breast tumor | yes |\n",
       "\n"
      ],
      "text/plain": [
       "  gene     samples   FPKM title      tissue       metastatis\n",
       "1 TSPAN6   CA.102548 0.93 tumor rep1 breast tumor yes       \n",
       "2 TNMD     CA.102548 0.00 tumor rep1 breast tumor yes       \n",
       "3 DPM1     CA.102548 0.00 tumor rep1 breast tumor yes       \n",
       "4 SCYL3    CA.102548 5.78 tumor rep1 breast tumor yes       \n",
       "5 C1orf112 CA.102548 2.83 tumor rep1 breast tumor yes       \n",
       "6 FGR      CA.102548 4.80 tumor rep1 breast tumor yes       "
      ]
     },
     "metadata": {},
     "output_type": "display_data"
    }
   ],
   "source": [
    "head(dat.long)"
   ]
  },
  {
   "cell_type": "markdown",
   "id": "90433d92",
   "metadata": {},
   "source": [
    "Explore data"
   ]
  },
  {
   "cell_type": "code",
   "execution_count": 63,
   "id": "87acfdc9",
   "metadata": {},
   "outputs": [
    {
     "name": "stderr",
     "output_type": "stream",
     "text": [
      "\u001b[1m\u001b[22m`summarise()` has grouped output by 'gene'. You can override using the\n",
      "`.groups` argument.\n"
     ]
    },
    {
     "data": {
      "text/html": [
       "<table class=\"dataframe\">\n",
       "<caption>A grouped_df: 4 × 4</caption>\n",
       "<thead>\n",
       "\t<tr><th scope=col>gene</th><th scope=col>tissue</th><th scope=col>mean_FPKM</th><th scope=col>median_FPKM</th></tr>\n",
       "\t<tr><th scope=col>&lt;chr&gt;</th><th scope=col>&lt;chr&gt;</th><th scope=col>&lt;dbl&gt;</th><th scope=col>&lt;dbl&gt;</th></tr>\n",
       "</thead>\n",
       "<tbody>\n",
       "\t<tr><td>BRCA1</td><td>breast tumor        </td><td>10.042333</td><td>6.965</td></tr>\n",
       "\t<tr><td>BRCA1</td><td>normal breast tissue</td><td> 7.698667</td><td>6.450</td></tr>\n",
       "\t<tr><td>BRCA2</td><td>normal breast tissue</td><td> 3.047333</td><td>1.250</td></tr>\n",
       "\t<tr><td>BRCA2</td><td>breast tumor        </td><td> 2.044000</td><td>1.600</td></tr>\n",
       "</tbody>\n",
       "</table>\n"
      ],
      "text/latex": [
       "A grouped\\_df: 4 × 4\n",
       "\\begin{tabular}{llll}\n",
       " gene & tissue & mean\\_FPKM & median\\_FPKM\\\\\n",
       " <chr> & <chr> & <dbl> & <dbl>\\\\\n",
       "\\hline\n",
       "\t BRCA1 & breast tumor         & 10.042333 & 6.965\\\\\n",
       "\t BRCA1 & normal breast tissue &  7.698667 & 6.450\\\\\n",
       "\t BRCA2 & normal breast tissue &  3.047333 & 1.250\\\\\n",
       "\t BRCA2 & breast tumor         &  2.044000 & 1.600\\\\\n",
       "\\end{tabular}\n"
      ],
      "text/markdown": [
       "\n",
       "A grouped_df: 4 × 4\n",
       "\n",
       "| gene &lt;chr&gt; | tissue &lt;chr&gt; | mean_FPKM &lt;dbl&gt; | median_FPKM &lt;dbl&gt; |\n",
       "|---|---|---|---|\n",
       "| BRCA1 | breast tumor         | 10.042333 | 6.965 |\n",
       "| BRCA1 | normal breast tissue |  7.698667 | 6.450 |\n",
       "| BRCA2 | normal breast tissue |  3.047333 | 1.250 |\n",
       "| BRCA2 | breast tumor         |  2.044000 | 1.600 |\n",
       "\n"
      ],
      "text/plain": [
       "  gene  tissue               mean_FPKM median_FPKM\n",
       "1 BRCA1 breast tumor         10.042333 6.965      \n",
       "2 BRCA1 normal breast tissue  7.698667 6.450      \n",
       "3 BRCA2 normal breast tissue  3.047333 1.250      \n",
       "4 BRCA2 breast tumor          2.044000 1.600      "
      ]
     },
     "metadata": {},
     "output_type": "display_data"
    }
   ],
   "source": [
    "dat.long %>%\n",
    "    filter(gene == 'BRCA1' | gene == 'BRCA2') %>%\n",
    "    group_by(gene, tissue) %>%\n",
    "    summarise(mean_FPKM = mean(FPKM),\n",
    "              median_FPKM = median(FPKM)) %>%\n",
    "    arrange(-mean_FPKM) %>%\n",
    "    head()"
   ]
  },
  {
   "cell_type": "code",
   "execution_count": null,
   "id": "c17e34be",
   "metadata": {},
   "outputs": [],
   "source": []
  }
 ],
 "metadata": {
  "kernelspec": {
   "display_name": "R",
   "language": "R",
   "name": "ir"
  },
  "language_info": {
   "codemirror_mode": "r",
   "file_extension": ".r",
   "mimetype": "text/x-r-source",
   "name": "R",
   "pygments_lexer": "r",
   "version": "4.3.3"
  },
  "toc": {
   "base_numbering": 1,
   "nav_menu": {},
   "number_sections": true,
   "sideBar": true,
   "skip_h1_title": false,
   "title_cell": "Table of Contents",
   "title_sidebar": "Contents",
   "toc_cell": false,
   "toc_position": {},
   "toc_section_display": true,
   "toc_window_display": false
  }
 },
 "nbformat": 4,
 "nbformat_minor": 5
}
