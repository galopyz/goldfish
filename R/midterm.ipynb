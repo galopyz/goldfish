{
 "cells": [
  {
   "cell_type": "markdown",
   "id": "ee871c5b-57a9-45a0-a3eb-8a6b669ab248",
   "metadata": {},
   "source": [
    "# Midterm"
   ]
  },
  {
   "cell_type": "markdown",
   "id": "f0b41bf5-6447-4456-adf8-b67f2bf04128",
   "metadata": {},
   "source": [
    "Paper: PMID 27667667\n",
    "Data link (available in paper): https://www.ebi.ac.uk/biostudies/arrayexpress/studies/E-MTAB-5061\n",
    "\n",
    "From E-MTAB-5061.idf.txt:\n",
    "Format of the datafile ‘pancreas_refseq_rpkms_counts_3514sc.txt’: \n",
    "The file contains both the normalized rpkm values and the raw read counts \n",
    "for each sample. Columns correspond to samples and rows to genes. \n",
    "The first line of the file (starting with: #samples) contains the sample IDs \n",
    "to be used as column labels for both the rpkm and counts.\n",
    "The columns of the rpkm and the counts have the same order with the sample IDs.\n",
    "Columns 1:3514 correspond to rpkm values, Columns 3515:7028 correspond to read counts.\n",
    "Rows 1:26179 correspond to data for RefSeq genes, Rows 26180:26271 correspond \n",
    "to data for the 92 external RNA spike-in controls (ERCCs), \n",
    "Row 26272 (last) contains data for ‘eGFP’."
   ]
  },
  {
   "cell_type": "code",
   "execution_count": 109,
   "id": "6bf177fe-eed1-4d20-865b-c4a34a8855fc",
   "metadata": {},
   "outputs": [
    {
     "name": "stderr",
     "output_type": "stream",
     "text": [
      "Loading required package: SeuratObject\n",
      "\n",
      "Loading required package: sp\n",
      "\n",
      "\n",
      "Attaching package: ‘SeuratObject’\n",
      "\n",
      "\n",
      "The following objects are masked from ‘package:base’:\n",
      "\n",
      "    intersect, t\n",
      "\n",
      "\n"
     ]
    }
   ],
   "source": [
    "library(dplyr)\n",
    "library(Seurat)\n",
    "library(patchwork)"
   ]
  },
  {
   "cell_type": "markdown",
   "id": "5ec82667-f233-44da-906d-75376ca96ca3",
   "metadata": {},
   "source": [
    "## Getting data"
   ]
  },
  {
   "cell_type": "code",
   "execution_count": 1,
   "id": "14c7e741-8444-4be2-bc14-4f7c5c4a81ed",
   "metadata": {},
   "outputs": [
    {
     "data": {
      "text/html": [
       "<style>\n",
       ".list-inline {list-style: none; margin:0; padding: 0}\n",
       ".list-inline>li {display: inline-block}\n",
       ".list-inline>li:not(:last-child)::after {content: \"\\00b7\"; padding: 0 .5ex}\n",
       "</style>\n",
       "<ol class=list-inline><li>'HP1502401_N13'</li><li>'HP1502401_D14'</li><li>'HP1502401_F14'</li><li>'HP1502401_J13'</li><li>'HP1502401_B13'</li><li>'HP1502401_H13'</li></ol>\n"
      ],
      "text/latex": [
       "\\begin{enumerate*}\n",
       "\\item 'HP1502401\\_N13'\n",
       "\\item 'HP1502401\\_D14'\n",
       "\\item 'HP1502401\\_F14'\n",
       "\\item 'HP1502401\\_J13'\n",
       "\\item 'HP1502401\\_B13'\n",
       "\\item 'HP1502401\\_H13'\n",
       "\\end{enumerate*}\n"
      ],
      "text/markdown": [
       "1. 'HP1502401_N13'\n",
       "2. 'HP1502401_D14'\n",
       "3. 'HP1502401_F14'\n",
       "4. 'HP1502401_J13'\n",
       "5. 'HP1502401_B13'\n",
       "6. 'HP1502401_H13'\n",
       "\n",
       "\n"
      ],
      "text/plain": [
       "[1] \"HP1502401_N13\" \"HP1502401_D14\" \"HP1502401_F14\" \"HP1502401_J13\"\n",
       "[5] \"HP1502401_B13\" \"HP1502401_H13\""
      ]
     },
     "metadata": {},
     "output_type": "display_data"
    }
   ],
   "source": [
    "cell.barcodes <- scan(text = readLines(\"../data/E-MTAB-5061/pancreas_refseq_rpkms_counts_3514sc.txt\", 1), \n",
    "                      what = \"\", quiet = TRUE)[-1] # 3514 cell barcodes\n",
    "head(cell.barcodes)"
   ]
  },
  {
   "cell_type": "code",
   "execution_count": 2,
   "id": "a8849fc0-1105-4062-b560-5043ba1127a3",
   "metadata": {},
   "outputs": [
    {
     "data": {
      "text/html": [
       "<table class=\"dataframe\">\n",
       "<caption>A data.frame: 6 × 7030</caption>\n",
       "<thead>\n",
       "\t<tr><th></th><th scope=col>V1</th><th scope=col>V2</th><th scope=col>V3</th><th scope=col>V4</th><th scope=col>V5</th><th scope=col>V6</th><th scope=col>V7</th><th scope=col>V8</th><th scope=col>V9</th><th scope=col>V10</th><th scope=col>⋯</th><th scope=col>V7021</th><th scope=col>V7022</th><th scope=col>V7023</th><th scope=col>V7024</th><th scope=col>V7025</th><th scope=col>V7026</th><th scope=col>V7027</th><th scope=col>V7028</th><th scope=col>V7029</th><th scope=col>V7030</th></tr>\n",
       "\t<tr><th></th><th scope=col>&lt;chr&gt;</th><th scope=col>&lt;chr&gt;</th><th scope=col>&lt;dbl&gt;</th><th scope=col>&lt;dbl&gt;</th><th scope=col>&lt;dbl&gt;</th><th scope=col>&lt;dbl&gt;</th><th scope=col>&lt;dbl&gt;</th><th scope=col>&lt;dbl&gt;</th><th scope=col>&lt;dbl&gt;</th><th scope=col>&lt;dbl&gt;</th><th scope=col>⋯</th><th scope=col>&lt;int&gt;</th><th scope=col>&lt;int&gt;</th><th scope=col>&lt;int&gt;</th><th scope=col>&lt;int&gt;</th><th scope=col>&lt;int&gt;</th><th scope=col>&lt;int&gt;</th><th scope=col>&lt;int&gt;</th><th scope=col>&lt;int&gt;</th><th scope=col>&lt;int&gt;</th><th scope=col>&lt;int&gt;</th></tr>\n",
       "</thead>\n",
       "<tbody>\n",
       "\t<tr><th scope=row>1</th><td>SGIP1  </td><td>NM_032291                          </td><td>0</td><td>0</td><td>0</td><td>0</td><td>0</td><td>  0.00000</td><td>0</td><td> 0.00000</td><td>⋯</td><td>0</td><td> 0</td><td> 0</td><td> 7</td><td>0</td><td>4</td><td> 0</td><td>0</td><td>0</td><td>0</td></tr>\n",
       "\t<tr><th scope=row>2</th><td>AZIN2  </td><td>NM_052998+NM_001293562             </td><td>0</td><td>0</td><td>0</td><td>0</td><td>0</td><td> 41.51929</td><td>0</td><td> 0.00000</td><td>⋯</td><td>0</td><td> 0</td><td> 0</td><td>16</td><td>0</td><td>0</td><td> 0</td><td>0</td><td>0</td><td>4</td></tr>\n",
       "\t<tr><th scope=row>3</th><td>CLIC4  </td><td>NM_013943                          </td><td>0</td><td>0</td><td>0</td><td>0</td><td>0</td><td>  0.00000</td><td>0</td><td> 0.00000</td><td>⋯</td><td>2</td><td>20</td><td>64</td><td>18</td><td>0</td><td>0</td><td> 0</td><td>0</td><td>0</td><td>1</td></tr>\n",
       "\t<tr><th scope=row>4</th><td>AGBL4  </td><td>NM_032785                          </td><td>0</td><td>0</td><td>0</td><td>0</td><td>0</td><td>  0.00000</td><td>0</td><td> 0.00000</td><td>⋯</td><td>0</td><td> 0</td><td> 0</td><td> 0</td><td>0</td><td>0</td><td> 5</td><td>0</td><td>0</td><td>0</td></tr>\n",
       "\t<tr><th scope=row>5</th><td>NECAP2 </td><td>NM_001145277+NM_001145278+NM_018090</td><td>0</td><td>0</td><td>0</td><td>0</td><td>0</td><td> 13.99272</td><td>0</td><td>18.92435</td><td>⋯</td><td>0</td><td> 0</td><td> 0</td><td>14</td><td>0</td><td>1</td><td>47</td><td>7</td><td>0</td><td>6</td></tr>\n",
       "\t<tr><th scope=row>6</th><td>SLC45A1</td><td>NM_001080397                       </td><td>0</td><td>0</td><td>0</td><td>0</td><td>0</td><td>149.80023</td><td>0</td><td>78.07885</td><td>⋯</td><td>0</td><td> 0</td><td> 0</td><td> 0</td><td>0</td><td>0</td><td> 1</td><td>0</td><td>0</td><td>1</td></tr>\n",
       "</tbody>\n",
       "</table>\n"
      ],
      "text/latex": [
       "A data.frame: 6 × 7030\n",
       "\\begin{tabular}{r|lllllllllllllllllllll}\n",
       "  & V1 & V2 & V3 & V4 & V5 & V6 & V7 & V8 & V9 & V10 & ⋯ & V7021 & V7022 & V7023 & V7024 & V7025 & V7026 & V7027 & V7028 & V7029 & V7030\\\\\n",
       "  & <chr> & <chr> & <dbl> & <dbl> & <dbl> & <dbl> & <dbl> & <dbl> & <dbl> & <dbl> & ⋯ & <int> & <int> & <int> & <int> & <int> & <int> & <int> & <int> & <int> & <int>\\\\\n",
       "\\hline\n",
       "\t1 & SGIP1   & NM\\_032291                           & 0 & 0 & 0 & 0 & 0 &   0.00000 & 0 &  0.00000 & ⋯ & 0 &  0 &  0 &  7 & 0 & 4 &  0 & 0 & 0 & 0\\\\\n",
       "\t2 & AZIN2   & NM\\_052998+NM\\_001293562              & 0 & 0 & 0 & 0 & 0 &  41.51929 & 0 &  0.00000 & ⋯ & 0 &  0 &  0 & 16 & 0 & 0 &  0 & 0 & 0 & 4\\\\\n",
       "\t3 & CLIC4   & NM\\_013943                           & 0 & 0 & 0 & 0 & 0 &   0.00000 & 0 &  0.00000 & ⋯ & 2 & 20 & 64 & 18 & 0 & 0 &  0 & 0 & 0 & 1\\\\\n",
       "\t4 & AGBL4   & NM\\_032785                           & 0 & 0 & 0 & 0 & 0 &   0.00000 & 0 &  0.00000 & ⋯ & 0 &  0 &  0 &  0 & 0 & 0 &  5 & 0 & 0 & 0\\\\\n",
       "\t5 & NECAP2  & NM\\_001145277+NM\\_001145278+NM\\_018090 & 0 & 0 & 0 & 0 & 0 &  13.99272 & 0 & 18.92435 & ⋯ & 0 &  0 &  0 & 14 & 0 & 1 & 47 & 7 & 0 & 6\\\\\n",
       "\t6 & SLC45A1 & NM\\_001080397                        & 0 & 0 & 0 & 0 & 0 & 149.80023 & 0 & 78.07885 & ⋯ & 0 &  0 &  0 &  0 & 0 & 0 &  1 & 0 & 0 & 1\\\\\n",
       "\\end{tabular}\n"
      ],
      "text/markdown": [
       "\n",
       "A data.frame: 6 × 7030\n",
       "\n",
       "| <!--/--> | V1 &lt;chr&gt; | V2 &lt;chr&gt; | V3 &lt;dbl&gt; | V4 &lt;dbl&gt; | V5 &lt;dbl&gt; | V6 &lt;dbl&gt; | V7 &lt;dbl&gt; | V8 &lt;dbl&gt; | V9 &lt;dbl&gt; | V10 &lt;dbl&gt; | ⋯ ⋯ | V7021 &lt;int&gt; | V7022 &lt;int&gt; | V7023 &lt;int&gt; | V7024 &lt;int&gt; | V7025 &lt;int&gt; | V7026 &lt;int&gt; | V7027 &lt;int&gt; | V7028 &lt;int&gt; | V7029 &lt;int&gt; | V7030 &lt;int&gt; |\n",
       "|---|---|---|---|---|---|---|---|---|---|---|---|---|---|---|---|---|---|---|---|---|---|\n",
       "| 1 | SGIP1   | NM_032291                           | 0 | 0 | 0 | 0 | 0 |   0.00000 | 0 |  0.00000 | ⋯ | 0 |  0 |  0 |  7 | 0 | 4 |  0 | 0 | 0 | 0 |\n",
       "| 2 | AZIN2   | NM_052998+NM_001293562              | 0 | 0 | 0 | 0 | 0 |  41.51929 | 0 |  0.00000 | ⋯ | 0 |  0 |  0 | 16 | 0 | 0 |  0 | 0 | 0 | 4 |\n",
       "| 3 | CLIC4   | NM_013943                           | 0 | 0 | 0 | 0 | 0 |   0.00000 | 0 |  0.00000 | ⋯ | 2 | 20 | 64 | 18 | 0 | 0 |  0 | 0 | 0 | 1 |\n",
       "| 4 | AGBL4   | NM_032785                           | 0 | 0 | 0 | 0 | 0 |   0.00000 | 0 |  0.00000 | ⋯ | 0 |  0 |  0 |  0 | 0 | 0 |  5 | 0 | 0 | 0 |\n",
       "| 5 | NECAP2  | NM_001145277+NM_001145278+NM_018090 | 0 | 0 | 0 | 0 | 0 |  13.99272 | 0 | 18.92435 | ⋯ | 0 |  0 |  0 | 14 | 0 | 1 | 47 | 7 | 0 | 6 |\n",
       "| 6 | SLC45A1 | NM_001080397                        | 0 | 0 | 0 | 0 | 0 | 149.80023 | 0 | 78.07885 | ⋯ | 0 |  0 |  0 |  0 | 0 | 0 |  1 | 0 | 0 | 1 |\n",
       "\n"
      ],
      "text/plain": [
       "  V1      V2                                  V3 V4 V5 V6 V7 V8        V9\n",
       "1 SGIP1   NM_032291                           0  0  0  0  0    0.00000 0 \n",
       "2 AZIN2   NM_052998+NM_001293562              0  0  0  0  0   41.51929 0 \n",
       "3 CLIC4   NM_013943                           0  0  0  0  0    0.00000 0 \n",
       "4 AGBL4   NM_032785                           0  0  0  0  0    0.00000 0 \n",
       "5 NECAP2  NM_001145277+NM_001145278+NM_018090 0  0  0  0  0   13.99272 0 \n",
       "6 SLC45A1 NM_001080397                        0  0  0  0  0  149.80023 0 \n",
       "  V10      ⋯ V7021 V7022 V7023 V7024 V7025 V7026 V7027 V7028 V7029 V7030\n",
       "1  0.00000 ⋯ 0      0     0     7    0     4      0    0     0     0    \n",
       "2  0.00000 ⋯ 0      0     0    16    0     0      0    0     0     4    \n",
       "3  0.00000 ⋯ 2     20    64    18    0     0      0    0     0     1    \n",
       "4  0.00000 ⋯ 0      0     0     0    0     0      5    0     0     0    \n",
       "5 18.92435 ⋯ 0      0     0    14    0     1     47    7     0     6    \n",
       "6 78.07885 ⋯ 0      0     0     0    0     0      1    0     0     1    "
      ]
     },
     "metadata": {},
     "output_type": "display_data"
    }
   ],
   "source": [
    "count = read.table('../data/E-MTAB-5061/pancreas_refseq_rpkms_counts_3514sc.txt',sep='\\t')\n",
    "head(count)"
   ]
  },
  {
   "cell_type": "code",
   "execution_count": 3,
   "id": "1fcc9918-94dc-4db0-a544-2eb6ad0acd96",
   "metadata": {},
   "outputs": [
    {
     "data": {
      "text/html": [
       "<table class=\"dataframe\">\n",
       "<caption>A data.frame: 6 × 2</caption>\n",
       "<thead>\n",
       "\t<tr><th></th><th scope=col>V1</th><th scope=col>V2</th></tr>\n",
       "\t<tr><th></th><th scope=col>&lt;chr&gt;</th><th scope=col>&lt;chr&gt;</th></tr>\n",
       "</thead>\n",
       "<tbody>\n",
       "\t<tr><th scope=row>1</th><td>SGIP1  </td><td>NM_032291                          </td></tr>\n",
       "\t<tr><th scope=row>2</th><td>AZIN2  </td><td>NM_052998+NM_001293562             </td></tr>\n",
       "\t<tr><th scope=row>3</th><td>CLIC4  </td><td>NM_013943                          </td></tr>\n",
       "\t<tr><th scope=row>4</th><td>AGBL4  </td><td>NM_032785                          </td></tr>\n",
       "\t<tr><th scope=row>5</th><td>NECAP2 </td><td>NM_001145277+NM_001145278+NM_018090</td></tr>\n",
       "\t<tr><th scope=row>6</th><td>SLC45A1</td><td>NM_001080397                       </td></tr>\n",
       "</tbody>\n",
       "</table>\n"
      ],
      "text/latex": [
       "A data.frame: 6 × 2\n",
       "\\begin{tabular}{r|ll}\n",
       "  & V1 & V2\\\\\n",
       "  & <chr> & <chr>\\\\\n",
       "\\hline\n",
       "\t1 & SGIP1   & NM\\_032291                          \\\\\n",
       "\t2 & AZIN2   & NM\\_052998+NM\\_001293562             \\\\\n",
       "\t3 & CLIC4   & NM\\_013943                          \\\\\n",
       "\t4 & AGBL4   & NM\\_032785                          \\\\\n",
       "\t5 & NECAP2  & NM\\_001145277+NM\\_001145278+NM\\_018090\\\\\n",
       "\t6 & SLC45A1 & NM\\_001080397                       \\\\\n",
       "\\end{tabular}\n"
      ],
      "text/markdown": [
       "\n",
       "A data.frame: 6 × 2\n",
       "\n",
       "| <!--/--> | V1 &lt;chr&gt; | V2 &lt;chr&gt; |\n",
       "|---|---|---|\n",
       "| 1 | SGIP1   | NM_032291                           |\n",
       "| 2 | AZIN2   | NM_052998+NM_001293562              |\n",
       "| 3 | CLIC4   | NM_013943                           |\n",
       "| 4 | AGBL4   | NM_032785                           |\n",
       "| 5 | NECAP2  | NM_001145277+NM_001145278+NM_018090 |\n",
       "| 6 | SLC45A1 | NM_001080397                        |\n",
       "\n"
      ],
      "text/plain": [
       "  V1      V2                                 \n",
       "1 SGIP1   NM_032291                          \n",
       "2 AZIN2   NM_052998+NM_001293562             \n",
       "3 CLIC4   NM_013943                          \n",
       "4 AGBL4   NM_032785                          \n",
       "5 NECAP2  NM_001145277+NM_001145278+NM_018090\n",
       "6 SLC45A1 NM_001080397                       "
      ]
     },
     "metadata": {},
     "output_type": "display_data"
    }
   ],
   "source": [
    "gene.meta=count[,1:2] # First two columns are gene symbols and IDs\n",
    "head(gene.meta)"
   ]
  },
  {
   "cell_type": "markdown",
   "id": "a70d5296-c9a2-43b9-ba2d-07a343946863",
   "metadata": {},
   "source": [
    "Remove metadata from the `count`."
   ]
  },
  {
   "cell_type": "code",
   "execution_count": 4,
   "id": "2f4ee448-9b6c-46b5-86dd-0acb533a6721",
   "metadata": {},
   "outputs": [
    {
     "data": {
      "text/html": [
       "<table class=\"dataframe\">\n",
       "<caption>A data.frame: 6 × 7028</caption>\n",
       "<thead>\n",
       "\t<tr><th></th><th scope=col>V3</th><th scope=col>V4</th><th scope=col>V5</th><th scope=col>V6</th><th scope=col>V7</th><th scope=col>V8</th><th scope=col>V9</th><th scope=col>V10</th><th scope=col>V11</th><th scope=col>V12</th><th scope=col>⋯</th><th scope=col>V7021</th><th scope=col>V7022</th><th scope=col>V7023</th><th scope=col>V7024</th><th scope=col>V7025</th><th scope=col>V7026</th><th scope=col>V7027</th><th scope=col>V7028</th><th scope=col>V7029</th><th scope=col>V7030</th></tr>\n",
       "\t<tr><th></th><th scope=col>&lt;dbl&gt;</th><th scope=col>&lt;dbl&gt;</th><th scope=col>&lt;dbl&gt;</th><th scope=col>&lt;dbl&gt;</th><th scope=col>&lt;dbl&gt;</th><th scope=col>&lt;dbl&gt;</th><th scope=col>&lt;dbl&gt;</th><th scope=col>&lt;dbl&gt;</th><th scope=col>&lt;dbl&gt;</th><th scope=col>&lt;dbl&gt;</th><th scope=col>⋯</th><th scope=col>&lt;int&gt;</th><th scope=col>&lt;int&gt;</th><th scope=col>&lt;int&gt;</th><th scope=col>&lt;int&gt;</th><th scope=col>&lt;int&gt;</th><th scope=col>&lt;int&gt;</th><th scope=col>&lt;int&gt;</th><th scope=col>&lt;int&gt;</th><th scope=col>&lt;int&gt;</th><th scope=col>&lt;int&gt;</th></tr>\n",
       "</thead>\n",
       "<tbody>\n",
       "\t<tr><th scope=row>1</th><td>0</td><td>0</td><td>0</td><td>0</td><td>0</td><td>  0.00000</td><td>0</td><td> 0.00000</td><td> 0.000000</td><td>0.0000000</td><td>⋯</td><td>0</td><td> 0</td><td> 0</td><td> 7</td><td>0</td><td>4</td><td> 0</td><td>0</td><td>0</td><td>0</td></tr>\n",
       "\t<tr><th scope=row>2</th><td>0</td><td>0</td><td>0</td><td>0</td><td>0</td><td> 41.51929</td><td>0</td><td> 0.00000</td><td> 0.000000</td><td>0.0000000</td><td>⋯</td><td>0</td><td> 0</td><td> 0</td><td>16</td><td>0</td><td>0</td><td> 0</td><td>0</td><td>0</td><td>4</td></tr>\n",
       "\t<tr><th scope=row>3</th><td>0</td><td>0</td><td>0</td><td>0</td><td>0</td><td>  0.00000</td><td>0</td><td> 0.00000</td><td> 5.463685</td><td>0.2308227</td><td>⋯</td><td>2</td><td>20</td><td>64</td><td>18</td><td>0</td><td>0</td><td> 0</td><td>0</td><td>0</td><td>1</td></tr>\n",
       "\t<tr><th scope=row>4</th><td>0</td><td>0</td><td>0</td><td>0</td><td>0</td><td>  0.00000</td><td>0</td><td> 0.00000</td><td> 0.000000</td><td>0.0000000</td><td>⋯</td><td>0</td><td> 0</td><td> 0</td><td> 0</td><td>0</td><td>0</td><td> 5</td><td>0</td><td>0</td><td>0</td></tr>\n",
       "\t<tr><th scope=row>5</th><td>0</td><td>0</td><td>0</td><td>0</td><td>0</td><td> 13.99272</td><td>0</td><td>18.92435</td><td>44.923718</td><td>0.0000000</td><td>⋯</td><td>0</td><td> 0</td><td> 0</td><td>14</td><td>0</td><td>1</td><td>47</td><td>7</td><td>0</td><td>6</td></tr>\n",
       "\t<tr><th scope=row>6</th><td>0</td><td>0</td><td>0</td><td>0</td><td>0</td><td>149.80023</td><td>0</td><td>78.07885</td><td> 0.000000</td><td>0.0000000</td><td>⋯</td><td>0</td><td> 0</td><td> 0</td><td> 0</td><td>0</td><td>0</td><td> 1</td><td>0</td><td>0</td><td>1</td></tr>\n",
       "</tbody>\n",
       "</table>\n"
      ],
      "text/latex": [
       "A data.frame: 6 × 7028\n",
       "\\begin{tabular}{r|lllllllllllllllllllll}\n",
       "  & V3 & V4 & V5 & V6 & V7 & V8 & V9 & V10 & V11 & V12 & ⋯ & V7021 & V7022 & V7023 & V7024 & V7025 & V7026 & V7027 & V7028 & V7029 & V7030\\\\\n",
       "  & <dbl> & <dbl> & <dbl> & <dbl> & <dbl> & <dbl> & <dbl> & <dbl> & <dbl> & <dbl> & ⋯ & <int> & <int> & <int> & <int> & <int> & <int> & <int> & <int> & <int> & <int>\\\\\n",
       "\\hline\n",
       "\t1 & 0 & 0 & 0 & 0 & 0 &   0.00000 & 0 &  0.00000 &  0.000000 & 0.0000000 & ⋯ & 0 &  0 &  0 &  7 & 0 & 4 &  0 & 0 & 0 & 0\\\\\n",
       "\t2 & 0 & 0 & 0 & 0 & 0 &  41.51929 & 0 &  0.00000 &  0.000000 & 0.0000000 & ⋯ & 0 &  0 &  0 & 16 & 0 & 0 &  0 & 0 & 0 & 4\\\\\n",
       "\t3 & 0 & 0 & 0 & 0 & 0 &   0.00000 & 0 &  0.00000 &  5.463685 & 0.2308227 & ⋯ & 2 & 20 & 64 & 18 & 0 & 0 &  0 & 0 & 0 & 1\\\\\n",
       "\t4 & 0 & 0 & 0 & 0 & 0 &   0.00000 & 0 &  0.00000 &  0.000000 & 0.0000000 & ⋯ & 0 &  0 &  0 &  0 & 0 & 0 &  5 & 0 & 0 & 0\\\\\n",
       "\t5 & 0 & 0 & 0 & 0 & 0 &  13.99272 & 0 & 18.92435 & 44.923718 & 0.0000000 & ⋯ & 0 &  0 &  0 & 14 & 0 & 1 & 47 & 7 & 0 & 6\\\\\n",
       "\t6 & 0 & 0 & 0 & 0 & 0 & 149.80023 & 0 & 78.07885 &  0.000000 & 0.0000000 & ⋯ & 0 &  0 &  0 &  0 & 0 & 0 &  1 & 0 & 0 & 1\\\\\n",
       "\\end{tabular}\n"
      ],
      "text/markdown": [
       "\n",
       "A data.frame: 6 × 7028\n",
       "\n",
       "| <!--/--> | V3 &lt;dbl&gt; | V4 &lt;dbl&gt; | V5 &lt;dbl&gt; | V6 &lt;dbl&gt; | V7 &lt;dbl&gt; | V8 &lt;dbl&gt; | V9 &lt;dbl&gt; | V10 &lt;dbl&gt; | V11 &lt;dbl&gt; | V12 &lt;dbl&gt; | ⋯ ⋯ | V7021 &lt;int&gt; | V7022 &lt;int&gt; | V7023 &lt;int&gt; | V7024 &lt;int&gt; | V7025 &lt;int&gt; | V7026 &lt;int&gt; | V7027 &lt;int&gt; | V7028 &lt;int&gt; | V7029 &lt;int&gt; | V7030 &lt;int&gt; |\n",
       "|---|---|---|---|---|---|---|---|---|---|---|---|---|---|---|---|---|---|---|---|---|---|\n",
       "| 1 | 0 | 0 | 0 | 0 | 0 |   0.00000 | 0 |  0.00000 |  0.000000 | 0.0000000 | ⋯ | 0 |  0 |  0 |  7 | 0 | 4 |  0 | 0 | 0 | 0 |\n",
       "| 2 | 0 | 0 | 0 | 0 | 0 |  41.51929 | 0 |  0.00000 |  0.000000 | 0.0000000 | ⋯ | 0 |  0 |  0 | 16 | 0 | 0 |  0 | 0 | 0 | 4 |\n",
       "| 3 | 0 | 0 | 0 | 0 | 0 |   0.00000 | 0 |  0.00000 |  5.463685 | 0.2308227 | ⋯ | 2 | 20 | 64 | 18 | 0 | 0 |  0 | 0 | 0 | 1 |\n",
       "| 4 | 0 | 0 | 0 | 0 | 0 |   0.00000 | 0 |  0.00000 |  0.000000 | 0.0000000 | ⋯ | 0 |  0 |  0 |  0 | 0 | 0 |  5 | 0 | 0 | 0 |\n",
       "| 5 | 0 | 0 | 0 | 0 | 0 |  13.99272 | 0 | 18.92435 | 44.923718 | 0.0000000 | ⋯ | 0 |  0 |  0 | 14 | 0 | 1 | 47 | 7 | 0 | 6 |\n",
       "| 6 | 0 | 0 | 0 | 0 | 0 | 149.80023 | 0 | 78.07885 |  0.000000 | 0.0000000 | ⋯ | 0 |  0 |  0 |  0 | 0 | 0 |  1 | 0 | 0 | 1 |\n",
       "\n"
      ],
      "text/plain": [
       "  V3 V4 V5 V6 V7 V8        V9 V10      V11       V12       ⋯ V7021 V7022 V7023\n",
       "1 0  0  0  0  0    0.00000 0   0.00000  0.000000 0.0000000 ⋯ 0      0     0   \n",
       "2 0  0  0  0  0   41.51929 0   0.00000  0.000000 0.0000000 ⋯ 0      0     0   \n",
       "3 0  0  0  0  0    0.00000 0   0.00000  5.463685 0.2308227 ⋯ 2     20    64   \n",
       "4 0  0  0  0  0    0.00000 0   0.00000  0.000000 0.0000000 ⋯ 0      0     0   \n",
       "5 0  0  0  0  0   13.99272 0  18.92435 44.923718 0.0000000 ⋯ 0      0     0   \n",
       "6 0  0  0  0  0  149.80023 0  78.07885  0.000000 0.0000000 ⋯ 0      0     0   \n",
       "  V7024 V7025 V7026 V7027 V7028 V7029 V7030\n",
       "1  7    0     4      0    0     0     0    \n",
       "2 16    0     0      0    0     0     4    \n",
       "3 18    0     0      0    0     0     1    \n",
       "4  0    0     0      5    0     0     0    \n",
       "5 14    0     1     47    7     0     6    \n",
       "6  0    0     0      1    0     0     1    "
      ]
     },
     "metadata": {},
     "output_type": "display_data"
    }
   ],
   "source": [
    "count=count[,-(1:2)]\n",
    "head(count)"
   ]
  },
  {
   "cell_type": "markdown",
   "id": "c83b3c54-0e09-4146-9fdc-1be8186db24f",
   "metadata": {},
   "source": [
    "We only care about read counts, not rpkm values."
   ]
  },
  {
   "cell_type": "code",
   "execution_count": 5,
   "id": "f7464602-17fb-4f05-a5ea-b82fca4faab3",
   "metadata": {},
   "outputs": [
    {
     "data": {
      "text/html": [
       "<style>\n",
       ".list-inline {list-style: none; margin:0; padding: 0}\n",
       ".list-inline>li {display: inline-block}\n",
       ".list-inline>li:not(:last-child)::after {content: \"\\00b7\"; padding: 0 .5ex}\n",
       "</style>\n",
       "<ol class=list-inline><li>0</li><li>0</li><li>0</li></ol>\n"
      ],
      "text/latex": [
       "\\begin{enumerate*}\n",
       "\\item 0\n",
       "\\item 0\n",
       "\\item 0\n",
       "\\end{enumerate*}\n"
      ],
      "text/markdown": [
       "1. 0\n",
       "2. 0\n",
       "3. 0\n",
       "\n",
       "\n"
      ],
      "text/plain": [
       "[1] 0 0 0"
      ]
     },
     "metadata": {},
     "output_type": "display_data"
    }
   ],
   "source": [
    "count=as.matrix(count[,3515:7028]) # Columns 3515:7028 correspond to read counts.\n",
    "head(count, 3)"
   ]
  },
  {
   "cell_type": "markdown",
   "id": "375390b9-35ef-4c27-9330-74682cec6e99",
   "metadata": {},
   "source": [
    "## Labeling rows and columns "
   ]
  },
  {
   "cell_type": "markdown",
   "id": "3f854938-d08b-463f-8f95-f6e4dc52e149",
   "metadata": {},
   "source": [
    "We add column names and row names with genes and samples."
   ]
  },
  {
   "cell_type": "code",
   "execution_count": 6,
   "id": "dbfa1ebb-9a71-45b7-b7f8-6f431c911b21",
   "metadata": {},
   "outputs": [
    {
     "data": {
      "text/html": [
       "<table class=\"dataframe\">\n",
       "<caption>A matrix: 6 × 3514 of type int</caption>\n",
       "<thead>\n",
       "\t<tr><th></th><th scope=col>HP1502401_N13</th><th scope=col>HP1502401_D14</th><th scope=col>HP1502401_F14</th><th scope=col>HP1502401_J13</th><th scope=col>HP1502401_B13</th><th scope=col>HP1502401_H13</th><th scope=col>HP1502401_J14</th><th scope=col>HP1502401_B14</th><th scope=col>HP1502401_A14</th><th scope=col>HP1502401_C14</th><th scope=col>⋯</th><th scope=col>HP1525301T2D_O10</th><th scope=col>HP1526901T2D_H2</th><th scope=col>HP1526901T2D_I16</th><th scope=col>HP1526901T2D_F7</th><th scope=col>HP1526901T2D_I23</th><th scope=col>HP1525301T2D_K3</th><th scope=col>HP1525301T2D_J10</th><th scope=col>HP1526901T2D_N8</th><th scope=col>HP1526901T2D_O11</th><th scope=col>HP1526901T2D_A8</th></tr>\n",
       "</thead>\n",
       "<tbody>\n",
       "\t<tr><th scope=row>SGIP1</th><td>0</td><td>0</td><td>0</td><td>0</td><td>0</td><td> 0</td><td>0</td><td> 0</td><td> 0</td><td>0</td><td>⋯</td><td>0</td><td> 0</td><td> 0</td><td> 7</td><td>0</td><td>4</td><td> 0</td><td>0</td><td>0</td><td>0</td></tr>\n",
       "\t<tr><th scope=row>AZIN2</th><td>0</td><td>0</td><td>0</td><td>0</td><td>0</td><td> 3</td><td>0</td><td> 0</td><td> 0</td><td>0</td><td>⋯</td><td>0</td><td> 0</td><td> 0</td><td>16</td><td>0</td><td>0</td><td> 0</td><td>0</td><td>0</td><td>4</td></tr>\n",
       "\t<tr><th scope=row>CLIC4</th><td>0</td><td>0</td><td>0</td><td>0</td><td>0</td><td> 0</td><td>0</td><td> 0</td><td>14</td><td>1</td><td>⋯</td><td>2</td><td>20</td><td>64</td><td>18</td><td>0</td><td>0</td><td> 0</td><td>0</td><td>0</td><td>1</td></tr>\n",
       "\t<tr><th scope=row>AGBL4</th><td>0</td><td>0</td><td>0</td><td>0</td><td>0</td><td> 0</td><td>0</td><td> 0</td><td> 0</td><td>0</td><td>⋯</td><td>0</td><td> 0</td><td> 0</td><td> 0</td><td>0</td><td>0</td><td> 5</td><td>0</td><td>0</td><td>0</td></tr>\n",
       "\t<tr><th scope=row>NECAP2</th><td>0</td><td>0</td><td>0</td><td>0</td><td>0</td><td> 1</td><td>0</td><td>10</td><td>53</td><td>0</td><td>⋯</td><td>0</td><td> 0</td><td> 0</td><td>14</td><td>0</td><td>1</td><td>47</td><td>7</td><td>0</td><td>6</td></tr>\n",
       "\t<tr><th scope=row>SLC45A1</th><td>0</td><td>0</td><td>0</td><td>0</td><td>0</td><td>13</td><td>0</td><td>52</td><td> 0</td><td>0</td><td>⋯</td><td>0</td><td> 0</td><td> 0</td><td> 0</td><td>0</td><td>0</td><td> 1</td><td>0</td><td>0</td><td>1</td></tr>\n",
       "</tbody>\n",
       "</table>\n"
      ],
      "text/latex": [
       "A matrix: 6 × 3514 of type int\n",
       "\\begin{tabular}{r|lllllllllllllllllllll}\n",
       "  & HP1502401\\_N13 & HP1502401\\_D14 & HP1502401\\_F14 & HP1502401\\_J13 & HP1502401\\_B13 & HP1502401\\_H13 & HP1502401\\_J14 & HP1502401\\_B14 & HP1502401\\_A14 & HP1502401\\_C14 & ⋯ & HP1525301T2D\\_O10 & HP1526901T2D\\_H2 & HP1526901T2D\\_I16 & HP1526901T2D\\_F7 & HP1526901T2D\\_I23 & HP1525301T2D\\_K3 & HP1525301T2D\\_J10 & HP1526901T2D\\_N8 & HP1526901T2D\\_O11 & HP1526901T2D\\_A8\\\\\n",
       "\\hline\n",
       "\tSGIP1 & 0 & 0 & 0 & 0 & 0 &  0 & 0 &  0 &  0 & 0 & ⋯ & 0 &  0 &  0 &  7 & 0 & 4 &  0 & 0 & 0 & 0\\\\\n",
       "\tAZIN2 & 0 & 0 & 0 & 0 & 0 &  3 & 0 &  0 &  0 & 0 & ⋯ & 0 &  0 &  0 & 16 & 0 & 0 &  0 & 0 & 0 & 4\\\\\n",
       "\tCLIC4 & 0 & 0 & 0 & 0 & 0 &  0 & 0 &  0 & 14 & 1 & ⋯ & 2 & 20 & 64 & 18 & 0 & 0 &  0 & 0 & 0 & 1\\\\\n",
       "\tAGBL4 & 0 & 0 & 0 & 0 & 0 &  0 & 0 &  0 &  0 & 0 & ⋯ & 0 &  0 &  0 &  0 & 0 & 0 &  5 & 0 & 0 & 0\\\\\n",
       "\tNECAP2 & 0 & 0 & 0 & 0 & 0 &  1 & 0 & 10 & 53 & 0 & ⋯ & 0 &  0 &  0 & 14 & 0 & 1 & 47 & 7 & 0 & 6\\\\\n",
       "\tSLC45A1 & 0 & 0 & 0 & 0 & 0 & 13 & 0 & 52 &  0 & 0 & ⋯ & 0 &  0 &  0 &  0 & 0 & 0 &  1 & 0 & 0 & 1\\\\\n",
       "\\end{tabular}\n"
      ],
      "text/markdown": [
       "\n",
       "A matrix: 6 × 3514 of type int\n",
       "\n",
       "| <!--/--> | HP1502401_N13 | HP1502401_D14 | HP1502401_F14 | HP1502401_J13 | HP1502401_B13 | HP1502401_H13 | HP1502401_J14 | HP1502401_B14 | HP1502401_A14 | HP1502401_C14 | ⋯ | HP1525301T2D_O10 | HP1526901T2D_H2 | HP1526901T2D_I16 | HP1526901T2D_F7 | HP1526901T2D_I23 | HP1525301T2D_K3 | HP1525301T2D_J10 | HP1526901T2D_N8 | HP1526901T2D_O11 | HP1526901T2D_A8 |\n",
       "|---|---|---|---|---|---|---|---|---|---|---|---|---|---|---|---|---|---|---|---|---|---|\n",
       "| SGIP1 | 0 | 0 | 0 | 0 | 0 |  0 | 0 |  0 |  0 | 0 | ⋯ | 0 |  0 |  0 |  7 | 0 | 4 |  0 | 0 | 0 | 0 |\n",
       "| AZIN2 | 0 | 0 | 0 | 0 | 0 |  3 | 0 |  0 |  0 | 0 | ⋯ | 0 |  0 |  0 | 16 | 0 | 0 |  0 | 0 | 0 | 4 |\n",
       "| CLIC4 | 0 | 0 | 0 | 0 | 0 |  0 | 0 |  0 | 14 | 1 | ⋯ | 2 | 20 | 64 | 18 | 0 | 0 |  0 | 0 | 0 | 1 |\n",
       "| AGBL4 | 0 | 0 | 0 | 0 | 0 |  0 | 0 |  0 |  0 | 0 | ⋯ | 0 |  0 |  0 |  0 | 0 | 0 |  5 | 0 | 0 | 0 |\n",
       "| NECAP2 | 0 | 0 | 0 | 0 | 0 |  1 | 0 | 10 | 53 | 0 | ⋯ | 0 |  0 |  0 | 14 | 0 | 1 | 47 | 7 | 0 | 6 |\n",
       "| SLC45A1 | 0 | 0 | 0 | 0 | 0 | 13 | 0 | 52 |  0 | 0 | ⋯ | 0 |  0 |  0 |  0 | 0 | 0 |  1 | 0 | 0 | 1 |\n",
       "\n"
      ],
      "text/plain": [
       "        HP1502401_N13 HP1502401_D14 HP1502401_F14 HP1502401_J13 HP1502401_B13\n",
       "SGIP1   0             0             0             0             0            \n",
       "AZIN2   0             0             0             0             0            \n",
       "CLIC4   0             0             0             0             0            \n",
       "AGBL4   0             0             0             0             0            \n",
       "NECAP2  0             0             0             0             0            \n",
       "SLC45A1 0             0             0             0             0            \n",
       "        HP1502401_H13 HP1502401_J14 HP1502401_B14 HP1502401_A14 HP1502401_C14 ⋯\n",
       "SGIP1    0            0              0             0            0             ⋯\n",
       "AZIN2    3            0              0             0            0             ⋯\n",
       "CLIC4    0            0              0            14            1             ⋯\n",
       "AGBL4    0            0              0             0            0             ⋯\n",
       "NECAP2   1            0             10            53            0             ⋯\n",
       "SLC45A1 13            0             52             0            0             ⋯\n",
       "        HP1525301T2D_O10 HP1526901T2D_H2 HP1526901T2D_I16 HP1526901T2D_F7\n",
       "SGIP1   0                 0               0                7             \n",
       "AZIN2   0                 0               0               16             \n",
       "CLIC4   2                20              64               18             \n",
       "AGBL4   0                 0               0                0             \n",
       "NECAP2  0                 0               0               14             \n",
       "SLC45A1 0                 0               0                0             \n",
       "        HP1526901T2D_I23 HP1525301T2D_K3 HP1525301T2D_J10 HP1526901T2D_N8\n",
       "SGIP1   0                4                0               0              \n",
       "AZIN2   0                0                0               0              \n",
       "CLIC4   0                0                0               0              \n",
       "AGBL4   0                0                5               0              \n",
       "NECAP2  0                1               47               7              \n",
       "SLC45A1 0                0                1               0              \n",
       "        HP1526901T2D_O11 HP1526901T2D_A8\n",
       "SGIP1   0                0              \n",
       "AZIN2   0                4              \n",
       "CLIC4   0                1              \n",
       "AGBL4   0                0              \n",
       "NECAP2  0                6              \n",
       "SLC45A1 0                1              "
      ]
     },
     "metadata": {},
     "output_type": "display_data"
    }
   ],
   "source": [
    "rownames(count)=gene.meta[,1]\n",
    "colnames(count)=cell.barcodes\n",
    "head(count)"
   ]
  },
  {
   "cell_type": "code",
   "execution_count": 7,
   "id": "5c31dcb1-5fd4-4dc2-908e-b8f05c60b11c",
   "metadata": {},
   "outputs": [],
   "source": [
    "rm(gene.meta, cell.barcodes)"
   ]
  },
  {
   "cell_type": "code",
   "execution_count": 27,
   "id": "3da5274f-7413-40eb-9b4e-7f0a61c0b00a",
   "metadata": {},
   "outputs": [
    {
     "data": {
      "text/html": [
       "<style>\n",
       ".list-inline {list-style: none; margin:0; padding: 0}\n",
       ".list-inline>li {display: inline-block}\n",
       ".list-inline>li:not(:last-child)::after {content: \"\\00b7\"; padding: 0 .5ex}\n",
       "</style>\n",
       "<ol class=list-inline><li>3514</li><li>26271</li></ol>\n"
      ],
      "text/latex": [
       "\\begin{enumerate*}\n",
       "\\item 3514\n",
       "\\item 26271\n",
       "\\end{enumerate*}\n"
      ],
      "text/markdown": [
       "1. 3514\n",
       "2. 26271\n",
       "\n",
       "\n"
      ],
      "text/plain": [
       "[1]  3514 26271"
      ]
     },
     "metadata": {},
     "output_type": "display_data"
    }
   ],
   "source": [
    "dim(t(count))"
   ]
  },
  {
   "cell_type": "code",
   "execution_count": 26,
   "id": "1fcdca77-5cd4-46be-9ee3-b633db63e614",
   "metadata": {},
   "outputs": [
    {
     "data": {
      "text/html": [
       "<style>\n",
       ".list-inline {list-style: none; margin:0; padding: 0}\n",
       ".list-inline>li {display: inline-block}\n",
       ".list-inline>li:not(:last-child)::after {content: \"\\00b7\"; padding: 0 .5ex}\n",
       "</style>\n",
       "<ol class=list-inline><li>3514</li><li>5</li></ol>\n"
      ],
      "text/latex": [
       "\\begin{enumerate*}\n",
       "\\item 3514\n",
       "\\item 5\n",
       "\\end{enumerate*}\n"
      ],
      "text/markdown": [
       "1. 3514\n",
       "2. 5\n",
       "\n",
       "\n"
      ],
      "text/plain": [
       "[1] 3514    5"
      ]
     },
     "metadata": {},
     "output_type": "display_data"
    }
   ],
   "source": [
    "dim(cell.meta)"
   ]
  },
  {
   "cell_type": "markdown",
   "id": "e89a3215-ec94-4ff6-ac66-20b93707c271",
   "metadata": {},
   "source": [
    "## Ordering cells to match `cell.meta`"
   ]
  },
  {
   "cell_type": "code",
   "execution_count": 8,
   "id": "6aa10a44-d9bc-4a69-8c27-1ff72ba29865",
   "metadata": {},
   "outputs": [
    {
     "data": {
      "text/html": [
       "<table class=\"dataframe\">\n",
       "<caption>A data.frame: 6 × 49</caption>\n",
       "<thead>\n",
       "\t<tr><th></th><th scope=col>Source.Name</th><th scope=col>Characteristics..organism.</th><th scope=col>Characteristics..individual.</th><th scope=col>Characteristics..sex.</th><th scope=col>Characteristics..age.</th><th scope=col>Unit..time.unit.</th><th scope=col>Characteristics..body.mass.index.</th><th scope=col>Characteristics..organism.status.</th><th scope=col>Characteristics..clinical.information.</th><th scope=col>Characteristics..organism.part.</th><th scope=col>⋯</th><th scope=col>Comment.ENA_EXPERIMENT.</th><th scope=col>Scan.Name</th><th scope=col>Comment.SUBMITTED_FILE_NAME.</th><th scope=col>Comment.ENA_RUN.</th><th scope=col>Comment.FASTQ_URI.</th><th scope=col>Protocol.REF.3</th><th scope=col>Derived.Array.Data.File</th><th scope=col>Comment..Derived.ArrayExpress.FTP.file.</th><th scope=col>FactorValue..single.cell.identifier.</th><th scope=col>Factor.Value..disease.</th></tr>\n",
       "\t<tr><th></th><th scope=col>&lt;chr&gt;</th><th scope=col>&lt;chr&gt;</th><th scope=col>&lt;chr&gt;</th><th scope=col>&lt;chr&gt;</th><th scope=col>&lt;int&gt;</th><th scope=col>&lt;chr&gt;</th><th scope=col>&lt;dbl&gt;</th><th scope=col>&lt;chr&gt;</th><th scope=col>&lt;chr&gt;</th><th scope=col>&lt;chr&gt;</th><th scope=col>⋯</th><th scope=col>&lt;chr&gt;</th><th scope=col>&lt;chr&gt;</th><th scope=col>&lt;chr&gt;</th><th scope=col>&lt;chr&gt;</th><th scope=col>&lt;chr&gt;</th><th scope=col>&lt;chr&gt;</th><th scope=col>&lt;chr&gt;</th><th scope=col>&lt;chr&gt;</th><th scope=col>&lt;chr&gt;</th><th scope=col>&lt;chr&gt;</th></tr>\n",
       "</thead>\n",
       "<tbody>\n",
       "\t<tr><th scope=row>1</th><td>AZ_A1 </td><td>Homo sapiens</td><td>H1</td><td>male</td><td>43</td><td>year</td><td>30.8</td><td>post-mortem</td><td>HbA1c 5.0%</td><td>pancreas</td><td>⋯</td><td>ERX1700346</td><td>AZ_A1.fastq.gz </td><td>AZ_A1.fastq.gz </td><td>ERR1630013</td><td>ftp://ftp.sra.ebi.ac.uk/vol1/fastq/ERR163/003/ERR1630013/ERR1630013.fastq.gz</td><td>P-MTAB-51966</td><td>pancreas_refseq_rpkms_counts_3514sc.txt</td><td>ftp://ftp.ebi.ac.uk/pub/databases/microarray/data/experiment/MTAB/E-MTAB-5061/E-MTAB-5061.processed.1.zip</td><td>AZ_A1 </td><td>normal</td></tr>\n",
       "\t<tr><th scope=row>2</th><td>AZ_A3 </td><td>Homo sapiens</td><td>H1</td><td>male</td><td>43</td><td>year</td><td>30.8</td><td>post-mortem</td><td>HbA1c 5.0%</td><td>pancreas</td><td>⋯</td><td>ERX1700351</td><td>AZ_A3.fastq.gz </td><td>AZ_A3.fastq.gz </td><td>ERR1630018</td><td>ftp://ftp.sra.ebi.ac.uk/vol1/fastq/ERR163/008/ERR1630018/ERR1630018.fastq.gz</td><td>P-MTAB-51966</td><td>pancreas_refseq_rpkms_counts_3514sc.txt</td><td>ftp://ftp.ebi.ac.uk/pub/databases/microarray/data/experiment/MTAB/E-MTAB-5061/E-MTAB-5061.processed.1.zip</td><td>AZ_A3 </td><td>normal</td></tr>\n",
       "\t<tr><th scope=row>3</th><td>AZ_A4 </td><td>Homo sapiens</td><td>H1</td><td>male</td><td>43</td><td>year</td><td>30.8</td><td>post-mortem</td><td>HbA1c 5.0%</td><td>pancreas</td><td>⋯</td><td>ERX1700352</td><td>AZ_A4.fastq.gz </td><td>AZ_A4.fastq.gz </td><td>ERR1630019</td><td>ftp://ftp.sra.ebi.ac.uk/vol1/fastq/ERR163/009/ERR1630019/ERR1630019.fastq.gz</td><td>P-MTAB-51966</td><td>pancreas_refseq_rpkms_counts_3514sc.txt</td><td>ftp://ftp.ebi.ac.uk/pub/databases/microarray/data/experiment/MTAB/E-MTAB-5061/E-MTAB-5061.processed.1.zip</td><td>AZ_A4 </td><td>normal</td></tr>\n",
       "\t<tr><th scope=row>4</th><td>AZ_B6 </td><td>Homo sapiens</td><td>H1</td><td>male</td><td>43</td><td>year</td><td>30.8</td><td>post-mortem</td><td>HbA1c 5.0%</td><td>pancreas</td><td>⋯</td><td>ERX1700366</td><td>AZ_B6.fastq.gz </td><td>AZ_B6.fastq.gz </td><td>ERR1630033</td><td>ftp://ftp.sra.ebi.ac.uk/vol1/fastq/ERR163/003/ERR1630033/ERR1630033.fastq.gz</td><td>P-MTAB-51966</td><td>pancreas_refseq_rpkms_counts_3514sc.txt</td><td>ftp://ftp.ebi.ac.uk/pub/databases/microarray/data/experiment/MTAB/E-MTAB-5061/E-MTAB-5061.processed.1.zip</td><td>AZ_B6 </td><td>normal</td></tr>\n",
       "\t<tr><th scope=row>5</th><td>AZ_B7 </td><td>Homo sapiens</td><td>H1</td><td>male</td><td>43</td><td>year</td><td>30.8</td><td>post-mortem</td><td>HbA1c 5.0%</td><td>pancreas</td><td>⋯</td><td>ERX1700367</td><td>AZ_B7.fastq.gz </td><td>AZ_B7.fastq.gz </td><td>ERR1630034</td><td>ftp://ftp.sra.ebi.ac.uk/vol1/fastq/ERR163/004/ERR1630034/ERR1630034.fastq.gz</td><td>P-MTAB-51966</td><td>pancreas_refseq_rpkms_counts_3514sc.txt</td><td>ftp://ftp.ebi.ac.uk/pub/databases/microarray/data/experiment/MTAB/E-MTAB-5061/E-MTAB-5061.processed.1.zip</td><td>AZ_B7 </td><td>normal</td></tr>\n",
       "\t<tr><th scope=row>6</th><td>AZ_C12</td><td>Homo sapiens</td><td>H1</td><td>male</td><td>43</td><td>year</td><td>30.8</td><td>post-mortem</td><td>HbA1c 5.0%</td><td>pancreas</td><td>⋯</td><td>ERX1700373</td><td>AZ_C12.fastq.gz</td><td>AZ_C12.fastq.gz</td><td>ERR1630040</td><td>ftp://ftp.sra.ebi.ac.uk/vol1/fastq/ERR163/000/ERR1630040/ERR1630040.fastq.gz</td><td>P-MTAB-51966</td><td>pancreas_refseq_rpkms_counts_3514sc.txt</td><td>ftp://ftp.ebi.ac.uk/pub/databases/microarray/data/experiment/MTAB/E-MTAB-5061/E-MTAB-5061.processed.1.zip</td><td>AZ_C12</td><td>normal</td></tr>\n",
       "</tbody>\n",
       "</table>\n"
      ],
      "text/latex": [
       "A data.frame: 6 × 49\n",
       "\\begin{tabular}{r|lllllllllllllllllllll}\n",
       "  & Source.Name & Characteristics..organism. & Characteristics..individual. & Characteristics..sex. & Characteristics..age. & Unit..time.unit. & Characteristics..body.mass.index. & Characteristics..organism.status. & Characteristics..clinical.information. & Characteristics..organism.part. & ⋯ & Comment.ENA\\_EXPERIMENT. & Scan.Name & Comment.SUBMITTED\\_FILE\\_NAME. & Comment.ENA\\_RUN. & Comment.FASTQ\\_URI. & Protocol.REF.3 & Derived.Array.Data.File & Comment..Derived.ArrayExpress.FTP.file. & FactorValue..single.cell.identifier. & Factor.Value..disease.\\\\\n",
       "  & <chr> & <chr> & <chr> & <chr> & <int> & <chr> & <dbl> & <chr> & <chr> & <chr> & ⋯ & <chr> & <chr> & <chr> & <chr> & <chr> & <chr> & <chr> & <chr> & <chr> & <chr>\\\\\n",
       "\\hline\n",
       "\t1 & AZ\\_A1  & Homo sapiens & H1 & male & 43 & year & 30.8 & post-mortem & HbA1c 5.0\\% & pancreas & ⋯ & ERX1700346 & AZ\\_A1.fastq.gz  & AZ\\_A1.fastq.gz  & ERR1630013 & ftp://ftp.sra.ebi.ac.uk/vol1/fastq/ERR163/003/ERR1630013/ERR1630013.fastq.gz & P-MTAB-51966 & pancreas\\_refseq\\_rpkms\\_counts\\_3514sc.txt & ftp://ftp.ebi.ac.uk/pub/databases/microarray/data/experiment/MTAB/E-MTAB-5061/E-MTAB-5061.processed.1.zip & AZ\\_A1  & normal\\\\\n",
       "\t2 & AZ\\_A3  & Homo sapiens & H1 & male & 43 & year & 30.8 & post-mortem & HbA1c 5.0\\% & pancreas & ⋯ & ERX1700351 & AZ\\_A3.fastq.gz  & AZ\\_A3.fastq.gz  & ERR1630018 & ftp://ftp.sra.ebi.ac.uk/vol1/fastq/ERR163/008/ERR1630018/ERR1630018.fastq.gz & P-MTAB-51966 & pancreas\\_refseq\\_rpkms\\_counts\\_3514sc.txt & ftp://ftp.ebi.ac.uk/pub/databases/microarray/data/experiment/MTAB/E-MTAB-5061/E-MTAB-5061.processed.1.zip & AZ\\_A3  & normal\\\\\n",
       "\t3 & AZ\\_A4  & Homo sapiens & H1 & male & 43 & year & 30.8 & post-mortem & HbA1c 5.0\\% & pancreas & ⋯ & ERX1700352 & AZ\\_A4.fastq.gz  & AZ\\_A4.fastq.gz  & ERR1630019 & ftp://ftp.sra.ebi.ac.uk/vol1/fastq/ERR163/009/ERR1630019/ERR1630019.fastq.gz & P-MTAB-51966 & pancreas\\_refseq\\_rpkms\\_counts\\_3514sc.txt & ftp://ftp.ebi.ac.uk/pub/databases/microarray/data/experiment/MTAB/E-MTAB-5061/E-MTAB-5061.processed.1.zip & AZ\\_A4  & normal\\\\\n",
       "\t4 & AZ\\_B6  & Homo sapiens & H1 & male & 43 & year & 30.8 & post-mortem & HbA1c 5.0\\% & pancreas & ⋯ & ERX1700366 & AZ\\_B6.fastq.gz  & AZ\\_B6.fastq.gz  & ERR1630033 & ftp://ftp.sra.ebi.ac.uk/vol1/fastq/ERR163/003/ERR1630033/ERR1630033.fastq.gz & P-MTAB-51966 & pancreas\\_refseq\\_rpkms\\_counts\\_3514sc.txt & ftp://ftp.ebi.ac.uk/pub/databases/microarray/data/experiment/MTAB/E-MTAB-5061/E-MTAB-5061.processed.1.zip & AZ\\_B6  & normal\\\\\n",
       "\t5 & AZ\\_B7  & Homo sapiens & H1 & male & 43 & year & 30.8 & post-mortem & HbA1c 5.0\\% & pancreas & ⋯ & ERX1700367 & AZ\\_B7.fastq.gz  & AZ\\_B7.fastq.gz  & ERR1630034 & ftp://ftp.sra.ebi.ac.uk/vol1/fastq/ERR163/004/ERR1630034/ERR1630034.fastq.gz & P-MTAB-51966 & pancreas\\_refseq\\_rpkms\\_counts\\_3514sc.txt & ftp://ftp.ebi.ac.uk/pub/databases/microarray/data/experiment/MTAB/E-MTAB-5061/E-MTAB-5061.processed.1.zip & AZ\\_B7  & normal\\\\\n",
       "\t6 & AZ\\_C12 & Homo sapiens & H1 & male & 43 & year & 30.8 & post-mortem & HbA1c 5.0\\% & pancreas & ⋯ & ERX1700373 & AZ\\_C12.fastq.gz & AZ\\_C12.fastq.gz & ERR1630040 & ftp://ftp.sra.ebi.ac.uk/vol1/fastq/ERR163/000/ERR1630040/ERR1630040.fastq.gz & P-MTAB-51966 & pancreas\\_refseq\\_rpkms\\_counts\\_3514sc.txt & ftp://ftp.ebi.ac.uk/pub/databases/microarray/data/experiment/MTAB/E-MTAB-5061/E-MTAB-5061.processed.1.zip & AZ\\_C12 & normal\\\\\n",
       "\\end{tabular}\n"
      ],
      "text/markdown": [
       "\n",
       "A data.frame: 6 × 49\n",
       "\n",
       "| <!--/--> | Source.Name &lt;chr&gt; | Characteristics..organism. &lt;chr&gt; | Characteristics..individual. &lt;chr&gt; | Characteristics..sex. &lt;chr&gt; | Characteristics..age. &lt;int&gt; | Unit..time.unit. &lt;chr&gt; | Characteristics..body.mass.index. &lt;dbl&gt; | Characteristics..organism.status. &lt;chr&gt; | Characteristics..clinical.information. &lt;chr&gt; | Characteristics..organism.part. &lt;chr&gt; | ⋯ ⋯ | Comment.ENA_EXPERIMENT. &lt;chr&gt; | Scan.Name &lt;chr&gt; | Comment.SUBMITTED_FILE_NAME. &lt;chr&gt; | Comment.ENA_RUN. &lt;chr&gt; | Comment.FASTQ_URI. &lt;chr&gt; | Protocol.REF.3 &lt;chr&gt; | Derived.Array.Data.File &lt;chr&gt; | Comment..Derived.ArrayExpress.FTP.file. &lt;chr&gt; | FactorValue..single.cell.identifier. &lt;chr&gt; | Factor.Value..disease. &lt;chr&gt; |\n",
       "|---|---|---|---|---|---|---|---|---|---|---|---|---|---|---|---|---|---|---|---|---|---|\n",
       "| 1 | AZ_A1  | Homo sapiens | H1 | male | 43 | year | 30.8 | post-mortem | HbA1c 5.0% | pancreas | ⋯ | ERX1700346 | AZ_A1.fastq.gz  | AZ_A1.fastq.gz  | ERR1630013 | ftp://ftp.sra.ebi.ac.uk/vol1/fastq/ERR163/003/ERR1630013/ERR1630013.fastq.gz | P-MTAB-51966 | pancreas_refseq_rpkms_counts_3514sc.txt | ftp://ftp.ebi.ac.uk/pub/databases/microarray/data/experiment/MTAB/E-MTAB-5061/E-MTAB-5061.processed.1.zip | AZ_A1  | normal |\n",
       "| 2 | AZ_A3  | Homo sapiens | H1 | male | 43 | year | 30.8 | post-mortem | HbA1c 5.0% | pancreas | ⋯ | ERX1700351 | AZ_A3.fastq.gz  | AZ_A3.fastq.gz  | ERR1630018 | ftp://ftp.sra.ebi.ac.uk/vol1/fastq/ERR163/008/ERR1630018/ERR1630018.fastq.gz | P-MTAB-51966 | pancreas_refseq_rpkms_counts_3514sc.txt | ftp://ftp.ebi.ac.uk/pub/databases/microarray/data/experiment/MTAB/E-MTAB-5061/E-MTAB-5061.processed.1.zip | AZ_A3  | normal |\n",
       "| 3 | AZ_A4  | Homo sapiens | H1 | male | 43 | year | 30.8 | post-mortem | HbA1c 5.0% | pancreas | ⋯ | ERX1700352 | AZ_A4.fastq.gz  | AZ_A4.fastq.gz  | ERR1630019 | ftp://ftp.sra.ebi.ac.uk/vol1/fastq/ERR163/009/ERR1630019/ERR1630019.fastq.gz | P-MTAB-51966 | pancreas_refseq_rpkms_counts_3514sc.txt | ftp://ftp.ebi.ac.uk/pub/databases/microarray/data/experiment/MTAB/E-MTAB-5061/E-MTAB-5061.processed.1.zip | AZ_A4  | normal |\n",
       "| 4 | AZ_B6  | Homo sapiens | H1 | male | 43 | year | 30.8 | post-mortem | HbA1c 5.0% | pancreas | ⋯ | ERX1700366 | AZ_B6.fastq.gz  | AZ_B6.fastq.gz  | ERR1630033 | ftp://ftp.sra.ebi.ac.uk/vol1/fastq/ERR163/003/ERR1630033/ERR1630033.fastq.gz | P-MTAB-51966 | pancreas_refseq_rpkms_counts_3514sc.txt | ftp://ftp.ebi.ac.uk/pub/databases/microarray/data/experiment/MTAB/E-MTAB-5061/E-MTAB-5061.processed.1.zip | AZ_B6  | normal |\n",
       "| 5 | AZ_B7  | Homo sapiens | H1 | male | 43 | year | 30.8 | post-mortem | HbA1c 5.0% | pancreas | ⋯ | ERX1700367 | AZ_B7.fastq.gz  | AZ_B7.fastq.gz  | ERR1630034 | ftp://ftp.sra.ebi.ac.uk/vol1/fastq/ERR163/004/ERR1630034/ERR1630034.fastq.gz | P-MTAB-51966 | pancreas_refseq_rpkms_counts_3514sc.txt | ftp://ftp.ebi.ac.uk/pub/databases/microarray/data/experiment/MTAB/E-MTAB-5061/E-MTAB-5061.processed.1.zip | AZ_B7  | normal |\n",
       "| 6 | AZ_C12 | Homo sapiens | H1 | male | 43 | year | 30.8 | post-mortem | HbA1c 5.0% | pancreas | ⋯ | ERX1700373 | AZ_C12.fastq.gz | AZ_C12.fastq.gz | ERR1630040 | ftp://ftp.sra.ebi.ac.uk/vol1/fastq/ERR163/000/ERR1630040/ERR1630040.fastq.gz | P-MTAB-51966 | pancreas_refseq_rpkms_counts_3514sc.txt | ftp://ftp.ebi.ac.uk/pub/databases/microarray/data/experiment/MTAB/E-MTAB-5061/E-MTAB-5061.processed.1.zip | AZ_C12 | normal |\n",
       "\n"
      ],
      "text/plain": [
       "  Source.Name Characteristics..organism. Characteristics..individual.\n",
       "1 AZ_A1       Homo sapiens               H1                          \n",
       "2 AZ_A3       Homo sapiens               H1                          \n",
       "3 AZ_A4       Homo sapiens               H1                          \n",
       "4 AZ_B6       Homo sapiens               H1                          \n",
       "5 AZ_B7       Homo sapiens               H1                          \n",
       "6 AZ_C12      Homo sapiens               H1                          \n",
       "  Characteristics..sex. Characteristics..age. Unit..time.unit.\n",
       "1 male                  43                    year            \n",
       "2 male                  43                    year            \n",
       "3 male                  43                    year            \n",
       "4 male                  43                    year            \n",
       "5 male                  43                    year            \n",
       "6 male                  43                    year            \n",
       "  Characteristics..body.mass.index. Characteristics..organism.status.\n",
       "1 30.8                              post-mortem                      \n",
       "2 30.8                              post-mortem                      \n",
       "3 30.8                              post-mortem                      \n",
       "4 30.8                              post-mortem                      \n",
       "5 30.8                              post-mortem                      \n",
       "6 30.8                              post-mortem                      \n",
       "  Characteristics..clinical.information. Characteristics..organism.part. ⋯\n",
       "1 HbA1c 5.0%                             pancreas                        ⋯\n",
       "2 HbA1c 5.0%                             pancreas                        ⋯\n",
       "3 HbA1c 5.0%                             pancreas                        ⋯\n",
       "4 HbA1c 5.0%                             pancreas                        ⋯\n",
       "5 HbA1c 5.0%                             pancreas                        ⋯\n",
       "6 HbA1c 5.0%                             pancreas                        ⋯\n",
       "  Comment.ENA_EXPERIMENT. Scan.Name       Comment.SUBMITTED_FILE_NAME.\n",
       "1 ERX1700346              AZ_A1.fastq.gz  AZ_A1.fastq.gz              \n",
       "2 ERX1700351              AZ_A3.fastq.gz  AZ_A3.fastq.gz              \n",
       "3 ERX1700352              AZ_A4.fastq.gz  AZ_A4.fastq.gz              \n",
       "4 ERX1700366              AZ_B6.fastq.gz  AZ_B6.fastq.gz              \n",
       "5 ERX1700367              AZ_B7.fastq.gz  AZ_B7.fastq.gz              \n",
       "6 ERX1700373              AZ_C12.fastq.gz AZ_C12.fastq.gz             \n",
       "  Comment.ENA_RUN.\n",
       "1 ERR1630013      \n",
       "2 ERR1630018      \n",
       "3 ERR1630019      \n",
       "4 ERR1630033      \n",
       "5 ERR1630034      \n",
       "6 ERR1630040      \n",
       "  Comment.FASTQ_URI.                                                          \n",
       "1 ftp://ftp.sra.ebi.ac.uk/vol1/fastq/ERR163/003/ERR1630013/ERR1630013.fastq.gz\n",
       "2 ftp://ftp.sra.ebi.ac.uk/vol1/fastq/ERR163/008/ERR1630018/ERR1630018.fastq.gz\n",
       "3 ftp://ftp.sra.ebi.ac.uk/vol1/fastq/ERR163/009/ERR1630019/ERR1630019.fastq.gz\n",
       "4 ftp://ftp.sra.ebi.ac.uk/vol1/fastq/ERR163/003/ERR1630033/ERR1630033.fastq.gz\n",
       "5 ftp://ftp.sra.ebi.ac.uk/vol1/fastq/ERR163/004/ERR1630034/ERR1630034.fastq.gz\n",
       "6 ftp://ftp.sra.ebi.ac.uk/vol1/fastq/ERR163/000/ERR1630040/ERR1630040.fastq.gz\n",
       "  Protocol.REF.3 Derived.Array.Data.File                \n",
       "1 P-MTAB-51966   pancreas_refseq_rpkms_counts_3514sc.txt\n",
       "2 P-MTAB-51966   pancreas_refseq_rpkms_counts_3514sc.txt\n",
       "3 P-MTAB-51966   pancreas_refseq_rpkms_counts_3514sc.txt\n",
       "4 P-MTAB-51966   pancreas_refseq_rpkms_counts_3514sc.txt\n",
       "5 P-MTAB-51966   pancreas_refseq_rpkms_counts_3514sc.txt\n",
       "6 P-MTAB-51966   pancreas_refseq_rpkms_counts_3514sc.txt\n",
       "  Comment..Derived.ArrayExpress.FTP.file.                                                                  \n",
       "1 ftp://ftp.ebi.ac.uk/pub/databases/microarray/data/experiment/MTAB/E-MTAB-5061/E-MTAB-5061.processed.1.zip\n",
       "2 ftp://ftp.ebi.ac.uk/pub/databases/microarray/data/experiment/MTAB/E-MTAB-5061/E-MTAB-5061.processed.1.zip\n",
       "3 ftp://ftp.ebi.ac.uk/pub/databases/microarray/data/experiment/MTAB/E-MTAB-5061/E-MTAB-5061.processed.1.zip\n",
       "4 ftp://ftp.ebi.ac.uk/pub/databases/microarray/data/experiment/MTAB/E-MTAB-5061/E-MTAB-5061.processed.1.zip\n",
       "5 ftp://ftp.ebi.ac.uk/pub/databases/microarray/data/experiment/MTAB/E-MTAB-5061/E-MTAB-5061.processed.1.zip\n",
       "6 ftp://ftp.ebi.ac.uk/pub/databases/microarray/data/experiment/MTAB/E-MTAB-5061/E-MTAB-5061.processed.1.zip\n",
       "  FactorValue..single.cell.identifier. Factor.Value..disease.\n",
       "1 AZ_A1                                normal                \n",
       "2 AZ_A3                                normal                \n",
       "3 AZ_A4                                normal                \n",
       "4 AZ_B6                                normal                \n",
       "5 AZ_B7                                normal                \n",
       "6 AZ_C12                               normal                "
      ]
     },
     "metadata": {},
     "output_type": "display_data"
    }
   ],
   "source": [
    "cell.meta = read.csv('../data/E-MTAB-5061/E-MTAB-5061.sdrf.txt',sep='\\t')\n",
    "head(cell.meta)"
   ]
  },
  {
   "cell_type": "code",
   "execution_count": 10,
   "id": "c34f1a24-a0a8-4266-90bc-f6613d91c304",
   "metadata": {},
   "outputs": [
    {
     "data": {
      "text/plain": [
       "\n",
       "  H1   H2   H3   H4   H5   H6 T2D1 T2D2 T2D3 T2D4 \n",
       "  96  352  383  383  383  383  383  383  384  384 "
      ]
     },
     "metadata": {},
     "output_type": "display_data"
    }
   ],
   "source": [
    "table(cell.meta$Characteristics..individual.) # Six healthy individuals, four T2D patients"
   ]
  },
  {
   "cell_type": "code",
   "execution_count": 11,
   "id": "6521fbc0-e235-4ca7-ac97-0064dd9878ed",
   "metadata": {},
   "outputs": [],
   "source": [
    "cell.meta=cell.meta[,1:5] # Remove unnecessary meta info for the cells\n",
    "head(cell.meta)"
   ]
  },
  {
   "cell_type": "code",
   "execution_count": 60,
   "id": "c43fb705-02f9-48a0-ae02-12bbfe82421e",
   "metadata": {},
   "outputs": [
    {
     "data": {
      "text/html": [
       "<table class=\"dataframe\">\n",
       "<caption>A matrix: 6 × 26271 of type int</caption>\n",
       "<thead>\n",
       "\t<tr><th></th><th scope=col>SGIP1</th><th scope=col>AZIN2</th><th scope=col>CLIC4</th><th scope=col>AGBL4</th><th scope=col>NECAP2</th><th scope=col>SLC45A1</th><th scope=col>TGFBR3</th><th scope=col>DBT</th><th scope=col>RFWD2</th><th scope=col>C1orf21</th><th scope=col>⋯</th><th scope=col>ERCC_1.83105469:mix1_3.66210938:mix2</th><th scope=col>ERCC_0.91552734:mix1_1.83105469:mix2</th><th scope=col>ERCC_0.91552734:mix1_1.83105469:mix2</th><th scope=col>ERCC_0.45776367:mix1_0.91552734:mix2</th><th scope=col>ERCC_0.22888184:mix1_0.45776367:mix2</th><th scope=col>ERCC_0.22888184:mix1_0.45776367:mix2</th><th scope=col>ERCC_0.11444092:mix1_0.22888184:mix2</th><th scope=col>ERCC_0.05722046:mix1_0.11444092:mix2</th><th scope=col>ERCC_0.01430512:mix1_0.02861023:mix2</th><th scope=col>eGFP</th></tr>\n",
       "</thead>\n",
       "<tbody>\n",
       "\t<tr><th scope=row>AZ_A1</th><td>0</td><td>0</td><td>0</td><td>0</td><td>0</td><td>0</td><td>0</td><td>0</td><td>0</td><td>0</td><td>⋯</td><td>0</td><td>0</td><td>0</td><td>0</td><td>0</td><td>0</td><td>0</td><td>0</td><td>0</td><td>0</td></tr>\n",
       "\t<tr><th scope=row>AZ_A3</th><td>0</td><td>0</td><td>0</td><td>0</td><td>0</td><td>0</td><td>0</td><td>0</td><td>0</td><td>0</td><td>⋯</td><td>0</td><td>0</td><td>0</td><td>0</td><td>0</td><td>0</td><td>0</td><td>0</td><td>0</td><td>1</td></tr>\n",
       "\t<tr><th scope=row>AZ_A4</th><td>0</td><td>0</td><td>0</td><td>0</td><td>0</td><td>0</td><td>0</td><td>0</td><td>0</td><td>0</td><td>⋯</td><td>0</td><td>0</td><td>0</td><td>0</td><td>0</td><td>0</td><td>0</td><td>0</td><td>0</td><td>0</td></tr>\n",
       "\t<tr><th scope=row>AZ_B6</th><td>0</td><td>0</td><td>0</td><td>0</td><td>0</td><td>0</td><td>0</td><td>0</td><td>0</td><td>0</td><td>⋯</td><td>0</td><td>0</td><td>0</td><td>0</td><td>0</td><td>0</td><td>0</td><td>0</td><td>0</td><td>1</td></tr>\n",
       "\t<tr><th scope=row>AZ_B7</th><td>0</td><td>0</td><td>0</td><td>0</td><td>0</td><td>0</td><td>0</td><td>0</td><td>0</td><td>0</td><td>⋯</td><td>0</td><td>1</td><td>0</td><td>0</td><td>0</td><td>0</td><td>0</td><td>0</td><td>0</td><td>0</td></tr>\n",
       "\t<tr><th scope=row>AZ_C12</th><td>0</td><td>0</td><td>0</td><td>0</td><td>0</td><td>0</td><td>0</td><td>0</td><td>0</td><td>0</td><td>⋯</td><td>0</td><td>0</td><td>0</td><td>0</td><td>0</td><td>0</td><td>0</td><td>0</td><td>0</td><td>0</td></tr>\n",
       "</tbody>\n",
       "</table>\n"
      ],
      "text/latex": [
       "A matrix: 6 × 26271 of type int\n",
       "\\begin{tabular}{r|lllllllllllllllllllll}\n",
       "  & SGIP1 & AZIN2 & CLIC4 & AGBL4 & NECAP2 & SLC45A1 & TGFBR3 & DBT & RFWD2 & C1orf21 & ⋯ & ERCC\\_1.83105469:mix1\\_3.66210938:mix2 & ERCC\\_0.91552734:mix1\\_1.83105469:mix2 & ERCC\\_0.91552734:mix1\\_1.83105469:mix2 & ERCC\\_0.45776367:mix1\\_0.91552734:mix2 & ERCC\\_0.22888184:mix1\\_0.45776367:mix2 & ERCC\\_0.22888184:mix1\\_0.45776367:mix2 & ERCC\\_0.11444092:mix1\\_0.22888184:mix2 & ERCC\\_0.05722046:mix1\\_0.11444092:mix2 & ERCC\\_0.01430512:mix1\\_0.02861023:mix2 & eGFP\\\\\n",
       "\\hline\n",
       "\tAZ\\_A1 & 0 & 0 & 0 & 0 & 0 & 0 & 0 & 0 & 0 & 0 & ⋯ & 0 & 0 & 0 & 0 & 0 & 0 & 0 & 0 & 0 & 0\\\\\n",
       "\tAZ\\_A3 & 0 & 0 & 0 & 0 & 0 & 0 & 0 & 0 & 0 & 0 & ⋯ & 0 & 0 & 0 & 0 & 0 & 0 & 0 & 0 & 0 & 1\\\\\n",
       "\tAZ\\_A4 & 0 & 0 & 0 & 0 & 0 & 0 & 0 & 0 & 0 & 0 & ⋯ & 0 & 0 & 0 & 0 & 0 & 0 & 0 & 0 & 0 & 0\\\\\n",
       "\tAZ\\_B6 & 0 & 0 & 0 & 0 & 0 & 0 & 0 & 0 & 0 & 0 & ⋯ & 0 & 0 & 0 & 0 & 0 & 0 & 0 & 0 & 0 & 1\\\\\n",
       "\tAZ\\_B7 & 0 & 0 & 0 & 0 & 0 & 0 & 0 & 0 & 0 & 0 & ⋯ & 0 & 1 & 0 & 0 & 0 & 0 & 0 & 0 & 0 & 0\\\\\n",
       "\tAZ\\_C12 & 0 & 0 & 0 & 0 & 0 & 0 & 0 & 0 & 0 & 0 & ⋯ & 0 & 0 & 0 & 0 & 0 & 0 & 0 & 0 & 0 & 0\\\\\n",
       "\\end{tabular}\n"
      ],
      "text/markdown": [
       "\n",
       "A matrix: 6 × 26271 of type int\n",
       "\n",
       "| <!--/--> | SGIP1 | AZIN2 | CLIC4 | AGBL4 | NECAP2 | SLC45A1 | TGFBR3 | DBT | RFWD2 | C1orf21 | ⋯ | ERCC_1.83105469:mix1_3.66210938:mix2 | ERCC_0.91552734:mix1_1.83105469:mix2 | ERCC_0.91552734:mix1_1.83105469:mix2 | ERCC_0.45776367:mix1_0.91552734:mix2 | ERCC_0.22888184:mix1_0.45776367:mix2 | ERCC_0.22888184:mix1_0.45776367:mix2 | ERCC_0.11444092:mix1_0.22888184:mix2 | ERCC_0.05722046:mix1_0.11444092:mix2 | ERCC_0.01430512:mix1_0.02861023:mix2 | eGFP |\n",
       "|---|---|---|---|---|---|---|---|---|---|---|---|---|---|---|---|---|---|---|---|---|---|\n",
       "| AZ_A1 | 0 | 0 | 0 | 0 | 0 | 0 | 0 | 0 | 0 | 0 | ⋯ | 0 | 0 | 0 | 0 | 0 | 0 | 0 | 0 | 0 | 0 |\n",
       "| AZ_A3 | 0 | 0 | 0 | 0 | 0 | 0 | 0 | 0 | 0 | 0 | ⋯ | 0 | 0 | 0 | 0 | 0 | 0 | 0 | 0 | 0 | 1 |\n",
       "| AZ_A4 | 0 | 0 | 0 | 0 | 0 | 0 | 0 | 0 | 0 | 0 | ⋯ | 0 | 0 | 0 | 0 | 0 | 0 | 0 | 0 | 0 | 0 |\n",
       "| AZ_B6 | 0 | 0 | 0 | 0 | 0 | 0 | 0 | 0 | 0 | 0 | ⋯ | 0 | 0 | 0 | 0 | 0 | 0 | 0 | 0 | 0 | 1 |\n",
       "| AZ_B7 | 0 | 0 | 0 | 0 | 0 | 0 | 0 | 0 | 0 | 0 | ⋯ | 0 | 1 | 0 | 0 | 0 | 0 | 0 | 0 | 0 | 0 |\n",
       "| AZ_C12 | 0 | 0 | 0 | 0 | 0 | 0 | 0 | 0 | 0 | 0 | ⋯ | 0 | 0 | 0 | 0 | 0 | 0 | 0 | 0 | 0 | 0 |\n",
       "\n"
      ],
      "text/plain": [
       "       SGIP1 AZIN2 CLIC4 AGBL4 NECAP2 SLC45A1 TGFBR3 DBT RFWD2 C1orf21 ⋯\n",
       "AZ_A1  0     0     0     0     0      0       0      0   0     0       ⋯\n",
       "AZ_A3  0     0     0     0     0      0       0      0   0     0       ⋯\n",
       "AZ_A4  0     0     0     0     0      0       0      0   0     0       ⋯\n",
       "AZ_B6  0     0     0     0     0      0       0      0   0     0       ⋯\n",
       "AZ_B7  0     0     0     0     0      0       0      0   0     0       ⋯\n",
       "AZ_C12 0     0     0     0     0      0       0      0   0     0       ⋯\n",
       "       ERCC_1.83105469:mix1_3.66210938:mix2\n",
       "AZ_A1  0                                   \n",
       "AZ_A3  0                                   \n",
       "AZ_A4  0                                   \n",
       "AZ_B6  0                                   \n",
       "AZ_B7  0                                   \n",
       "AZ_C12 0                                   \n",
       "       ERCC_0.91552734:mix1_1.83105469:mix2\n",
       "AZ_A1  0                                   \n",
       "AZ_A3  0                                   \n",
       "AZ_A4  0                                   \n",
       "AZ_B6  0                                   \n",
       "AZ_B7  1                                   \n",
       "AZ_C12 0                                   \n",
       "       ERCC_0.91552734:mix1_1.83105469:mix2\n",
       "AZ_A1  0                                   \n",
       "AZ_A3  0                                   \n",
       "AZ_A4  0                                   \n",
       "AZ_B6  0                                   \n",
       "AZ_B7  0                                   \n",
       "AZ_C12 0                                   \n",
       "       ERCC_0.45776367:mix1_0.91552734:mix2\n",
       "AZ_A1  0                                   \n",
       "AZ_A3  0                                   \n",
       "AZ_A4  0                                   \n",
       "AZ_B6  0                                   \n",
       "AZ_B7  0                                   \n",
       "AZ_C12 0                                   \n",
       "       ERCC_0.22888184:mix1_0.45776367:mix2\n",
       "AZ_A1  0                                   \n",
       "AZ_A3  0                                   \n",
       "AZ_A4  0                                   \n",
       "AZ_B6  0                                   \n",
       "AZ_B7  0                                   \n",
       "AZ_C12 0                                   \n",
       "       ERCC_0.22888184:mix1_0.45776367:mix2\n",
       "AZ_A1  0                                   \n",
       "AZ_A3  0                                   \n",
       "AZ_A4  0                                   \n",
       "AZ_B6  0                                   \n",
       "AZ_B7  0                                   \n",
       "AZ_C12 0                                   \n",
       "       ERCC_0.11444092:mix1_0.22888184:mix2\n",
       "AZ_A1  0                                   \n",
       "AZ_A3  0                                   \n",
       "AZ_A4  0                                   \n",
       "AZ_B6  0                                   \n",
       "AZ_B7  0                                   \n",
       "AZ_C12 0                                   \n",
       "       ERCC_0.05722046:mix1_0.11444092:mix2\n",
       "AZ_A1  0                                   \n",
       "AZ_A3  0                                   \n",
       "AZ_A4  0                                   \n",
       "AZ_B6  0                                   \n",
       "AZ_B7  0                                   \n",
       "AZ_C12 0                                   \n",
       "       ERCC_0.01430512:mix1_0.02861023:mix2 eGFP\n",
       "AZ_A1  0                                    0   \n",
       "AZ_A3  0                                    1   \n",
       "AZ_A4  0                                    0   \n",
       "AZ_B6  0                                    1   \n",
       "AZ_B7  0                                    0   \n",
       "AZ_C12 0                                    0   "
      ]
     },
     "metadata": {},
     "output_type": "display_data"
    }
   ],
   "source": [
    "df = t(count)\n",
    "df = df[cell.meta$Source.Name,]\n",
    "head(df)"
   ]
  },
  {
   "cell_type": "code",
   "execution_count": 61,
   "id": "81ca90a2-62b6-45b0-8231-65a2ae0549a6",
   "metadata": {
    "scrolled": true
   },
   "outputs": [
    {
     "data": {
      "text/html": [
       "3514"
      ],
      "text/latex": [
       "3514"
      ],
      "text/markdown": [
       "3514"
      ],
      "text/plain": [
       "[1] 3514"
      ]
     },
     "metadata": {},
     "output_type": "display_data"
    }
   ],
   "source": [
    "sum(cell.meta$Source.Name == rownames(df))"
   ]
  },
  {
   "cell_type": "code",
   "execution_count": 62,
   "id": "b498dfeb-4ef1-4337-b158-ffb2e5582390",
   "metadata": {},
   "outputs": [
    {
     "data": {
      "text/html": [
       "<style>\n",
       ".list-inline {list-style: none; margin:0; padding: 0}\n",
       ".list-inline>li {display: inline-block}\n",
       ".list-inline>li:not(:last-child)::after {content: \"\\00b7\"; padding: 0 .5ex}\n",
       "</style>\n",
       "<ol class=list-inline><li>3514</li><li>5</li></ol>\n"
      ],
      "text/latex": [
       "\\begin{enumerate*}\n",
       "\\item 3514\n",
       "\\item 5\n",
       "\\end{enumerate*}\n"
      ],
      "text/markdown": [
       "1. 3514\n",
       "2. 5\n",
       "\n",
       "\n"
      ],
      "text/plain": [
       "[1] 3514    5"
      ]
     },
     "metadata": {},
     "output_type": "display_data"
    }
   ],
   "source": [
    "dim(cell.meta)"
   ]
  },
  {
   "cell_type": "markdown",
   "id": "48090ca7-ac95-48ae-8153-a24dc96f947d",
   "metadata": {},
   "source": [
    "## Choosing only healthy individuals"
   ]
  },
  {
   "cell_type": "markdown",
   "id": "db969f99-9f9e-4be7-ab85-926c744b9025",
   "metadata": {},
   "source": [
    "Let's find some `Source.Name` that match healthy individuals:"
   ]
  },
  {
   "cell_type": "code",
   "execution_count": 63,
   "id": "aa643deb-2dab-40e3-856d-19b2b6e22194",
   "metadata": {},
   "outputs": [
    {
     "data": {
      "text/html": [
       "<table class=\"dataframe\">\n",
       "<caption>A data.frame: 6 × 5</caption>\n",
       "<thead>\n",
       "\t<tr><th></th><th scope=col>Source.Name</th><th scope=col>Characteristics..organism.</th><th scope=col>Characteristics..individual.</th><th scope=col>Characteristics..sex.</th><th scope=col>Characteristics..age.</th></tr>\n",
       "\t<tr><th></th><th scope=col>&lt;chr&gt;</th><th scope=col>&lt;chr&gt;</th><th scope=col>&lt;chr&gt;</th><th scope=col>&lt;chr&gt;</th><th scope=col>&lt;int&gt;</th></tr>\n",
       "</thead>\n",
       "<tbody>\n",
       "\t<tr><th scope=row>1</th><td>AZ_A1 </td><td>Homo sapiens</td><td>H1</td><td>male</td><td>43</td></tr>\n",
       "\t<tr><th scope=row>2</th><td>AZ_A3 </td><td>Homo sapiens</td><td>H1</td><td>male</td><td>43</td></tr>\n",
       "\t<tr><th scope=row>3</th><td>AZ_A4 </td><td>Homo sapiens</td><td>H1</td><td>male</td><td>43</td></tr>\n",
       "\t<tr><th scope=row>4</th><td>AZ_B6 </td><td>Homo sapiens</td><td>H1</td><td>male</td><td>43</td></tr>\n",
       "\t<tr><th scope=row>5</th><td>AZ_B7 </td><td>Homo sapiens</td><td>H1</td><td>male</td><td>43</td></tr>\n",
       "\t<tr><th scope=row>6</th><td>AZ_C12</td><td>Homo sapiens</td><td>H1</td><td>male</td><td>43</td></tr>\n",
       "</tbody>\n",
       "</table>\n"
      ],
      "text/latex": [
       "A data.frame: 6 × 5\n",
       "\\begin{tabular}{r|lllll}\n",
       "  & Source.Name & Characteristics..organism. & Characteristics..individual. & Characteristics..sex. & Characteristics..age.\\\\\n",
       "  & <chr> & <chr> & <chr> & <chr> & <int>\\\\\n",
       "\\hline\n",
       "\t1 & AZ\\_A1  & Homo sapiens & H1 & male & 43\\\\\n",
       "\t2 & AZ\\_A3  & Homo sapiens & H1 & male & 43\\\\\n",
       "\t3 & AZ\\_A4  & Homo sapiens & H1 & male & 43\\\\\n",
       "\t4 & AZ\\_B6  & Homo sapiens & H1 & male & 43\\\\\n",
       "\t5 & AZ\\_B7  & Homo sapiens & H1 & male & 43\\\\\n",
       "\t6 & AZ\\_C12 & Homo sapiens & H1 & male & 43\\\\\n",
       "\\end{tabular}\n"
      ],
      "text/markdown": [
       "\n",
       "A data.frame: 6 × 5\n",
       "\n",
       "| <!--/--> | Source.Name &lt;chr&gt; | Characteristics..organism. &lt;chr&gt; | Characteristics..individual. &lt;chr&gt; | Characteristics..sex. &lt;chr&gt; | Characteristics..age. &lt;int&gt; |\n",
       "|---|---|---|---|---|---|\n",
       "| 1 | AZ_A1  | Homo sapiens | H1 | male | 43 |\n",
       "| 2 | AZ_A3  | Homo sapiens | H1 | male | 43 |\n",
       "| 3 | AZ_A4  | Homo sapiens | H1 | male | 43 |\n",
       "| 4 | AZ_B6  | Homo sapiens | H1 | male | 43 |\n",
       "| 5 | AZ_B7  | Homo sapiens | H1 | male | 43 |\n",
       "| 6 | AZ_C12 | Homo sapiens | H1 | male | 43 |\n",
       "\n"
      ],
      "text/plain": [
       "  Source.Name Characteristics..organism. Characteristics..individual.\n",
       "1 AZ_A1       Homo sapiens               H1                          \n",
       "2 AZ_A3       Homo sapiens               H1                          \n",
       "3 AZ_A4       Homo sapiens               H1                          \n",
       "4 AZ_B6       Homo sapiens               H1                          \n",
       "5 AZ_B7       Homo sapiens               H1                          \n",
       "6 AZ_C12      Homo sapiens               H1                          \n",
       "  Characteristics..sex. Characteristics..age.\n",
       "1 male                  43                   \n",
       "2 male                  43                   \n",
       "3 male                  43                   \n",
       "4 male                  43                   \n",
       "5 male                  43                   \n",
       "6 male                  43                   "
      ]
     },
     "metadata": {},
     "output_type": "display_data"
    }
   ],
   "source": [
    "head(cell.meta)"
   ]
  },
  {
   "cell_type": "code",
   "execution_count": 86,
   "id": "b9b6c56d-3931-4d54-b1a7-7deb545d7f56",
   "metadata": {
    "scrolled": true
   },
   "outputs": [],
   "source": [
    "healthy_cell.meta <- cell.meta %>%\n",
    "    filter(Characteristics..individual. == c('H1') | \n",
    "           Characteristics..individual. == c('H2') | \n",
    "           Characteristics..individual. == c('H3') | \n",
    "           Characteristics..individual. == c('H4') | \n",
    "           Characteristics..individual. == c('H5') | \n",
    "           Characteristics..individual. == c('H6'))"
   ]
  },
  {
   "cell_type": "code",
   "execution_count": 87,
   "id": "d796d4b5-de3e-4af2-b50e-12fb8905e2be",
   "metadata": {},
   "outputs": [
    {
     "data": {
      "text/html": [
       "<table class=\"dataframe\">\n",
       "<caption>A data.frame: 6 × 5</caption>\n",
       "<thead>\n",
       "\t<tr><th></th><th scope=col>Source.Name</th><th scope=col>Characteristics..organism.</th><th scope=col>Characteristics..individual.</th><th scope=col>Characteristics..sex.</th><th scope=col>Characteristics..age.</th></tr>\n",
       "\t<tr><th></th><th scope=col>&lt;chr&gt;</th><th scope=col>&lt;chr&gt;</th><th scope=col>&lt;chr&gt;</th><th scope=col>&lt;chr&gt;</th><th scope=col>&lt;int&gt;</th></tr>\n",
       "</thead>\n",
       "<tbody>\n",
       "\t<tr><th scope=row>1</th><td>AZ_A1 </td><td>Homo sapiens</td><td>H1</td><td>male</td><td>43</td></tr>\n",
       "\t<tr><th scope=row>2</th><td>AZ_A3 </td><td>Homo sapiens</td><td>H1</td><td>male</td><td>43</td></tr>\n",
       "\t<tr><th scope=row>3</th><td>AZ_A4 </td><td>Homo sapiens</td><td>H1</td><td>male</td><td>43</td></tr>\n",
       "\t<tr><th scope=row>4</th><td>AZ_B6 </td><td>Homo sapiens</td><td>H1</td><td>male</td><td>43</td></tr>\n",
       "\t<tr><th scope=row>5</th><td>AZ_B7 </td><td>Homo sapiens</td><td>H1</td><td>male</td><td>43</td></tr>\n",
       "\t<tr><th scope=row>6</th><td>AZ_C12</td><td>Homo sapiens</td><td>H1</td><td>male</td><td>43</td></tr>\n",
       "</tbody>\n",
       "</table>\n"
      ],
      "text/latex": [
       "A data.frame: 6 × 5\n",
       "\\begin{tabular}{r|lllll}\n",
       "  & Source.Name & Characteristics..organism. & Characteristics..individual. & Characteristics..sex. & Characteristics..age.\\\\\n",
       "  & <chr> & <chr> & <chr> & <chr> & <int>\\\\\n",
       "\\hline\n",
       "\t1 & AZ\\_A1  & Homo sapiens & H1 & male & 43\\\\\n",
       "\t2 & AZ\\_A3  & Homo sapiens & H1 & male & 43\\\\\n",
       "\t3 & AZ\\_A4  & Homo sapiens & H1 & male & 43\\\\\n",
       "\t4 & AZ\\_B6  & Homo sapiens & H1 & male & 43\\\\\n",
       "\t5 & AZ\\_B7  & Homo sapiens & H1 & male & 43\\\\\n",
       "\t6 & AZ\\_C12 & Homo sapiens & H1 & male & 43\\\\\n",
       "\\end{tabular}\n"
      ],
      "text/markdown": [
       "\n",
       "A data.frame: 6 × 5\n",
       "\n",
       "| <!--/--> | Source.Name &lt;chr&gt; | Characteristics..organism. &lt;chr&gt; | Characteristics..individual. &lt;chr&gt; | Characteristics..sex. &lt;chr&gt; | Characteristics..age. &lt;int&gt; |\n",
       "|---|---|---|---|---|---|\n",
       "| 1 | AZ_A1  | Homo sapiens | H1 | male | 43 |\n",
       "| 2 | AZ_A3  | Homo sapiens | H1 | male | 43 |\n",
       "| 3 | AZ_A4  | Homo sapiens | H1 | male | 43 |\n",
       "| 4 | AZ_B6  | Homo sapiens | H1 | male | 43 |\n",
       "| 5 | AZ_B7  | Homo sapiens | H1 | male | 43 |\n",
       "| 6 | AZ_C12 | Homo sapiens | H1 | male | 43 |\n",
       "\n"
      ],
      "text/plain": [
       "  Source.Name Characteristics..organism. Characteristics..individual.\n",
       "1 AZ_A1       Homo sapiens               H1                          \n",
       "2 AZ_A3       Homo sapiens               H1                          \n",
       "3 AZ_A4       Homo sapiens               H1                          \n",
       "4 AZ_B6       Homo sapiens               H1                          \n",
       "5 AZ_B7       Homo sapiens               H1                          \n",
       "6 AZ_C12      Homo sapiens               H1                          \n",
       "  Characteristics..sex. Characteristics..age.\n",
       "1 male                  43                   \n",
       "2 male                  43                   \n",
       "3 male                  43                   \n",
       "4 male                  43                   \n",
       "5 male                  43                   \n",
       "6 male                  43                   "
      ]
     },
     "metadata": {},
     "output_type": "display_data"
    }
   ],
   "source": [
    "head(healthy_cell.meta)"
   ]
  },
  {
   "cell_type": "markdown",
   "id": "2f316c76-7c68-4e0c-8e35-aef7ba9db671",
   "metadata": {},
   "source": [
    "Now we only choose cells from healthy individuals."
   ]
  },
  {
   "cell_type": "code",
   "execution_count": 96,
   "id": "098dffc0-feaf-4f90-bdeb-b4c06d6a803d",
   "metadata": {},
   "outputs": [
    {
     "data": {
      "text/plain": [
       "\n",
       "  H1   H2   H3   H4   H5   H6 T2D1 T2D2 T2D3 T2D4 \n",
       "  96  352  383  383  383  383  383  383  384  384 "
      ]
     },
     "metadata": {},
     "output_type": "display_data"
    }
   ],
   "source": [
    "table(cell.meta$Characteristics..individual.)"
   ]
  },
  {
   "cell_type": "code",
   "execution_count": 92,
   "id": "d339c589-23a5-4134-8980-ac41d0d5fb6f",
   "metadata": {},
   "outputs": [
    {
     "data": {
      "text/html": [
       "1980"
      ],
      "text/latex": [
       "1980"
      ],
      "text/markdown": [
       "1980"
      ],
      "text/plain": [
       "[1] 1980"
      ]
     },
     "metadata": {},
     "output_type": "display_data"
    }
   ],
   "source": [
    "96+352+383+383+383+383"
   ]
  },
  {
   "cell_type": "markdown",
   "id": "d0dae311-9500-4e8c-a102-0ec5c85a5760",
   "metadata": {},
   "source": [
    "Looking at the table, we know there should be 1980 individuals."
   ]
  },
  {
   "cell_type": "code",
   "execution_count": 93,
   "id": "6e7af1d2-9c53-4987-81d0-2c1dfa4773b6",
   "metadata": {},
   "outputs": [
    {
     "data": {
      "text/html": [
       "<style>\n",
       ".list-inline {list-style: none; margin:0; padding: 0}\n",
       ".list-inline>li {display: inline-block}\n",
       ".list-inline>li:not(:last-child)::after {content: \"\\00b7\"; padding: 0 .5ex}\n",
       "</style>\n",
       "<ol class=list-inline><li>1980</li><li>26271</li></ol>\n"
      ],
      "text/latex": [
       "\\begin{enumerate*}\n",
       "\\item 1980\n",
       "\\item 26271\n",
       "\\end{enumerate*}\n"
      ],
      "text/markdown": [
       "1. 1980\n",
       "2. 26271\n",
       "\n",
       "\n"
      ],
      "text/plain": [
       "[1]  1980 26271"
      ]
     },
     "metadata": {},
     "output_type": "display_data"
    }
   ],
   "source": [
    "df = df[healthy_cell.meta$Source.Name,]\n",
    "dim(df)"
   ]
  },
  {
   "cell_type": "markdown",
   "id": "2fee5793-d64c-4a68-b8b4-0b2849c68d40",
   "metadata": {},
   "source": [
    "## Quality control"
   ]
  },
  {
   "cell_type": "code",
   "execution_count": 122,
   "id": "486bd775-c116-401a-a08b-a20bec0104e8",
   "metadata": {},
   "outputs": [
    {
     "data": {
      "text/html": [
       "<table class=\"dataframe\">\n",
       "<caption>A matrix: 6 × 26271 of type int</caption>\n",
       "<thead>\n",
       "\t<tr><th></th><th scope=col>SGIP1</th><th scope=col>AZIN2</th><th scope=col>CLIC4</th><th scope=col>AGBL4</th><th scope=col>NECAP2</th><th scope=col>SLC45A1</th><th scope=col>TGFBR3</th><th scope=col>DBT</th><th scope=col>RFWD2</th><th scope=col>C1orf21</th><th scope=col>⋯</th><th scope=col>ERCC_1.83105469:mix1_3.66210938:mix2</th><th scope=col>ERCC_0.91552734:mix1_1.83105469:mix2</th><th scope=col>ERCC_0.91552734:mix1_1.83105469:mix2</th><th scope=col>ERCC_0.45776367:mix1_0.91552734:mix2</th><th scope=col>ERCC_0.22888184:mix1_0.45776367:mix2</th><th scope=col>ERCC_0.22888184:mix1_0.45776367:mix2</th><th scope=col>ERCC_0.11444092:mix1_0.22888184:mix2</th><th scope=col>ERCC_0.05722046:mix1_0.11444092:mix2</th><th scope=col>ERCC_0.01430512:mix1_0.02861023:mix2</th><th scope=col>eGFP</th></tr>\n",
       "</thead>\n",
       "<tbody>\n",
       "\t<tr><th scope=row>AZ_A1</th><td>0</td><td>0</td><td>0</td><td>0</td><td>0</td><td>0</td><td>0</td><td>0</td><td>0</td><td>0</td><td>⋯</td><td>0</td><td>0</td><td>0</td><td>0</td><td>0</td><td>0</td><td>0</td><td>0</td><td>0</td><td>0</td></tr>\n",
       "\t<tr><th scope=row>AZ_A3</th><td>0</td><td>0</td><td>0</td><td>0</td><td>0</td><td>0</td><td>0</td><td>0</td><td>0</td><td>0</td><td>⋯</td><td>0</td><td>0</td><td>0</td><td>0</td><td>0</td><td>0</td><td>0</td><td>0</td><td>0</td><td>1</td></tr>\n",
       "\t<tr><th scope=row>AZ_A4</th><td>0</td><td>0</td><td>0</td><td>0</td><td>0</td><td>0</td><td>0</td><td>0</td><td>0</td><td>0</td><td>⋯</td><td>0</td><td>0</td><td>0</td><td>0</td><td>0</td><td>0</td><td>0</td><td>0</td><td>0</td><td>0</td></tr>\n",
       "\t<tr><th scope=row>AZ_B6</th><td>0</td><td>0</td><td>0</td><td>0</td><td>0</td><td>0</td><td>0</td><td>0</td><td>0</td><td>0</td><td>⋯</td><td>0</td><td>0</td><td>0</td><td>0</td><td>0</td><td>0</td><td>0</td><td>0</td><td>0</td><td>1</td></tr>\n",
       "\t<tr><th scope=row>AZ_B7</th><td>0</td><td>0</td><td>0</td><td>0</td><td>0</td><td>0</td><td>0</td><td>0</td><td>0</td><td>0</td><td>⋯</td><td>0</td><td>1</td><td>0</td><td>0</td><td>0</td><td>0</td><td>0</td><td>0</td><td>0</td><td>0</td></tr>\n",
       "\t<tr><th scope=row>AZ_C12</th><td>0</td><td>0</td><td>0</td><td>0</td><td>0</td><td>0</td><td>0</td><td>0</td><td>0</td><td>0</td><td>⋯</td><td>0</td><td>0</td><td>0</td><td>0</td><td>0</td><td>0</td><td>0</td><td>0</td><td>0</td><td>0</td></tr>\n",
       "</tbody>\n",
       "</table>\n"
      ],
      "text/latex": [
       "A matrix: 6 × 26271 of type int\n",
       "\\begin{tabular}{r|lllllllllllllllllllll}\n",
       "  & SGIP1 & AZIN2 & CLIC4 & AGBL4 & NECAP2 & SLC45A1 & TGFBR3 & DBT & RFWD2 & C1orf21 & ⋯ & ERCC\\_1.83105469:mix1\\_3.66210938:mix2 & ERCC\\_0.91552734:mix1\\_1.83105469:mix2 & ERCC\\_0.91552734:mix1\\_1.83105469:mix2 & ERCC\\_0.45776367:mix1\\_0.91552734:mix2 & ERCC\\_0.22888184:mix1\\_0.45776367:mix2 & ERCC\\_0.22888184:mix1\\_0.45776367:mix2 & ERCC\\_0.11444092:mix1\\_0.22888184:mix2 & ERCC\\_0.05722046:mix1\\_0.11444092:mix2 & ERCC\\_0.01430512:mix1\\_0.02861023:mix2 & eGFP\\\\\n",
       "\\hline\n",
       "\tAZ\\_A1 & 0 & 0 & 0 & 0 & 0 & 0 & 0 & 0 & 0 & 0 & ⋯ & 0 & 0 & 0 & 0 & 0 & 0 & 0 & 0 & 0 & 0\\\\\n",
       "\tAZ\\_A3 & 0 & 0 & 0 & 0 & 0 & 0 & 0 & 0 & 0 & 0 & ⋯ & 0 & 0 & 0 & 0 & 0 & 0 & 0 & 0 & 0 & 1\\\\\n",
       "\tAZ\\_A4 & 0 & 0 & 0 & 0 & 0 & 0 & 0 & 0 & 0 & 0 & ⋯ & 0 & 0 & 0 & 0 & 0 & 0 & 0 & 0 & 0 & 0\\\\\n",
       "\tAZ\\_B6 & 0 & 0 & 0 & 0 & 0 & 0 & 0 & 0 & 0 & 0 & ⋯ & 0 & 0 & 0 & 0 & 0 & 0 & 0 & 0 & 0 & 1\\\\\n",
       "\tAZ\\_B7 & 0 & 0 & 0 & 0 & 0 & 0 & 0 & 0 & 0 & 0 & ⋯ & 0 & 1 & 0 & 0 & 0 & 0 & 0 & 0 & 0 & 0\\\\\n",
       "\tAZ\\_C12 & 0 & 0 & 0 & 0 & 0 & 0 & 0 & 0 & 0 & 0 & ⋯ & 0 & 0 & 0 & 0 & 0 & 0 & 0 & 0 & 0 & 0\\\\\n",
       "\\end{tabular}\n"
      ],
      "text/markdown": [
       "\n",
       "A matrix: 6 × 26271 of type int\n",
       "\n",
       "| <!--/--> | SGIP1 | AZIN2 | CLIC4 | AGBL4 | NECAP2 | SLC45A1 | TGFBR3 | DBT | RFWD2 | C1orf21 | ⋯ | ERCC_1.83105469:mix1_3.66210938:mix2 | ERCC_0.91552734:mix1_1.83105469:mix2 | ERCC_0.91552734:mix1_1.83105469:mix2 | ERCC_0.45776367:mix1_0.91552734:mix2 | ERCC_0.22888184:mix1_0.45776367:mix2 | ERCC_0.22888184:mix1_0.45776367:mix2 | ERCC_0.11444092:mix1_0.22888184:mix2 | ERCC_0.05722046:mix1_0.11444092:mix2 | ERCC_0.01430512:mix1_0.02861023:mix2 | eGFP |\n",
       "|---|---|---|---|---|---|---|---|---|---|---|---|---|---|---|---|---|---|---|---|---|---|\n",
       "| AZ_A1 | 0 | 0 | 0 | 0 | 0 | 0 | 0 | 0 | 0 | 0 | ⋯ | 0 | 0 | 0 | 0 | 0 | 0 | 0 | 0 | 0 | 0 |\n",
       "| AZ_A3 | 0 | 0 | 0 | 0 | 0 | 0 | 0 | 0 | 0 | 0 | ⋯ | 0 | 0 | 0 | 0 | 0 | 0 | 0 | 0 | 0 | 1 |\n",
       "| AZ_A4 | 0 | 0 | 0 | 0 | 0 | 0 | 0 | 0 | 0 | 0 | ⋯ | 0 | 0 | 0 | 0 | 0 | 0 | 0 | 0 | 0 | 0 |\n",
       "| AZ_B6 | 0 | 0 | 0 | 0 | 0 | 0 | 0 | 0 | 0 | 0 | ⋯ | 0 | 0 | 0 | 0 | 0 | 0 | 0 | 0 | 0 | 1 |\n",
       "| AZ_B7 | 0 | 0 | 0 | 0 | 0 | 0 | 0 | 0 | 0 | 0 | ⋯ | 0 | 1 | 0 | 0 | 0 | 0 | 0 | 0 | 0 | 0 |\n",
       "| AZ_C12 | 0 | 0 | 0 | 0 | 0 | 0 | 0 | 0 | 0 | 0 | ⋯ | 0 | 0 | 0 | 0 | 0 | 0 | 0 | 0 | 0 | 0 |\n",
       "\n"
      ],
      "text/plain": [
       "       SGIP1 AZIN2 CLIC4 AGBL4 NECAP2 SLC45A1 TGFBR3 DBT RFWD2 C1orf21 ⋯\n",
       "AZ_A1  0     0     0     0     0      0       0      0   0     0       ⋯\n",
       "AZ_A3  0     0     0     0     0      0       0      0   0     0       ⋯\n",
       "AZ_A4  0     0     0     0     0      0       0      0   0     0       ⋯\n",
       "AZ_B6  0     0     0     0     0      0       0      0   0     0       ⋯\n",
       "AZ_B7  0     0     0     0     0      0       0      0   0     0       ⋯\n",
       "AZ_C12 0     0     0     0     0      0       0      0   0     0       ⋯\n",
       "       ERCC_1.83105469:mix1_3.66210938:mix2\n",
       "AZ_A1  0                                   \n",
       "AZ_A3  0                                   \n",
       "AZ_A4  0                                   \n",
       "AZ_B6  0                                   \n",
       "AZ_B7  0                                   \n",
       "AZ_C12 0                                   \n",
       "       ERCC_0.91552734:mix1_1.83105469:mix2\n",
       "AZ_A1  0                                   \n",
       "AZ_A3  0                                   \n",
       "AZ_A4  0                                   \n",
       "AZ_B6  0                                   \n",
       "AZ_B7  1                                   \n",
       "AZ_C12 0                                   \n",
       "       ERCC_0.91552734:mix1_1.83105469:mix2\n",
       "AZ_A1  0                                   \n",
       "AZ_A3  0                                   \n",
       "AZ_A4  0                                   \n",
       "AZ_B6  0                                   \n",
       "AZ_B7  0                                   \n",
       "AZ_C12 0                                   \n",
       "       ERCC_0.45776367:mix1_0.91552734:mix2\n",
       "AZ_A1  0                                   \n",
       "AZ_A3  0                                   \n",
       "AZ_A4  0                                   \n",
       "AZ_B6  0                                   \n",
       "AZ_B7  0                                   \n",
       "AZ_C12 0                                   \n",
       "       ERCC_0.22888184:mix1_0.45776367:mix2\n",
       "AZ_A1  0                                   \n",
       "AZ_A3  0                                   \n",
       "AZ_A4  0                                   \n",
       "AZ_B6  0                                   \n",
       "AZ_B7  0                                   \n",
       "AZ_C12 0                                   \n",
       "       ERCC_0.22888184:mix1_0.45776367:mix2\n",
       "AZ_A1  0                                   \n",
       "AZ_A3  0                                   \n",
       "AZ_A4  0                                   \n",
       "AZ_B6  0                                   \n",
       "AZ_B7  0                                   \n",
       "AZ_C12 0                                   \n",
       "       ERCC_0.11444092:mix1_0.22888184:mix2\n",
       "AZ_A1  0                                   \n",
       "AZ_A3  0                                   \n",
       "AZ_A4  0                                   \n",
       "AZ_B6  0                                   \n",
       "AZ_B7  0                                   \n",
       "AZ_C12 0                                   \n",
       "       ERCC_0.05722046:mix1_0.11444092:mix2\n",
       "AZ_A1  0                                   \n",
       "AZ_A3  0                                   \n",
       "AZ_A4  0                                   \n",
       "AZ_B6  0                                   \n",
       "AZ_B7  0                                   \n",
       "AZ_C12 0                                   \n",
       "       ERCC_0.01430512:mix1_0.02861023:mix2 eGFP\n",
       "AZ_A1  0                                    0   \n",
       "AZ_A3  0                                    1   \n",
       "AZ_A4  0                                    0   \n",
       "AZ_B6  0                                    1   \n",
       "AZ_B7  0                                    0   \n",
       "AZ_C12 0                                    0   "
      ]
     },
     "metadata": {},
     "output_type": "display_data"
    }
   ],
   "source": [
    "head(df)"
   ]
  },
  {
   "cell_type": "markdown",
   "id": "5a6bdfe4-d398-429e-8c79-31146bf1ed1b",
   "metadata": {},
   "source": [
    "Remove duplicated genes."
   ]
  },
  {
   "cell_type": "code",
   "execution_count": 160,
   "id": "50104c16-d6ed-44fa-842e-71c700a069dd",
   "metadata": {},
   "outputs": [
    {
     "data": {
      "text/html": [
       "0"
      ],
      "text/latex": [
       "0"
      ],
      "text/markdown": [
       "0"
      ],
      "text/plain": [
       "[1] 0"
      ]
     },
     "metadata": {},
     "output_type": "display_data"
    }
   ],
   "source": [
    "sum(duplicated(rownames(df)))"
   ]
  },
  {
   "cell_type": "code",
   "execution_count": 161,
   "id": "208be9bf-8a14-4790-95ff-10a26be29516",
   "metadata": {},
   "outputs": [
    {
     "data": {
      "text/html": [
       "85"
      ],
      "text/latex": [
       "85"
      ],
      "text/markdown": [
       "85"
      ],
      "text/plain": [
       "[1] 85"
      ]
     },
     "metadata": {},
     "output_type": "display_data"
    }
   ],
   "source": [
    "sum(duplicated(colnames(df)))"
   ]
  },
  {
   "cell_type": "code",
   "execution_count": 163,
   "id": "697ebfaa-35ab-4a93-a02e-367d54132f94",
   "metadata": {},
   "outputs": [
    {
     "name": "stderr",
     "output_type": "stream",
     "text": [
      "Warning message:\n",
      "“Feature names cannot have underscores ('_'), replacing with dashes ('-')”\n",
      "Warning message:\n",
      "“Data is of class matrix. Coercing to dgCMatrix.”\n"
     ]
    },
    {
     "ename": "ERROR",
     "evalue": "Error in validObject(.Object): invalid class “LogMap” object: Duplicate rownames not allowed\n",
     "output_type": "error",
     "traceback": [
      "Error in validObject(.Object): invalid class “LogMap” object: Duplicate rownames not allowed\nTraceback:\n",
      "1. CreateSeuratObject(counts = t(df), project = \"midterm\", min.cells = 3, \n .     min.features = 200)",
      "2. CreateSeuratObject.default(counts = t(df), project = \"midterm\", \n .     min.cells = 3, min.features = 200)",
      "3. CreateAssay5Object(counts = counts, min.cells = min.cells, min.features = min.features, \n .     ...)",
      "4. .CreateStdAssay(counts = counts, min.cells = min.cells, min.features = min.features, \n .     transpose = transpose, type = type, csum = csum, fsum = fsum, \n .     ...)",
      "5. .CreateStdAssay.list(counts = counts, min.cells = min.cells, \n .     min.features = min.features, transpose = transpose, type = type, \n .     csum = csum, fsum = fsum, ...)",
      "6. new(Class = type, layers = list(), default = 0L, features = LogMap(y = features.all), \n .     cells = LogMap(y = cells.all), meta.data = EmptyDF(n = length(x = features.all)), \n .     misc = list(calcN = calcN_option %||% TRUE), ...)",
      "7. initialize(value, ...)",
      "8. initialize(value, ...)",
      "9. LogMap(y = features.all)",
      "10. new(Class = \"LogMap\", .Data = matrix(nrow = length(x = y), ncol = 0, \n  .     dimnames = list(y, NULL)))",
      "11. initialize(value, ...)",
      "12. initialize(value, ...)",
      "13. initMatrix(.Object, ...)",
      "14. validObject(.Object)",
      "15. stop(msg, \": \", errors, domain = NA)"
     ]
    }
   ],
   "source": [
    "so <- CreateSeuratObject(counts = t(df), project = \"midterm\", min.cells = 3, min.features = 200)\n",
    "so"
   ]
  },
  {
   "cell_type": "markdown",
   "id": "c529468e-7241-4934-89b3-ba61bcd331fb",
   "metadata": {},
   "source": [
    "## Getting baron data"
   ]
  },
  {
   "cell_type": "code",
   "execution_count": 94,
   "id": "9f55339e-543b-4bd9-b044-00f3bd79d162",
   "metadata": {},
   "outputs": [],
   "source": [
    "# Hint:\n",
    "# 1. Need to reorder the cells to make them match between count and cell.meta\n",
    "# 2. Need to select the healthy individuals (and remove the T2D patients)\n",
    "\n",
    "###########################################################################\n",
    "# Paper: PMID 27667667\n",
    "# Data link (available in paper):\n",
    "# https://www.ebi.ac.uk/biostudies/arrayexpress/studies/E-MTAB-5061\n",
    "###########################################################################\n",
    "\n",
    "baron1=read.csv('../data/GSE84133_RAW/GSM2230757_human1_umifm_counts.csv.gz')\n",
    "baron2=read.csv('../data/GSE84133_RAW/GSM2230758_human2_umifm_counts.csv.gz')\n",
    "baron3=read.csv('../data/GSE84133_RAW/GSM2230759_human3_umifm_counts.csv.gz')\n",
    "baron4=read.csv('../data/GSE84133_RAW/GSM2230760_human4_umifm_counts.csv.gz')"
   ]
  },
  {
   "cell_type": "code",
   "execution_count": 95,
   "id": "5f830ee5-9238-44ec-b5aa-aeb3b43605d2",
   "metadata": {},
   "outputs": [
    {
     "data": {
      "text/html": [
       "<table class=\"dataframe\">\n",
       "<caption>A data.frame: 6 × 20128</caption>\n",
       "<thead>\n",
       "\t<tr><th></th><th scope=col>X</th><th scope=col>barcode</th><th scope=col>assigned_cluster</th><th scope=col>A1BG</th><th scope=col>A1CF</th><th scope=col>A2M</th><th scope=col>A2ML1</th><th scope=col>A4GALT</th><th scope=col>A4GNT</th><th scope=col>AA06</th><th scope=col>⋯</th><th scope=col>ZWILCH</th><th scope=col>ZWINT</th><th scope=col>ZXDA</th><th scope=col>ZXDB</th><th scope=col>ZXDC</th><th scope=col>ZYG11B</th><th scope=col>ZYX</th><th scope=col>ZZEF1</th><th scope=col>ZZZ3</th><th scope=col>pk</th></tr>\n",
       "\t<tr><th></th><th scope=col>&lt;chr&gt;</th><th scope=col>&lt;chr&gt;</th><th scope=col>&lt;chr&gt;</th><th scope=col>&lt;int&gt;</th><th scope=col>&lt;int&gt;</th><th scope=col>&lt;int&gt;</th><th scope=col>&lt;int&gt;</th><th scope=col>&lt;int&gt;</th><th scope=col>&lt;int&gt;</th><th scope=col>&lt;int&gt;</th><th scope=col>⋯</th><th scope=col>&lt;int&gt;</th><th scope=col>&lt;int&gt;</th><th scope=col>&lt;int&gt;</th><th scope=col>&lt;int&gt;</th><th scope=col>&lt;int&gt;</th><th scope=col>&lt;int&gt;</th><th scope=col>&lt;int&gt;</th><th scope=col>&lt;int&gt;</th><th scope=col>&lt;int&gt;</th><th scope=col>&lt;int&gt;</th></tr>\n",
       "</thead>\n",
       "<tbody>\n",
       "\t<tr><th scope=row>1</th><td>human1_lib1.final_cell_0001</td><td>GATGACGGAC-GGTGGGAT</td><td>acinar</td><td>0</td><td>4</td><td>0</td><td>0</td><td>0</td><td>0</td><td>0</td><td>⋯</td><td>0</td><td>0</td><td>0</td><td>0</td><td>0</td><td>0</td><td>2</td><td>0</td><td>0</td><td>1</td></tr>\n",
       "\t<tr><th scope=row>2</th><td>human1_lib1.final_cell_0002</td><td>GAGCGTTGCT-ACCTTCTT</td><td>acinar</td><td>0</td><td>0</td><td>0</td><td>0</td><td>0</td><td>0</td><td>0</td><td>⋯</td><td>0</td><td>0</td><td>0</td><td>0</td><td>0</td><td>1</td><td>4</td><td>0</td><td>1</td><td>0</td></tr>\n",
       "\t<tr><th scope=row>3</th><td>human1_lib1.final_cell_0003</td><td>CTTACGGG-CCATTACT  </td><td>acinar</td><td>0</td><td>0</td><td>0</td><td>0</td><td>0</td><td>0</td><td>0</td><td>⋯</td><td>0</td><td>0</td><td>0</td><td>0</td><td>0</td><td>0</td><td>0</td><td>0</td><td>0</td><td>0</td></tr>\n",
       "\t<tr><th scope=row>4</th><td>human1_lib1.final_cell_0004</td><td>GATGTACACG-TTAAACTG</td><td>acinar</td><td>0</td><td>0</td><td>0</td><td>0</td><td>0</td><td>0</td><td>0</td><td>⋯</td><td>1</td><td>0</td><td>0</td><td>0</td><td>0</td><td>1</td><td>3</td><td>1</td><td>0</td><td>0</td></tr>\n",
       "\t<tr><th scope=row>5</th><td>human1_lib1.final_cell_0005</td><td>GAGATTGCGA-GTCGTCGT</td><td>acinar</td><td>0</td><td>0</td><td>0</td><td>0</td><td>0</td><td>0</td><td>0</td><td>⋯</td><td>0</td><td>0</td><td>0</td><td>0</td><td>0</td><td>0</td><td>1</td><td>0</td><td>0</td><td>1</td></tr>\n",
       "\t<tr><th scope=row>6</th><td>human1_lib1.final_cell_0006</td><td>AATCCCACG-ATTCGACG </td><td>acinar</td><td>0</td><td>1</td><td>0</td><td>0</td><td>0</td><td>0</td><td>0</td><td>⋯</td><td>0</td><td>0</td><td>0</td><td>0</td><td>0</td><td>0</td><td>1</td><td>1</td><td>1</td><td>0</td></tr>\n",
       "</tbody>\n",
       "</table>\n"
      ],
      "text/latex": [
       "A data.frame: 6 × 20128\n",
       "\\begin{tabular}{r|lllllllllllllllllllll}\n",
       "  & X & barcode & assigned\\_cluster & A1BG & A1CF & A2M & A2ML1 & A4GALT & A4GNT & AA06 & ⋯ & ZWILCH & ZWINT & ZXDA & ZXDB & ZXDC & ZYG11B & ZYX & ZZEF1 & ZZZ3 & pk\\\\\n",
       "  & <chr> & <chr> & <chr> & <int> & <int> & <int> & <int> & <int> & <int> & <int> & ⋯ & <int> & <int> & <int> & <int> & <int> & <int> & <int> & <int> & <int> & <int>\\\\\n",
       "\\hline\n",
       "\t1 & human1\\_lib1.final\\_cell\\_0001 & GATGACGGAC-GGTGGGAT & acinar & 0 & 4 & 0 & 0 & 0 & 0 & 0 & ⋯ & 0 & 0 & 0 & 0 & 0 & 0 & 2 & 0 & 0 & 1\\\\\n",
       "\t2 & human1\\_lib1.final\\_cell\\_0002 & GAGCGTTGCT-ACCTTCTT & acinar & 0 & 0 & 0 & 0 & 0 & 0 & 0 & ⋯ & 0 & 0 & 0 & 0 & 0 & 1 & 4 & 0 & 1 & 0\\\\\n",
       "\t3 & human1\\_lib1.final\\_cell\\_0003 & CTTACGGG-CCATTACT   & acinar & 0 & 0 & 0 & 0 & 0 & 0 & 0 & ⋯ & 0 & 0 & 0 & 0 & 0 & 0 & 0 & 0 & 0 & 0\\\\\n",
       "\t4 & human1\\_lib1.final\\_cell\\_0004 & GATGTACACG-TTAAACTG & acinar & 0 & 0 & 0 & 0 & 0 & 0 & 0 & ⋯ & 1 & 0 & 0 & 0 & 0 & 1 & 3 & 1 & 0 & 0\\\\\n",
       "\t5 & human1\\_lib1.final\\_cell\\_0005 & GAGATTGCGA-GTCGTCGT & acinar & 0 & 0 & 0 & 0 & 0 & 0 & 0 & ⋯ & 0 & 0 & 0 & 0 & 0 & 0 & 1 & 0 & 0 & 1\\\\\n",
       "\t6 & human1\\_lib1.final\\_cell\\_0006 & AATCCCACG-ATTCGACG  & acinar & 0 & 1 & 0 & 0 & 0 & 0 & 0 & ⋯ & 0 & 0 & 0 & 0 & 0 & 0 & 1 & 1 & 1 & 0\\\\\n",
       "\\end{tabular}\n"
      ],
      "text/markdown": [
       "\n",
       "A data.frame: 6 × 20128\n",
       "\n",
       "| <!--/--> | X &lt;chr&gt; | barcode &lt;chr&gt; | assigned_cluster &lt;chr&gt; | A1BG &lt;int&gt; | A1CF &lt;int&gt; | A2M &lt;int&gt; | A2ML1 &lt;int&gt; | A4GALT &lt;int&gt; | A4GNT &lt;int&gt; | AA06 &lt;int&gt; | ⋯ ⋯ | ZWILCH &lt;int&gt; | ZWINT &lt;int&gt; | ZXDA &lt;int&gt; | ZXDB &lt;int&gt; | ZXDC &lt;int&gt; | ZYG11B &lt;int&gt; | ZYX &lt;int&gt; | ZZEF1 &lt;int&gt; | ZZZ3 &lt;int&gt; | pk &lt;int&gt; |\n",
       "|---|---|---|---|---|---|---|---|---|---|---|---|---|---|---|---|---|---|---|---|---|---|\n",
       "| 1 | human1_lib1.final_cell_0001 | GATGACGGAC-GGTGGGAT | acinar | 0 | 4 | 0 | 0 | 0 | 0 | 0 | ⋯ | 0 | 0 | 0 | 0 | 0 | 0 | 2 | 0 | 0 | 1 |\n",
       "| 2 | human1_lib1.final_cell_0002 | GAGCGTTGCT-ACCTTCTT | acinar | 0 | 0 | 0 | 0 | 0 | 0 | 0 | ⋯ | 0 | 0 | 0 | 0 | 0 | 1 | 4 | 0 | 1 | 0 |\n",
       "| 3 | human1_lib1.final_cell_0003 | CTTACGGG-CCATTACT   | acinar | 0 | 0 | 0 | 0 | 0 | 0 | 0 | ⋯ | 0 | 0 | 0 | 0 | 0 | 0 | 0 | 0 | 0 | 0 |\n",
       "| 4 | human1_lib1.final_cell_0004 | GATGTACACG-TTAAACTG | acinar | 0 | 0 | 0 | 0 | 0 | 0 | 0 | ⋯ | 1 | 0 | 0 | 0 | 0 | 1 | 3 | 1 | 0 | 0 |\n",
       "| 5 | human1_lib1.final_cell_0005 | GAGATTGCGA-GTCGTCGT | acinar | 0 | 0 | 0 | 0 | 0 | 0 | 0 | ⋯ | 0 | 0 | 0 | 0 | 0 | 0 | 1 | 0 | 0 | 1 |\n",
       "| 6 | human1_lib1.final_cell_0006 | AATCCCACG-ATTCGACG  | acinar | 0 | 1 | 0 | 0 | 0 | 0 | 0 | ⋯ | 0 | 0 | 0 | 0 | 0 | 0 | 1 | 1 | 1 | 0 |\n",
       "\n"
      ],
      "text/plain": [
       "  X                           barcode             assigned_cluster A1BG A1CF\n",
       "1 human1_lib1.final_cell_0001 GATGACGGAC-GGTGGGAT acinar           0    4   \n",
       "2 human1_lib1.final_cell_0002 GAGCGTTGCT-ACCTTCTT acinar           0    0   \n",
       "3 human1_lib1.final_cell_0003 CTTACGGG-CCATTACT   acinar           0    0   \n",
       "4 human1_lib1.final_cell_0004 GATGTACACG-TTAAACTG acinar           0    0   \n",
       "5 human1_lib1.final_cell_0005 GAGATTGCGA-GTCGTCGT acinar           0    0   \n",
       "6 human1_lib1.final_cell_0006 AATCCCACG-ATTCGACG  acinar           0    1   \n",
       "  A2M A2ML1 A4GALT A4GNT AA06 ⋯ ZWILCH ZWINT ZXDA ZXDB ZXDC ZYG11B ZYX ZZEF1\n",
       "1 0   0     0      0     0    ⋯ 0      0     0    0    0    0      2   0    \n",
       "2 0   0     0      0     0    ⋯ 0      0     0    0    0    1      4   0    \n",
       "3 0   0     0      0     0    ⋯ 0      0     0    0    0    0      0   0    \n",
       "4 0   0     0      0     0    ⋯ 1      0     0    0    0    1      3   1    \n",
       "5 0   0     0      0     0    ⋯ 0      0     0    0    0    0      1   0    \n",
       "6 0   0     0      0     0    ⋯ 0      0     0    0    0    0      1   1    \n",
       "  ZZZ3 pk\n",
       "1 0    1 \n",
       "2 1    0 \n",
       "3 0    0 \n",
       "4 0    0 \n",
       "5 0    1 \n",
       "6 1    0 "
      ]
     },
     "metadata": {},
     "output_type": "display_data"
    }
   ],
   "source": [
    "head(baron1)"
   ]
  },
  {
   "cell_type": "code",
   "execution_count": 97,
   "id": "f9777c2e-9a5b-405a-b2c9-edbecad5089d",
   "metadata": {},
   "outputs": [
    {
     "data": {
      "text/html": [
       "TRUE"
      ],
      "text/latex": [
       "TRUE"
      ],
      "text/markdown": [
       "TRUE"
      ],
      "text/plain": [
       "[1] TRUE"
      ]
     },
     "metadata": {},
     "output_type": "display_data"
    },
    {
     "data": {
      "text/html": [
       "TRUE"
      ],
      "text/latex": [
       "TRUE"
      ],
      "text/markdown": [
       "TRUE"
      ],
      "text/plain": [
       "[1] TRUE"
      ]
     },
     "metadata": {},
     "output_type": "display_data"
    },
    {
     "data": {
      "text/html": [
       "TRUE"
      ],
      "text/latex": [
       "TRUE"
      ],
      "text/markdown": [
       "TRUE"
      ],
      "text/plain": [
       "[1] TRUE"
      ]
     },
     "metadata": {},
     "output_type": "display_data"
    }
   ],
   "source": [
    "# Check that the columns are the same before combining rows\n",
    "all(colnames(baron1)==colnames(baron2))\n",
    "all(colnames(baron1)==colnames(baron3))\n",
    "all(colnames(baron1)==colnames(baron4))"
   ]
  },
  {
   "cell_type": "code",
   "execution_count": 100,
   "id": "b0fc7f84-a917-4c25-a85a-ba1ebd99b58a",
   "metadata": {},
   "outputs": [
    {
     "ename": "ERROR",
     "evalue": "Error in eval(expr, envir, enclos): object 'baron1' not found\n",
     "output_type": "error",
     "traceback": [
      "Error in eval(expr, envir, enclos): object 'baron1' not found\nTraceback:\n",
      "1. rbind(baron1, baron2, baron3, baron4)"
     ]
    }
   ],
   "source": [
    "baron=rbind(baron1, baron2, baron3, baron4)\n",
    "rm(baron1,baron2,baron3,baron4)\n",
    "head(baron)"
   ]
  },
  {
   "cell_type": "code",
   "execution_count": 101,
   "id": "e415c94b-07ad-426b-b183-444127dc862e",
   "metadata": {},
   "outputs": [
    {
     "data": {
      "text/html": [
       "<table class=\"dataframe\">\n",
       "<caption>A data.frame: 6 × 3</caption>\n",
       "<thead>\n",
       "\t<tr><th></th><th scope=col>cell</th><th scope=col>barcode</th><th scope=col>assigned_cluster</th></tr>\n",
       "\t<tr><th></th><th scope=col>&lt;chr&gt;</th><th scope=col>&lt;chr&gt;</th><th scope=col>&lt;chr&gt;</th></tr>\n",
       "</thead>\n",
       "<tbody>\n",
       "\t<tr><th scope=row>1</th><td>human1_lib1.final_cell_0001</td><td>GATGACGGAC-GGTGGGAT</td><td>acinar</td></tr>\n",
       "\t<tr><th scope=row>2</th><td>human1_lib1.final_cell_0002</td><td>GAGCGTTGCT-ACCTTCTT</td><td>acinar</td></tr>\n",
       "\t<tr><th scope=row>3</th><td>human1_lib1.final_cell_0003</td><td>CTTACGGG-CCATTACT  </td><td>acinar</td></tr>\n",
       "\t<tr><th scope=row>4</th><td>human1_lib1.final_cell_0004</td><td>GATGTACACG-TTAAACTG</td><td>acinar</td></tr>\n",
       "\t<tr><th scope=row>5</th><td>human1_lib1.final_cell_0005</td><td>GAGATTGCGA-GTCGTCGT</td><td>acinar</td></tr>\n",
       "\t<tr><th scope=row>6</th><td>human1_lib1.final_cell_0006</td><td>AATCCCACG-ATTCGACG </td><td>acinar</td></tr>\n",
       "</tbody>\n",
       "</table>\n"
      ],
      "text/latex": [
       "A data.frame: 6 × 3\n",
       "\\begin{tabular}{r|lll}\n",
       "  & cell & barcode & assigned\\_cluster\\\\\n",
       "  & <chr> & <chr> & <chr>\\\\\n",
       "\\hline\n",
       "\t1 & human1\\_lib1.final\\_cell\\_0001 & GATGACGGAC-GGTGGGAT & acinar\\\\\n",
       "\t2 & human1\\_lib1.final\\_cell\\_0002 & GAGCGTTGCT-ACCTTCTT & acinar\\\\\n",
       "\t3 & human1\\_lib1.final\\_cell\\_0003 & CTTACGGG-CCATTACT   & acinar\\\\\n",
       "\t4 & human1\\_lib1.final\\_cell\\_0004 & GATGTACACG-TTAAACTG & acinar\\\\\n",
       "\t5 & human1\\_lib1.final\\_cell\\_0005 & GAGATTGCGA-GTCGTCGT & acinar\\\\\n",
       "\t6 & human1\\_lib1.final\\_cell\\_0006 & AATCCCACG-ATTCGACG  & acinar\\\\\n",
       "\\end{tabular}\n"
      ],
      "text/markdown": [
       "\n",
       "A data.frame: 6 × 3\n",
       "\n",
       "| <!--/--> | cell &lt;chr&gt; | barcode &lt;chr&gt; | assigned_cluster &lt;chr&gt; |\n",
       "|---|---|---|---|\n",
       "| 1 | human1_lib1.final_cell_0001 | GATGACGGAC-GGTGGGAT | acinar |\n",
       "| 2 | human1_lib1.final_cell_0002 | GAGCGTTGCT-ACCTTCTT | acinar |\n",
       "| 3 | human1_lib1.final_cell_0003 | CTTACGGG-CCATTACT   | acinar |\n",
       "| 4 | human1_lib1.final_cell_0004 | GATGTACACG-TTAAACTG | acinar |\n",
       "| 5 | human1_lib1.final_cell_0005 | GAGATTGCGA-GTCGTCGT | acinar |\n",
       "| 6 | human1_lib1.final_cell_0006 | AATCCCACG-ATTCGACG  | acinar |\n",
       "\n"
      ],
      "text/plain": [
       "  cell                        barcode             assigned_cluster\n",
       "1 human1_lib1.final_cell_0001 GATGACGGAC-GGTGGGAT acinar          \n",
       "2 human1_lib1.final_cell_0002 GAGCGTTGCT-ACCTTCTT acinar          \n",
       "3 human1_lib1.final_cell_0003 CTTACGGG-CCATTACT   acinar          \n",
       "4 human1_lib1.final_cell_0004 GATGTACACG-TTAAACTG acinar          \n",
       "5 human1_lib1.final_cell_0005 GAGATTGCGA-GTCGTCGT acinar          \n",
       "6 human1_lib1.final_cell_0006 AATCCCACG-ATTCGACG  acinar          "
      ]
     },
     "metadata": {},
     "output_type": "display_data"
    }
   ],
   "source": [
    "cell.meta=baron[,1:3]\n",
    "colnames(cell.meta)[1]='cell'\n",
    "head(cell.meta)"
   ]
  },
  {
   "cell_type": "code",
   "execution_count": 105,
   "id": "3fba08c7-768d-4236-a668-caee23bc9444",
   "metadata": {},
   "outputs": [
    {
     "data": {
      "text/html": [
       "<table class=\"dataframe\">\n",
       "<caption>A data.frame: 3 × 4</caption>\n",
       "<thead>\n",
       "\t<tr><th></th><th scope=col>cell</th><th scope=col>barcode</th><th scope=col>assigned_cluster</th><th scope=col>individual</th></tr>\n",
       "\t<tr><th></th><th scope=col>&lt;chr&gt;</th><th scope=col>&lt;chr&gt;</th><th scope=col>&lt;chr&gt;</th><th scope=col>&lt;chr&gt;</th></tr>\n",
       "</thead>\n",
       "<tbody>\n",
       "\t<tr><th scope=row>1</th><td>human1_lib1.final_cell_0001</td><td>GATGACGGAC-GGTGGGAT</td><td>acinar</td><td>human1</td></tr>\n",
       "\t<tr><th scope=row>2</th><td>human1_lib1.final_cell_0002</td><td>GAGCGTTGCT-ACCTTCTT</td><td>acinar</td><td>human1</td></tr>\n",
       "\t<tr><th scope=row>3</th><td>human1_lib1.final_cell_0003</td><td>CTTACGGG-CCATTACT  </td><td>acinar</td><td>human1</td></tr>\n",
       "</tbody>\n",
       "</table>\n"
      ],
      "text/latex": [
       "A data.frame: 3 × 4\n",
       "\\begin{tabular}{r|llll}\n",
       "  & cell & barcode & assigned\\_cluster & individual\\\\\n",
       "  & <chr> & <chr> & <chr> & <chr>\\\\\n",
       "\\hline\n",
       "\t1 & human1\\_lib1.final\\_cell\\_0001 & GATGACGGAC-GGTGGGAT & acinar & human1\\\\\n",
       "\t2 & human1\\_lib1.final\\_cell\\_0002 & GAGCGTTGCT-ACCTTCTT & acinar & human1\\\\\n",
       "\t3 & human1\\_lib1.final\\_cell\\_0003 & CTTACGGG-CCATTACT   & acinar & human1\\\\\n",
       "\\end{tabular}\n"
      ],
      "text/markdown": [
       "\n",
       "A data.frame: 3 × 4\n",
       "\n",
       "| <!--/--> | cell &lt;chr&gt; | barcode &lt;chr&gt; | assigned_cluster &lt;chr&gt; | individual &lt;chr&gt; |\n",
       "|---|---|---|---|---|\n",
       "| 1 | human1_lib1.final_cell_0001 | GATGACGGAC-GGTGGGAT | acinar | human1 |\n",
       "| 2 | human1_lib1.final_cell_0002 | GAGCGTTGCT-ACCTTCTT | acinar | human1 |\n",
       "| 3 | human1_lib1.final_cell_0003 | CTTACGGG-CCATTACT   | acinar | human1 |\n",
       "\n"
      ],
      "text/plain": [
       "  cell                        barcode             assigned_cluster individual\n",
       "1 human1_lib1.final_cell_0001 GATGACGGAC-GGTGGGAT acinar           human1    \n",
       "2 human1_lib1.final_cell_0002 GAGCGTTGCT-ACCTTCTT acinar           human1    \n",
       "3 human1_lib1.final_cell_0003 CTTACGGG-CCATTACT   acinar           human1    "
      ]
     },
     "metadata": {},
     "output_type": "display_data"
    }
   ],
   "source": [
    "cell.meta$individual=substr(cell.meta$cell, start=1, stop=6)\n",
    "head(cell.meta, 3)"
   ]
  },
  {
   "cell_type": "code",
   "execution_count": 106,
   "id": "c5281dab-9508-444a-8f03-19d95fed60ba",
   "metadata": {},
   "outputs": [
    {
     "data": {
      "text/plain": [
       "\n",
       "human1 human2 human3 human4 \n",
       "  1937   1724   3605   1303 "
      ]
     },
     "metadata": {},
     "output_type": "display_data"
    }
   ],
   "source": [
    "table(cell.meta$individual)"
   ]
  },
  {
   "cell_type": "code",
   "execution_count": 107,
   "id": "e9929d29-0274-4c89-8e40-99a3c40636f0",
   "metadata": {},
   "outputs": [
    {
     "data": {
      "text/html": [
       "<table class=\"dataframe\">\n",
       "<caption>A matrix: 6 × 20125 of type int</caption>\n",
       "<thead>\n",
       "\t<tr><th scope=col>A1BG</th><th scope=col>A1CF</th><th scope=col>A2M</th><th scope=col>A2ML1</th><th scope=col>A4GALT</th><th scope=col>A4GNT</th><th scope=col>AA06</th><th scope=col>AAAS</th><th scope=col>AACS</th><th scope=col>AACSP1</th><th scope=col>⋯</th><th scope=col>ZWILCH</th><th scope=col>ZWINT</th><th scope=col>ZXDA</th><th scope=col>ZXDB</th><th scope=col>ZXDC</th><th scope=col>ZYG11B</th><th scope=col>ZYX</th><th scope=col>ZZEF1</th><th scope=col>ZZZ3</th><th scope=col>pk</th></tr>\n",
       "</thead>\n",
       "<tbody>\n",
       "\t<tr><td>0</td><td>4</td><td>0</td><td>0</td><td>0</td><td>0</td><td>0</td><td>0</td><td>0</td><td>0</td><td>⋯</td><td>0</td><td>0</td><td>0</td><td>0</td><td>0</td><td>0</td><td>2</td><td>0</td><td>0</td><td>1</td></tr>\n",
       "\t<tr><td>0</td><td>0</td><td>0</td><td>0</td><td>0</td><td>0</td><td>0</td><td>0</td><td>2</td><td>0</td><td>⋯</td><td>0</td><td>0</td><td>0</td><td>0</td><td>0</td><td>1</td><td>4</td><td>0</td><td>1</td><td>0</td></tr>\n",
       "\t<tr><td>0</td><td>0</td><td>0</td><td>0</td><td>0</td><td>0</td><td>0</td><td>0</td><td>0</td><td>0</td><td>⋯</td><td>0</td><td>0</td><td>0</td><td>0</td><td>0</td><td>0</td><td>0</td><td>0</td><td>0</td><td>0</td></tr>\n",
       "\t<tr><td>0</td><td>0</td><td>0</td><td>0</td><td>0</td><td>0</td><td>0</td><td>1</td><td>0</td><td>0</td><td>⋯</td><td>1</td><td>0</td><td>0</td><td>0</td><td>0</td><td>1</td><td>3</td><td>1</td><td>0</td><td>0</td></tr>\n",
       "\t<tr><td>0</td><td>0</td><td>0</td><td>0</td><td>0</td><td>0</td><td>0</td><td>0</td><td>0</td><td>0</td><td>⋯</td><td>0</td><td>0</td><td>0</td><td>0</td><td>0</td><td>0</td><td>1</td><td>0</td><td>0</td><td>1</td></tr>\n",
       "\t<tr><td>0</td><td>1</td><td>0</td><td>0</td><td>0</td><td>0</td><td>0</td><td>0</td><td>2</td><td>0</td><td>⋯</td><td>0</td><td>0</td><td>0</td><td>0</td><td>0</td><td>0</td><td>1</td><td>1</td><td>1</td><td>0</td></tr>\n",
       "</tbody>\n",
       "</table>\n"
      ],
      "text/latex": [
       "A matrix: 6 × 20125 of type int\n",
       "\\begin{tabular}{lllllllllllllllllllll}\n",
       " A1BG & A1CF & A2M & A2ML1 & A4GALT & A4GNT & AA06 & AAAS & AACS & AACSP1 & ⋯ & ZWILCH & ZWINT & ZXDA & ZXDB & ZXDC & ZYG11B & ZYX & ZZEF1 & ZZZ3 & pk\\\\\n",
       "\\hline\n",
       "\t 0 & 4 & 0 & 0 & 0 & 0 & 0 & 0 & 0 & 0 & ⋯ & 0 & 0 & 0 & 0 & 0 & 0 & 2 & 0 & 0 & 1\\\\\n",
       "\t 0 & 0 & 0 & 0 & 0 & 0 & 0 & 0 & 2 & 0 & ⋯ & 0 & 0 & 0 & 0 & 0 & 1 & 4 & 0 & 1 & 0\\\\\n",
       "\t 0 & 0 & 0 & 0 & 0 & 0 & 0 & 0 & 0 & 0 & ⋯ & 0 & 0 & 0 & 0 & 0 & 0 & 0 & 0 & 0 & 0\\\\\n",
       "\t 0 & 0 & 0 & 0 & 0 & 0 & 0 & 1 & 0 & 0 & ⋯ & 1 & 0 & 0 & 0 & 0 & 1 & 3 & 1 & 0 & 0\\\\\n",
       "\t 0 & 0 & 0 & 0 & 0 & 0 & 0 & 0 & 0 & 0 & ⋯ & 0 & 0 & 0 & 0 & 0 & 0 & 1 & 0 & 0 & 1\\\\\n",
       "\t 0 & 1 & 0 & 0 & 0 & 0 & 0 & 0 & 2 & 0 & ⋯ & 0 & 0 & 0 & 0 & 0 & 0 & 1 & 1 & 1 & 0\\\\\n",
       "\\end{tabular}\n"
      ],
      "text/markdown": [
       "\n",
       "A matrix: 6 × 20125 of type int\n",
       "\n",
       "| A1BG | A1CF | A2M | A2ML1 | A4GALT | A4GNT | AA06 | AAAS | AACS | AACSP1 | ⋯ | ZWILCH | ZWINT | ZXDA | ZXDB | ZXDC | ZYG11B | ZYX | ZZEF1 | ZZZ3 | pk |\n",
       "|---|---|---|---|---|---|---|---|---|---|---|---|---|---|---|---|---|---|---|---|---|\n",
       "| 0 | 4 | 0 | 0 | 0 | 0 | 0 | 0 | 0 | 0 | ⋯ | 0 | 0 | 0 | 0 | 0 | 0 | 2 | 0 | 0 | 1 |\n",
       "| 0 | 0 | 0 | 0 | 0 | 0 | 0 | 0 | 2 | 0 | ⋯ | 0 | 0 | 0 | 0 | 0 | 1 | 4 | 0 | 1 | 0 |\n",
       "| 0 | 0 | 0 | 0 | 0 | 0 | 0 | 0 | 0 | 0 | ⋯ | 0 | 0 | 0 | 0 | 0 | 0 | 0 | 0 | 0 | 0 |\n",
       "| 0 | 0 | 0 | 0 | 0 | 0 | 0 | 1 | 0 | 0 | ⋯ | 1 | 0 | 0 | 0 | 0 | 1 | 3 | 1 | 0 | 0 |\n",
       "| 0 | 0 | 0 | 0 | 0 | 0 | 0 | 0 | 0 | 0 | ⋯ | 0 | 0 | 0 | 0 | 0 | 0 | 1 | 0 | 0 | 1 |\n",
       "| 0 | 1 | 0 | 0 | 0 | 0 | 0 | 0 | 2 | 0 | ⋯ | 0 | 0 | 0 | 0 | 0 | 0 | 1 | 1 | 1 | 0 |\n",
       "\n"
      ],
      "text/plain": [
       "     A1BG A1CF A2M A2ML1 A4GALT A4GNT AA06 AAAS AACS AACSP1 ⋯ ZWILCH ZWINT ZXDA\n",
       "[1,] 0    4    0   0     0      0     0    0    0    0      ⋯ 0      0     0   \n",
       "[2,] 0    0    0   0     0      0     0    0    2    0      ⋯ 0      0     0   \n",
       "[3,] 0    0    0   0     0      0     0    0    0    0      ⋯ 0      0     0   \n",
       "[4,] 0    0    0   0     0      0     0    1    0    0      ⋯ 1      0     0   \n",
       "[5,] 0    0    0   0     0      0     0    0    0    0      ⋯ 0      0     0   \n",
       "[6,] 0    1    0   0     0      0     0    0    2    0      ⋯ 0      0     0   \n",
       "     ZXDB ZXDC ZYG11B ZYX ZZEF1 ZZZ3 pk\n",
       "[1,] 0    0    0      2   0     0    1 \n",
       "[2,] 0    0    1      4   0     1    0 \n",
       "[3,] 0    0    0      0   0     0    0 \n",
       "[4,] 0    0    1      3   1     0    0 \n",
       "[5,] 0    0    0      1   0     0    1 \n",
       "[6,] 0    0    0      1   1     1    0 "
      ]
     },
     "metadata": {},
     "output_type": "display_data"
    }
   ],
   "source": [
    "count=as.matrix(baron[,-(1:3)])\n",
    "rm(baron)\n",
    "head(count)"
   ]
  },
  {
   "cell_type": "code",
   "execution_count": 108,
   "id": "ea7474f5-860f-4f1a-87a2-2786e5bc9cb7",
   "metadata": {},
   "outputs": [
    {
     "data": {
      "text/html": [
       "<table class=\"dataframe\">\n",
       "<caption>A matrix: 3 × 20125 of type int</caption>\n",
       "<thead>\n",
       "\t<tr><th></th><th scope=col>A1BG</th><th scope=col>A1CF</th><th scope=col>A2M</th><th scope=col>A2ML1</th><th scope=col>A4GALT</th><th scope=col>A4GNT</th><th scope=col>AA06</th><th scope=col>AAAS</th><th scope=col>AACS</th><th scope=col>AACSP1</th><th scope=col>⋯</th><th scope=col>ZWILCH</th><th scope=col>ZWINT</th><th scope=col>ZXDA</th><th scope=col>ZXDB</th><th scope=col>ZXDC</th><th scope=col>ZYG11B</th><th scope=col>ZYX</th><th scope=col>ZZEF1</th><th scope=col>ZZZ3</th><th scope=col>pk</th></tr>\n",
       "</thead>\n",
       "<tbody>\n",
       "\t<tr><th scope=row>human1_lib1.final_cell_0001</th><td>0</td><td>4</td><td>0</td><td>0</td><td>0</td><td>0</td><td>0</td><td>0</td><td>0</td><td>0</td><td>⋯</td><td>0</td><td>0</td><td>0</td><td>0</td><td>0</td><td>0</td><td>2</td><td>0</td><td>0</td><td>1</td></tr>\n",
       "\t<tr><th scope=row>human1_lib1.final_cell_0002</th><td>0</td><td>0</td><td>0</td><td>0</td><td>0</td><td>0</td><td>0</td><td>0</td><td>2</td><td>0</td><td>⋯</td><td>0</td><td>0</td><td>0</td><td>0</td><td>0</td><td>1</td><td>4</td><td>0</td><td>1</td><td>0</td></tr>\n",
       "\t<tr><th scope=row>human1_lib1.final_cell_0003</th><td>0</td><td>0</td><td>0</td><td>0</td><td>0</td><td>0</td><td>0</td><td>0</td><td>0</td><td>0</td><td>⋯</td><td>0</td><td>0</td><td>0</td><td>0</td><td>0</td><td>0</td><td>0</td><td>0</td><td>0</td><td>0</td></tr>\n",
       "</tbody>\n",
       "</table>\n"
      ],
      "text/latex": [
       "A matrix: 3 × 20125 of type int\n",
       "\\begin{tabular}{r|lllllllllllllllllllll}\n",
       "  & A1BG & A1CF & A2M & A2ML1 & A4GALT & A4GNT & AA06 & AAAS & AACS & AACSP1 & ⋯ & ZWILCH & ZWINT & ZXDA & ZXDB & ZXDC & ZYG11B & ZYX & ZZEF1 & ZZZ3 & pk\\\\\n",
       "\\hline\n",
       "\thuman1\\_lib1.final\\_cell\\_0001 & 0 & 4 & 0 & 0 & 0 & 0 & 0 & 0 & 0 & 0 & ⋯ & 0 & 0 & 0 & 0 & 0 & 0 & 2 & 0 & 0 & 1\\\\\n",
       "\thuman1\\_lib1.final\\_cell\\_0002 & 0 & 0 & 0 & 0 & 0 & 0 & 0 & 0 & 2 & 0 & ⋯ & 0 & 0 & 0 & 0 & 0 & 1 & 4 & 0 & 1 & 0\\\\\n",
       "\thuman1\\_lib1.final\\_cell\\_0003 & 0 & 0 & 0 & 0 & 0 & 0 & 0 & 0 & 0 & 0 & ⋯ & 0 & 0 & 0 & 0 & 0 & 0 & 0 & 0 & 0 & 0\\\\\n",
       "\\end{tabular}\n"
      ],
      "text/markdown": [
       "\n",
       "A matrix: 3 × 20125 of type int\n",
       "\n",
       "| <!--/--> | A1BG | A1CF | A2M | A2ML1 | A4GALT | A4GNT | AA06 | AAAS | AACS | AACSP1 | ⋯ | ZWILCH | ZWINT | ZXDA | ZXDB | ZXDC | ZYG11B | ZYX | ZZEF1 | ZZZ3 | pk |\n",
       "|---|---|---|---|---|---|---|---|---|---|---|---|---|---|---|---|---|---|---|---|---|---|\n",
       "| human1_lib1.final_cell_0001 | 0 | 4 | 0 | 0 | 0 | 0 | 0 | 0 | 0 | 0 | ⋯ | 0 | 0 | 0 | 0 | 0 | 0 | 2 | 0 | 0 | 1 |\n",
       "| human1_lib1.final_cell_0002 | 0 | 0 | 0 | 0 | 0 | 0 | 0 | 0 | 2 | 0 | ⋯ | 0 | 0 | 0 | 0 | 0 | 1 | 4 | 0 | 1 | 0 |\n",
       "| human1_lib1.final_cell_0003 | 0 | 0 | 0 | 0 | 0 | 0 | 0 | 0 | 0 | 0 | ⋯ | 0 | 0 | 0 | 0 | 0 | 0 | 0 | 0 | 0 | 0 |\n",
       "\n"
      ],
      "text/plain": [
       "                            A1BG A1CF A2M A2ML1 A4GALT A4GNT AA06 AAAS AACS\n",
       "human1_lib1.final_cell_0001 0    4    0   0     0      0     0    0    0   \n",
       "human1_lib1.final_cell_0002 0    0    0   0     0      0     0    0    2   \n",
       "human1_lib1.final_cell_0003 0    0    0   0     0      0     0    0    0   \n",
       "                            AACSP1 ⋯ ZWILCH ZWINT ZXDA ZXDB ZXDC ZYG11B ZYX\n",
       "human1_lib1.final_cell_0001 0      ⋯ 0      0     0    0    0    0      2  \n",
       "human1_lib1.final_cell_0002 0      ⋯ 0      0     0    0    0    1      4  \n",
       "human1_lib1.final_cell_0003 0      ⋯ 0      0     0    0    0    0      0  \n",
       "                            ZZEF1 ZZZ3 pk\n",
       "human1_lib1.final_cell_0001 0     0    1 \n",
       "human1_lib1.final_cell_0002 0     1    0 \n",
       "human1_lib1.final_cell_0003 0     0    0 "
      ]
     },
     "metadata": {},
     "output_type": "display_data"
    }
   ],
   "source": [
    "rownames(count)=cell.meta$cell\n",
    "rownames(cell.meta)=cell.meta$cell\n",
    "colnames(cell.meta)[3]='celltype'\n",
    "head(count, 3)"
   ]
  },
  {
   "cell_type": "code",
   "execution_count": null,
   "id": "723ad65d-e1c7-4704-92ad-c76120a4211b",
   "metadata": {},
   "outputs": [],
   "source": []
  }
 ],
 "metadata": {
  "kernelspec": {
   "display_name": "R",
   "language": "R",
   "name": "ir"
  },
  "language_info": {
   "codemirror_mode": "r",
   "file_extension": ".r",
   "mimetype": "text/x-r-source",
   "name": "R",
   "pygments_lexer": "r",
   "version": "4.3.3"
  }
 },
 "nbformat": 4,
 "nbformat_minor": 5
}
